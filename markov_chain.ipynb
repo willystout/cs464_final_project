{
 "cells": [
  {
   "cell_type": "code",
   "execution_count": 7,
   "id": "e286365a",
   "metadata": {},
   "outputs": [],
   "source": [
    "import pandas as pd\n",
    "import geopandas as gpd\n",
    "import maup\n",
    "from maup import smart_repair\n",
    "import time\n",
    "import os\n",
    "import matplotlib.pyplot as plt\n",
    "import networkx as nx\n",
    "from gerrychain import Graph, Partition, proposals, updaters, constraints, accept, MarkovChain, Election\n",
    "from gerrychain.updaters import cut_edges, Tally\n",
    "from gerrychain.proposals import recom\n",
    "from gerrychain.accept import always_accept\n",
    "from functools import partial\n",
    "import time\n",
    "from gerrychain.tree import bipartition_tree"
   ]
  },
  {
   "cell_type": "code",
   "execution_count": 8,
   "id": "774219ee",
   "metadata": {},
   "outputs": [
    {
     "ename": "KeyboardInterrupt",
     "evalue": "",
     "output_type": "error",
     "traceback": [
      "\u001b[0;31m---------------------------------------------------------------------------\u001b[0m",
      "\u001b[0;31mKeyboardInterrupt\u001b[0m                         Traceback (most recent call last)",
      "Cell \u001b[0;32mIn[8], line 2\u001b[0m\n\u001b[1;32m      1\u001b[0m wi_file \u001b[38;5;241m=\u001b[39m gpd\u001b[38;5;241m.\u001b[39mread_file(\u001b[38;5;124m\"\u001b[39m\u001b[38;5;124m./WI_DATA/WI.shp\u001b[39m\u001b[38;5;124m\"\u001b[39m) \u001b[38;5;66;03m# reads a file from ct directory\u001b[39;00m\n\u001b[0;32m----> 2\u001b[0m wi_graph \u001b[38;5;241m=\u001b[39m \u001b[43mGraph\u001b[49m\u001b[38;5;241;43m.\u001b[39;49m\u001b[43mfrom_geodataframe\u001b[49m\u001b[43m(\u001b[49m\u001b[43mwi_file\u001b[49m\u001b[43m)\u001b[49m \u001b[38;5;66;03m# creates a graph from a geodataframe\u001b[39;00m\n\u001b[1;32m      3\u001b[0m \u001b[38;5;28mprint\u001b[39m(wi_graph\u001b[38;5;241m.\u001b[39mnodes()[\u001b[38;5;241m0\u001b[39m]) \u001b[38;5;66;03m# Prints out the attributes of each node in the graph\u001b[39;00m\n\u001b[1;32m      4\u001b[0m tot_pop \u001b[38;5;241m=\u001b[39m \u001b[38;5;28msum\u001b[39m([wi_graph\u001b[38;5;241m.\u001b[39mnodes()[v][\u001b[38;5;124m'\u001b[39m\u001b[38;5;124mTOTPOP\u001b[39m\u001b[38;5;124m'\u001b[39m] \u001b[38;5;28;01mfor\u001b[39;00m v \u001b[38;5;129;01min\u001b[39;00m wi_graph\u001b[38;5;241m.\u001b[39mnodes()]) \u001b[38;5;66;03m# gets the total population for ideal population calculation if the values are numbers\u001b[39;00m\n",
      "File \u001b[0;32m~/miniconda3/envs/gerry/lib/python3.11/site-packages/gerrychain/graph/graph.py:255\u001b[0m, in \u001b[0;36mGraph.from_geodataframe\u001b[0;34m(cls, dataframe, adjacency, cols_to_add, reproject, ignore_errors, crs_override)\u001b[0m\n\u001b[1;32m    251\u001b[0m     df \u001b[38;5;241m=\u001b[39m dataframe\n\u001b[1;32m    253\u001b[0m \u001b[38;5;66;03m# Generate dict of dicts of dicts with shared perimeters according\u001b[39;00m\n\u001b[1;32m    254\u001b[0m \u001b[38;5;66;03m# to the requested adjacency rule\u001b[39;00m\n\u001b[0;32m--> 255\u001b[0m adjacencies \u001b[38;5;241m=\u001b[39m \u001b[43mneighbors\u001b[49m\u001b[43m(\u001b[49m\u001b[43mdf\u001b[49m\u001b[43m,\u001b[49m\u001b[43m \u001b[49m\u001b[43madjacency\u001b[49m\u001b[43m)\u001b[49m\n\u001b[1;32m    256\u001b[0m graph \u001b[38;5;241m=\u001b[39m \u001b[38;5;28mcls\u001b[39m(adjacencies)\n\u001b[1;32m    258\u001b[0m graph\u001b[38;5;241m.\u001b[39mgeometry \u001b[38;5;241m=\u001b[39m df\u001b[38;5;241m.\u001b[39mgeometry\n",
      "File \u001b[0;32m~/miniconda3/envs/gerry/lib/python3.11/site-packages/gerrychain/graph/adjacency.py:24\u001b[0m, in \u001b[0;36mneighbors\u001b[0;34m(df, adjacency)\u001b[0m\n\u001b[1;32m     18\u001b[0m \u001b[38;5;28;01mif\u001b[39;00m adjacency \u001b[38;5;129;01mnot\u001b[39;00m \u001b[38;5;129;01min\u001b[39;00m (\u001b[38;5;124m\"\u001b[39m\u001b[38;5;124mrook\u001b[39m\u001b[38;5;124m\"\u001b[39m, \u001b[38;5;124m\"\u001b[39m\u001b[38;5;124mqueen\u001b[39m\u001b[38;5;124m\"\u001b[39m):\n\u001b[1;32m     19\u001b[0m     \u001b[38;5;28;01mraise\u001b[39;00m \u001b[38;5;167;01mValueError\u001b[39;00m(\n\u001b[1;32m     20\u001b[0m         \u001b[38;5;124m\"\u001b[39m\u001b[38;5;124mThe adjacency parameter provided is not supported. \u001b[39m\u001b[38;5;124m\"\u001b[39m\n\u001b[1;32m     21\u001b[0m         \u001b[38;5;124m'\u001b[39m\u001b[38;5;124mWe support \u001b[39m\u001b[38;5;124m\"\u001b[39m\u001b[38;5;124mqueen\u001b[39m\u001b[38;5;124m\"\u001b[39m\u001b[38;5;124m or \u001b[39m\u001b[38;5;124m\"\u001b[39m\u001b[38;5;124mrook\u001b[39m\u001b[38;5;124m\"\u001b[39m\u001b[38;5;124m adjacency.\u001b[39m\u001b[38;5;124m'\u001b[39m\n\u001b[1;32m     22\u001b[0m     )\n\u001b[0;32m---> 24\u001b[0m \u001b[38;5;28;01mreturn\u001b[39;00m \u001b[43madjacencies\u001b[49m\u001b[43m[\u001b[49m\u001b[43madjacency\u001b[49m\u001b[43m]\u001b[49m\u001b[43m(\u001b[49m\u001b[43mdf\u001b[49m\u001b[38;5;241;43m.\u001b[39;49m\u001b[43mgeometry\u001b[49m\u001b[43m)\u001b[49m\n",
      "File \u001b[0;32m~/miniconda3/envs/gerry/lib/python3.11/site-packages/gerrychain/graph/adjacency.py:149\u001b[0m, in \u001b[0;36mrook\u001b[0;34m(geometries)\u001b[0m\n\u001b[1;32m    139\u001b[0m \u001b[38;5;28;01mdef\u001b[39;00m\u001b[38;5;250m \u001b[39m\u001b[38;5;21mrook\u001b[39m(geometries):\n\u001b[1;32m    140\u001b[0m \u001b[38;5;250m    \u001b[39m\u001b[38;5;124;03m\"\"\"\u001b[39;00m\n\u001b[1;32m    141\u001b[0m \u001b[38;5;124;03m    :param geometries: A Shapeley geometry object.\u001b[39;00m\n\u001b[1;32m    142\u001b[0m \u001b[38;5;124;03m    :type geometries: shapely.geometry.BaseGeometry\u001b[39;00m\n\u001b[0;32m   (...)\u001b[0m\n\u001b[1;32m    145\u001b[0m \u001b[38;5;124;03m    :rtype: Dict\u001b[39;00m\n\u001b[1;32m    146\u001b[0m \u001b[38;5;124;03m    \"\"\"\u001b[39;00m\n\u001b[1;32m    147\u001b[0m     \u001b[38;5;28;01mreturn\u001b[39;00m {\n\u001b[1;32m    148\u001b[0m         i: {j: data \u001b[38;5;28;01mfor\u001b[39;00m j, data \u001b[38;5;129;01min\u001b[39;00m neighbors\u001b[38;5;241m.\u001b[39mitems() \u001b[38;5;28;01mif\u001b[39;00m data[\u001b[38;5;124m\"\u001b[39m\u001b[38;5;124mshared_perim\u001b[39m\u001b[38;5;124m\"\u001b[39m] \u001b[38;5;241m>\u001b[39m \u001b[38;5;241m0\u001b[39m}\n\u001b[0;32m--> 149\u001b[0m         \u001b[38;5;28;01mfor\u001b[39;00m i, neighbors \u001b[38;5;129;01min\u001b[39;00m \u001b[43mqueen\u001b[49m\u001b[43m(\u001b[49m\u001b[43mgeometries\u001b[49m\u001b[43m)\u001b[49m\u001b[38;5;241m.\u001b[39mitems()\n\u001b[1;32m    150\u001b[0m     }\n",
      "File \u001b[0;32m~/miniconda3/envs/gerry/lib/python3.11/site-packages/gerrychain/graph/adjacency.py:129\u001b[0m, in \u001b[0;36mqueen\u001b[0;34m(geometries)\u001b[0m\n\u001b[1;32m    120\u001b[0m \u001b[38;5;250m\u001b[39m\u001b[38;5;124;03m\"\"\"\u001b[39;00m\n\u001b[1;32m    121\u001b[0m \u001b[38;5;124;03m:param geometries: A Shapeley geometry object.\u001b[39;00m\n\u001b[1;32m    122\u001b[0m \u001b[38;5;124;03m:type geometries: shapely.geometry.BaseGeometry\u001b[39;00m\n\u001b[0;32m   (...)\u001b[0m\n\u001b[1;32m    125\u001b[0m \u001b[38;5;124;03m:rtype: Dict\u001b[39;00m\n\u001b[1;32m    126\u001b[0m \u001b[38;5;124;03m\"\"\"\u001b[39;00m\n\u001b[1;32m    127\u001b[0m intersection_pairs \u001b[38;5;241m=\u001b[39m warn_for_overlaps(intersections_with_neighbors(geometries))\n\u001b[0;32m--> 129\u001b[0m \u001b[38;5;28;01mreturn\u001b[39;00m \u001b[43m{\u001b[49m\n\u001b[1;32m    130\u001b[0m \u001b[43m    \u001b[49m\u001b[43mi\u001b[49m\u001b[43m:\u001b[49m\u001b[43m \u001b[49m\u001b[43m{\u001b[49m\n\u001b[1;32m    131\u001b[0m \u001b[43m        \u001b[49m\u001b[43mj\u001b[49m\u001b[43m:\u001b[49m\u001b[43m \u001b[49m\u001b[43m{\u001b[49m\u001b[38;5;124;43m\"\u001b[39;49m\u001b[38;5;124;43mshared_perim\u001b[39;49m\u001b[38;5;124;43m\"\u001b[39;49m\u001b[43m:\u001b[49m\u001b[43m \u001b[49m\u001b[43mintersection\u001b[49m\u001b[38;5;241;43m.\u001b[39;49m\u001b[43mlength\u001b[49m\u001b[43m}\u001b[49m\n\u001b[1;32m    132\u001b[0m \u001b[43m        \u001b[49m\u001b[38;5;28;43;01mfor\u001b[39;49;00m\u001b[43m \u001b[49m\u001b[43mj\u001b[49m\u001b[43m,\u001b[49m\u001b[43m \u001b[49m\u001b[43mintersection\u001b[49m\u001b[43m \u001b[49m\u001b[38;5;129;43;01min\u001b[39;49;00m\u001b[43m \u001b[49m\u001b[43mintersections\u001b[49m\u001b[38;5;241;43m.\u001b[39;49m\u001b[43mitems\u001b[49m\u001b[43m(\u001b[49m\u001b[43m)\u001b[49m\n\u001b[1;32m    133\u001b[0m \u001b[43m        \u001b[49m\u001b[38;5;28;43;01mif\u001b[39;49;00m\u001b[43m \u001b[49m\u001b[43m(\u001b[49m\u001b[38;5;129;43;01mnot\u001b[39;49;00m\u001b[43m \u001b[49m\u001b[43mintersection\u001b[49m\u001b[38;5;241;43m.\u001b[39;49m\u001b[43mis_empty\u001b[49m\u001b[43m)\u001b[49m\n\u001b[1;32m    134\u001b[0m \u001b[43m    \u001b[49m\u001b[43m}\u001b[49m\n\u001b[1;32m    135\u001b[0m \u001b[43m    \u001b[49m\u001b[38;5;28;43;01mfor\u001b[39;49;00m\u001b[43m \u001b[49m\u001b[43mi\u001b[49m\u001b[43m,\u001b[49m\u001b[43m \u001b[49m\u001b[43mintersections\u001b[49m\u001b[43m \u001b[49m\u001b[38;5;129;43;01min\u001b[39;49;00m\u001b[43m \u001b[49m\u001b[43mintersection_pairs\u001b[49m\n\u001b[1;32m    136\u001b[0m \u001b[43m\u001b[49m\u001b[43m}\u001b[49m\n",
      "File \u001b[0;32m~/miniconda3/envs/gerry/lib/python3.11/site-packages/gerrychain/graph/adjacency.py:129\u001b[0m, in \u001b[0;36m<dictcomp>\u001b[0;34m(.0)\u001b[0m\n\u001b[1;32m    120\u001b[0m \u001b[38;5;250m\u001b[39m\u001b[38;5;124;03m\"\"\"\u001b[39;00m\n\u001b[1;32m    121\u001b[0m \u001b[38;5;124;03m:param geometries: A Shapeley geometry object.\u001b[39;00m\n\u001b[1;32m    122\u001b[0m \u001b[38;5;124;03m:type geometries: shapely.geometry.BaseGeometry\u001b[39;00m\n\u001b[0;32m   (...)\u001b[0m\n\u001b[1;32m    125\u001b[0m \u001b[38;5;124;03m:rtype: Dict\u001b[39;00m\n\u001b[1;32m    126\u001b[0m \u001b[38;5;124;03m\"\"\"\u001b[39;00m\n\u001b[1;32m    127\u001b[0m intersection_pairs \u001b[38;5;241m=\u001b[39m warn_for_overlaps(intersections_with_neighbors(geometries))\n\u001b[0;32m--> 129\u001b[0m \u001b[38;5;28;01mreturn\u001b[39;00m \u001b[43m{\u001b[49m\n\u001b[1;32m    130\u001b[0m \u001b[43m    \u001b[49m\u001b[43mi\u001b[49m\u001b[43m:\u001b[49m\u001b[43m \u001b[49m\u001b[43m{\u001b[49m\n\u001b[1;32m    131\u001b[0m \u001b[43m        \u001b[49m\u001b[43mj\u001b[49m\u001b[43m:\u001b[49m\u001b[43m \u001b[49m\u001b[43m{\u001b[49m\u001b[38;5;124;43m\"\u001b[39;49m\u001b[38;5;124;43mshared_perim\u001b[39;49m\u001b[38;5;124;43m\"\u001b[39;49m\u001b[43m:\u001b[49m\u001b[43m \u001b[49m\u001b[43mintersection\u001b[49m\u001b[38;5;241;43m.\u001b[39;49m\u001b[43mlength\u001b[49m\u001b[43m}\u001b[49m\n\u001b[1;32m    132\u001b[0m \u001b[43m        \u001b[49m\u001b[38;5;28;43;01mfor\u001b[39;49;00m\u001b[43m \u001b[49m\u001b[43mj\u001b[49m\u001b[43m,\u001b[49m\u001b[43m \u001b[49m\u001b[43mintersection\u001b[49m\u001b[43m \u001b[49m\u001b[38;5;129;43;01min\u001b[39;49;00m\u001b[43m \u001b[49m\u001b[43mintersections\u001b[49m\u001b[38;5;241;43m.\u001b[39;49m\u001b[43mitems\u001b[49m\u001b[43m(\u001b[49m\u001b[43m)\u001b[49m\n\u001b[1;32m    133\u001b[0m \u001b[43m        \u001b[49m\u001b[38;5;28;43;01mif\u001b[39;49;00m\u001b[43m \u001b[49m\u001b[43m(\u001b[49m\u001b[38;5;129;43;01mnot\u001b[39;49;00m\u001b[43m \u001b[49m\u001b[43mintersection\u001b[49m\u001b[38;5;241;43m.\u001b[39;49m\u001b[43mis_empty\u001b[49m\u001b[43m)\u001b[49m\n\u001b[1;32m    134\u001b[0m \u001b[43m    \u001b[49m\u001b[43m}\u001b[49m\n\u001b[1;32m    135\u001b[0m \u001b[43m    \u001b[49m\u001b[38;5;28;43;01mfor\u001b[39;49;00m\u001b[43m \u001b[49m\u001b[43mi\u001b[49m\u001b[43m,\u001b[49m\u001b[43m \u001b[49m\u001b[43mintersections\u001b[49m\u001b[43m \u001b[49m\u001b[38;5;129;43;01min\u001b[39;49;00m\u001b[43m \u001b[49m\u001b[43mintersection_pairs\u001b[49m\n\u001b[1;32m    136\u001b[0m \u001b[43m\u001b[49m\u001b[43m}\u001b[49m\n",
      "File \u001b[0;32m~/miniconda3/envs/gerry/lib/python3.11/site-packages/gerrychain/graph/adjacency.py:102\u001b[0m, in \u001b[0;36mwarn_for_overlaps\u001b[0;34m(intersection_pairs)\u001b[0m\n\u001b[1;32m     91\u001b[0m \u001b[38;5;250m\u001b[39m\u001b[38;5;124;03m\"\"\"\u001b[39;00m\n\u001b[1;32m     92\u001b[0m \u001b[38;5;124;03m:param intersection_pairs: An iterable of tuples of\u001b[39;00m\n\u001b[1;32m     93\u001b[0m \u001b[38;5;124;03m    the form (id, {neighbor_id: intersection})\u001b[39;00m\n\u001b[0;32m   (...)\u001b[0m\n\u001b[1;32m     99\u001b[0m \u001b[38;5;124;03m:raises: UserWarning if there are overlaps among the given polygons\u001b[39;00m\n\u001b[1;32m    100\u001b[0m \u001b[38;5;124;03m\"\"\"\u001b[39;00m\n\u001b[1;32m    101\u001b[0m overlaps \u001b[38;5;241m=\u001b[39m \u001b[38;5;28mset\u001b[39m()\n\u001b[0;32m--> 102\u001b[0m \u001b[43m\u001b[49m\u001b[38;5;28;43;01mfor\u001b[39;49;00m\u001b[43m \u001b[49m\u001b[43mi\u001b[49m\u001b[43m,\u001b[49m\u001b[43m \u001b[49m\u001b[43mintersections\u001b[49m\u001b[43m \u001b[49m\u001b[38;5;129;43;01min\u001b[39;49;00m\u001b[43m \u001b[49m\u001b[43mintersection_pairs\u001b[49m\u001b[43m:\u001b[49m\n\u001b[1;32m    103\u001b[0m \u001b[43m    \u001b[49m\u001b[43moverlaps\u001b[49m\u001b[38;5;241;43m.\u001b[39;49m\u001b[43mupdate\u001b[49m\u001b[43m(\u001b[49m\n\u001b[1;32m    104\u001b[0m \u001b[43m        \u001b[49m\u001b[38;5;28;43mset\u001b[39;49m\u001b[43m(\u001b[49m\n\u001b[1;32m    105\u001b[0m \u001b[43m            \u001b[49m\u001b[38;5;28;43mtuple\u001b[39;49m\u001b[43m(\u001b[49m\u001b[38;5;28;43msorted\u001b[39;49m\u001b[43m(\u001b[49m\u001b[43m[\u001b[49m\u001b[43mi\u001b[49m\u001b[43m,\u001b[49m\u001b[43m \u001b[49m\u001b[43mj\u001b[49m\u001b[43m]\u001b[49m\u001b[43m)\u001b[49m\u001b[43m)\u001b[49m\n\u001b[0;32m   (...)\u001b[0m\n\u001b[1;32m    108\u001b[0m \u001b[43m        \u001b[49m\u001b[43m)\u001b[49m\n\u001b[1;32m    109\u001b[0m \u001b[43m    \u001b[49m\u001b[43m)\u001b[49m\n\u001b[1;32m    110\u001b[0m \u001b[43m    \u001b[49m\u001b[38;5;28;43;01myield\u001b[39;49;00m\u001b[43m \u001b[49m\u001b[43m(\u001b[49m\u001b[43mi\u001b[49m\u001b[43m,\u001b[49m\u001b[43m \u001b[49m\u001b[43mintersections\u001b[49m\u001b[43m)\u001b[49m\n",
      "File \u001b[0;32m~/miniconda3/envs/gerry/lib/python3.11/site-packages/gerrychain/graph/adjacency.py:84\u001b[0m, in \u001b[0;36mintersections_with_neighbors\u001b[0;34m(geometries)\u001b[0m\n\u001b[1;32m     73\u001b[0m \u001b[38;5;250m\u001b[39m\u001b[38;5;124;03m\"\"\"\u001b[39;00m\n\u001b[1;32m     74\u001b[0m \u001b[38;5;124;03mGenerator yielding tuples of the form (id, {neighbor_id: intersection}).\u001b[39;00m\n\u001b[1;32m     75\u001b[0m \u001b[38;5;124;03mThe intersections may be empty!\u001b[39;00m\n\u001b[0;32m   (...)\u001b[0m\n\u001b[1;32m     81\u001b[0m \u001b[38;5;124;03m:rtype: Generator\u001b[39;00m\n\u001b[1;32m     82\u001b[0m \u001b[38;5;124;03m\"\"\"\u001b[39;00m\n\u001b[1;32m     83\u001b[0m \u001b[38;5;28;01mfor\u001b[39;00m i, neighbors \u001b[38;5;129;01min\u001b[39;00m neighboring_geometries(geometries):\n\u001b[0;32m---> 84\u001b[0m     intersections \u001b[38;5;241m=\u001b[39m \u001b[43m{\u001b[49m\n\u001b[1;32m     85\u001b[0m \u001b[43m        \u001b[49m\u001b[43mj\u001b[49m\u001b[43m:\u001b[49m\u001b[43m \u001b[49m\u001b[43mgeometries\u001b[49m\u001b[43m[\u001b[49m\u001b[43mi\u001b[49m\u001b[43m]\u001b[49m\u001b[38;5;241;43m.\u001b[39;49m\u001b[43mintersection\u001b[49m\u001b[43m(\u001b[49m\u001b[43mgeometries\u001b[49m\u001b[43m[\u001b[49m\u001b[43mj\u001b[49m\u001b[43m]\u001b[49m\u001b[43m)\u001b[49m\u001b[43m \u001b[49m\u001b[38;5;28;43;01mfor\u001b[39;49;00m\u001b[43m \u001b[49m\u001b[43mj\u001b[49m\u001b[43m \u001b[49m\u001b[38;5;129;43;01min\u001b[39;49;00m\u001b[43m \u001b[49m\u001b[43mneighbors\u001b[49m\n\u001b[1;32m     86\u001b[0m \u001b[43m    \u001b[49m\u001b[43m}\u001b[49m\n\u001b[1;32m     87\u001b[0m     \u001b[38;5;28;01myield\u001b[39;00m (i, intersections)\n",
      "File \u001b[0;32m~/miniconda3/envs/gerry/lib/python3.11/site-packages/gerrychain/graph/adjacency.py:85\u001b[0m, in \u001b[0;36m<dictcomp>\u001b[0;34m(.0)\u001b[0m\n\u001b[1;32m     73\u001b[0m \u001b[38;5;250m\u001b[39m\u001b[38;5;124;03m\"\"\"\u001b[39;00m\n\u001b[1;32m     74\u001b[0m \u001b[38;5;124;03mGenerator yielding tuples of the form (id, {neighbor_id: intersection}).\u001b[39;00m\n\u001b[1;32m     75\u001b[0m \u001b[38;5;124;03mThe intersections may be empty!\u001b[39;00m\n\u001b[0;32m   (...)\u001b[0m\n\u001b[1;32m     81\u001b[0m \u001b[38;5;124;03m:rtype: Generator\u001b[39;00m\n\u001b[1;32m     82\u001b[0m \u001b[38;5;124;03m\"\"\"\u001b[39;00m\n\u001b[1;32m     83\u001b[0m \u001b[38;5;28;01mfor\u001b[39;00m i, neighbors \u001b[38;5;129;01min\u001b[39;00m neighboring_geometries(geometries):\n\u001b[1;32m     84\u001b[0m     intersections \u001b[38;5;241m=\u001b[39m {\n\u001b[0;32m---> 85\u001b[0m         j: \u001b[43mgeometries\u001b[49m\u001b[43m[\u001b[49m\u001b[43mi\u001b[49m\u001b[43m]\u001b[49m\u001b[38;5;241;43m.\u001b[39;49m\u001b[43mintersection\u001b[49m\u001b[43m(\u001b[49m\u001b[43mgeometries\u001b[49m\u001b[43m[\u001b[49m\u001b[43mj\u001b[49m\u001b[43m]\u001b[49m\u001b[43m)\u001b[49m \u001b[38;5;28;01mfor\u001b[39;00m j \u001b[38;5;129;01min\u001b[39;00m neighbors\n\u001b[1;32m     86\u001b[0m     }\n\u001b[1;32m     87\u001b[0m     \u001b[38;5;28;01myield\u001b[39;00m (i, intersections)\n",
      "File \u001b[0;32m~/miniconda3/envs/gerry/lib/python3.11/site-packages/shapely/geometry/base.py:599\u001b[0m, in \u001b[0;36mBaseGeometry.intersection\u001b[0;34m(self, other, grid_size)\u001b[0m\n\u001b[1;32m    593\u001b[0m \u001b[38;5;28;01mdef\u001b[39;00m\u001b[38;5;250m \u001b[39m\u001b[38;5;21mintersection\u001b[39m(\u001b[38;5;28mself\u001b[39m, other, grid_size\u001b[38;5;241m=\u001b[39m\u001b[38;5;28;01mNone\u001b[39;00m):\n\u001b[1;32m    594\u001b[0m \u001b[38;5;250m    \u001b[39m\u001b[38;5;124;03m\"\"\"\u001b[39;00m\n\u001b[1;32m    595\u001b[0m \u001b[38;5;124;03m    Returns the intersection of the geometries.\u001b[39;00m\n\u001b[1;32m    596\u001b[0m \n\u001b[1;32m    597\u001b[0m \u001b[38;5;124;03m    Refer to `shapely.intersection` for full documentation.\u001b[39;00m\n\u001b[1;32m    598\u001b[0m \u001b[38;5;124;03m    \"\"\"\u001b[39;00m\n\u001b[0;32m--> 599\u001b[0m     \u001b[38;5;28;01mreturn\u001b[39;00m \u001b[43mshapely\u001b[49m\u001b[38;5;241;43m.\u001b[39;49m\u001b[43mintersection\u001b[49m\u001b[43m(\u001b[49m\u001b[38;5;28;43mself\u001b[39;49m\u001b[43m,\u001b[49m\u001b[43m \u001b[49m\u001b[43mother\u001b[49m\u001b[43m,\u001b[49m\u001b[43m \u001b[49m\u001b[43mgrid_size\u001b[49m\u001b[38;5;241;43m=\u001b[39;49m\u001b[43mgrid_size\u001b[49m\u001b[43m)\u001b[49m\n",
      "File \u001b[0;32m~/miniconda3/envs/gerry/lib/python3.11/site-packages/shapely/decorators.py:77\u001b[0m, in \u001b[0;36mmultithreading_enabled.<locals>.wrapped\u001b[0;34m(*args, **kwargs)\u001b[0m\n\u001b[1;32m     75\u001b[0m     \u001b[38;5;28;01mfor\u001b[39;00m arr \u001b[38;5;129;01min\u001b[39;00m array_args:\n\u001b[1;32m     76\u001b[0m         arr\u001b[38;5;241m.\u001b[39mflags\u001b[38;5;241m.\u001b[39mwriteable \u001b[38;5;241m=\u001b[39m \u001b[38;5;28;01mFalse\u001b[39;00m\n\u001b[0;32m---> 77\u001b[0m     \u001b[38;5;28;01mreturn\u001b[39;00m \u001b[43mfunc\u001b[49m\u001b[43m(\u001b[49m\u001b[38;5;241;43m*\u001b[39;49m\u001b[43margs\u001b[49m\u001b[43m,\u001b[49m\u001b[43m \u001b[49m\u001b[38;5;241;43m*\u001b[39;49m\u001b[38;5;241;43m*\u001b[39;49m\u001b[43mkwargs\u001b[49m\u001b[43m)\u001b[49m\n\u001b[1;32m     78\u001b[0m \u001b[38;5;28;01mfinally\u001b[39;00m:\n\u001b[1;32m     79\u001b[0m     \u001b[38;5;28;01mfor\u001b[39;00m arr, old_flag \u001b[38;5;129;01min\u001b[39;00m \u001b[38;5;28mzip\u001b[39m(array_args, old_flags):\n",
      "File \u001b[0;32m~/miniconda3/envs/gerry/lib/python3.11/site-packages/shapely/set_operations.py:131\u001b[0m, in \u001b[0;36mintersection\u001b[0;34m(a, b, grid_size, **kwargs)\u001b[0m\n\u001b[1;32m    127\u001b[0m         \u001b[38;5;28;01mraise\u001b[39;00m \u001b[38;5;167;01mValueError\u001b[39;00m(\u001b[38;5;124m\"\u001b[39m\u001b[38;5;124mgrid_size parameter only accepts scalar values\u001b[39m\u001b[38;5;124m\"\u001b[39m)\n\u001b[1;32m    129\u001b[0m     \u001b[38;5;28;01mreturn\u001b[39;00m lib\u001b[38;5;241m.\u001b[39mintersection_prec(a, b, grid_size, \u001b[38;5;241m*\u001b[39m\u001b[38;5;241m*\u001b[39mkwargs)\n\u001b[0;32m--> 131\u001b[0m \u001b[38;5;28;01mreturn\u001b[39;00m \u001b[43mlib\u001b[49m\u001b[38;5;241;43m.\u001b[39;49m\u001b[43mintersection\u001b[49m\u001b[43m(\u001b[49m\u001b[43ma\u001b[49m\u001b[43m,\u001b[49m\u001b[43m \u001b[49m\u001b[43mb\u001b[49m\u001b[43m,\u001b[49m\u001b[43m \u001b[49m\u001b[38;5;241;43m*\u001b[39;49m\u001b[38;5;241;43m*\u001b[39;49m\u001b[43mkwargs\u001b[49m\u001b[43m)\u001b[49m\n",
      "\u001b[0;31mKeyboardInterrupt\u001b[0m: "
     ]
    }
   ],
   "source": [
    "wi_file = gpd.read_file(\"./WI_DATA/WI.shp\") # reads a file from ct directory\n",
    "wi_graph = Graph.from_geodataframe(wi_file) # creates a graph from a geodataframe\n",
    "print(wi_graph.nodes()[0]) # Prints out the attributes of each node in the graph\n",
    "tot_pop = sum([wi_graph.nodes()[v]['TOTPOP'] for v in wi_graph.nodes()]) # gets the total population for ideal population calculation if the values are numbers\n",
    "print(tot_pop)"
   ]
  },
  {
   "cell_type": "code",
   "execution_count": null,
   "id": "eecba7ff",
   "metadata": {},
   "outputs": [],
   "source": [
    "elections = [Election(\"2020 Presidential\", {\"Democratic\": \"G20PRED\", \"Republican\": \"G20PRER\"})]"
   ]
  },
  {
   "cell_type": "code",
   "execution_count": null,
   "id": "6bf487a8",
   "metadata": {},
   "outputs": [
    {
     "name": "stdout",
     "output_type": "stream",
     "text": [
      "{'3': 736959.0, '2': 736822.0, '6': 736545.0, '4': 736395.0, '1': 736286.0, '8': 736833.0, '7': 736572.0, '5': 737306.0}\n",
      "{'3': 185134, '2': 310915, '6': 171907, '4': 260053, '1': 189936, '8': 170943, '7': 165821, '5': 176157}\n",
      "{'3': 203656, '2': 125964, '6': 237024, '4': 78197, '1': 197794, '8': 234798, '7': 250139, '5': 282612}\n",
      "736714.75\n"
     ]
    }
   ],
   "source": [
    "my_updaters = {\n",
    "    \"our cut edges\": cut_edges, # number of cut edges in a graph\n",
    "    \"district population\": Tally(\"TOTPOP\", alias = \"district population\"), # across districts, total population \n",
    "    \"democratic votes\": Tally(\"G20PRED\", alias = \"democratic votes\"), # across districts, number of democratic votes\n",
    "    \"republican votes\": Tally(\"G20PRER\", alias = \"republican votes\"), # across districts, number of republican votes\n",
    "}\n",
    "election_updaters = {election.name: election for election in elections}\n",
    "my_updaters.update(election_updaters)\n",
    "ct_partition = Partition( # creates a partition for the IL graph\n",
    "    wi_graph, # dual graph\n",
    "    assignment = \"CD\", # initial districting plan\n",
    "    updaters=my_updaters)\n",
    "print(ct_partition[\"district population\"]) # Prints the population for each district\n",
    "print(ct_partition[\"democratic votes\"]) # prints the number of democratic votes for each district\n",
    "print(ct_partition[\"republican votes\"]) # prints the number of republican votes for each district\n",
    "ideal_pop = tot_pop/8 # calculates the ideal population \n",
    "pop_tolerance = 0.05 # population tolerance for the proposal\n",
    "print(ideal_pop)"
   ]
  },
  {
   "cell_type": "code",
   "execution_count": null,
   "id": "6d739180",
   "metadata": {},
   "outputs": [],
   "source": [
    "rw_proposal = partial(recom, ## how you choose a next districting plan\n",
    "                      pop_col = \"TOTPOP\", ## What data describes population? \n",
    "                      pop_target = ideal_pop, ## What the target/ideal population is for each district \n",
    "                                              ## (we calculated ideal pop above)\n",
    "                      epsilon = pop_tolerance,  ## how far from ideal population you can deviate\n",
    "                                              ## (we set pop_tolerance above)\n",
    "                      node_repeats = 100, ## number of times to repeat bipartition.  Can increase if you get a BipartitionWarning\n",
    "                    #   allow_pair_reselection=True,\n",
    "                        method = partial(\n",
    "                        bipartition_tree,\n",
    "                        max_attempts=100,\n",
    "                        allow_pair_reselection=True  # <-- This is the only change\n",
    "    )\n",
    "                      )\n",
    "population_constraint = constraints.within_percent_of_ideal_population(\n",
    "    ct_partition, \n",
    "    pop_tolerance, \n",
    "    pop_key=\"district population\")"
   ]
  },
  {
   "cell_type": "code",
   "execution_count": 10,
   "id": "6a2fcfe9",
   "metadata": {},
   "outputs": [
    {
     "name": "stdout",
     "output_type": "stream",
     "text": [
      "At Step:  500 Time:  3.494972217082977\n",
      "At Step:  1000 Time:  6.400694115956624\n",
      "At Step:  1500 Time:  14.961679768562316\n",
      "At Step:  2000 Time:  18.442224049568175\n",
      "At Step:  2500 Time:  21.776914850870767\n",
      "At Step:  3000 Time:  25.03443425099055\n",
      "At Step:  3500 Time:  28.056384483973186\n",
      "At Step:  4000 Time:  31.672968900203706\n",
      "At Step:  4500 Time:  35.150061416625974\n",
      "At Step:  5000 Time:  38.617221184571584\n",
      "At Step:  5500 Time:  41.785707485675815\n",
      "At Step:  6000 Time:  44.83206521670024\n",
      "At Step:  6500 Time:  47.738905215263365\n",
      "At Step:  7000 Time:  50.88767126401265\n",
      "At Step:  7500 Time:  54.50783616701762\n",
      "At Step:  8000 Time:  57.817925198872885\n",
      "At Step:  8500 Time:  61.17828428347905\n",
      "At Step:  9000 Time:  64.2724308848381\n",
      "At Step:  9500 Time:  67.61486094792684\n",
      "The time of execution of above program is : 71.27100433508555 mins\n"
     ]
    }
   ],
   "source": [
    "# found this code in gerrychain_intro_complete-2.ipynb\n",
    "start_time = time.time()\n",
    "random_walk = MarkovChain( # random walk for 50000 steps\n",
    "    proposal = rw_proposal, \n",
    "    constraints = [population_constraint], # Could add additional constraints here\n",
    "    accept = always_accept, # Accept every proposed plan that meets the population constraints\n",
    "    initial_state = ct_partition, \n",
    "    total_steps = 10000)\n",
    "\n",
    "final_df = pd.DataFrame([])\n",
    "\n",
    "for step, part in enumerate(random_walk):\n",
    "    if(step != 0 and step % 500 == 0):\n",
    "        print(\"At Step: \", step, \"Time: \", (time.time() - start_time)/60)\n",
    "    final_df.at[step, \"Cut Edges\"] = len(part[\"our cut edges\"]) ## Cut edge ensemble\n",
    "    final_df.at[step, \"Democratic Districts\"] = part[\"2020 Presidential\"].seats(\"Democratic\") ## Democratic Districts ensemble\n",
    "    final_df.at[step, \"Republican Districts\"] = part[\"2020 Presidential\"].seats(\"Republican\") ## Republican Districts ensemble\n",
    "    final_df.at[step, \"Efficiency Gap\"] = part[\"2020 Presidential\"].efficiency_gap() ## Efficiency Gap ensemble\n",
    "\n",
    "end_time = time.time()\n",
    "\n",
    "print(\"The time of execution of above program is :\",\n",
    "      (end_time-start_time)/60, \"mins\")\n",
    "\n",
    "final_df.to_csv('markov_chain_ensemble_results.csv', index=False)"
   ]
  },
  {
   "cell_type": "code",
   "execution_count": 11,
   "id": "d1a886ff",
   "metadata": {},
   "outputs": [
    {
     "name": "stdout",
     "output_type": "stream",
     "text": [
      "0       672.0\n",
      "1       681.0\n",
      "2       697.0\n",
      "3       703.0\n",
      "4       706.0\n",
      "        ...  \n",
      "9995    729.0\n",
      "9996    728.0\n",
      "9997    724.0\n",
      "9998    753.0\n",
      "9999    745.0\n",
      "Name: Cut Edges, Length: 10000, dtype: float64\n",
      "0       2.0\n",
      "1       2.0\n",
      "2       2.0\n",
      "3       2.0\n",
      "4       2.0\n",
      "       ... \n",
      "9995    2.0\n",
      "9996    2.0\n",
      "9997    2.0\n",
      "9998    2.0\n",
      "9999    2.0\n",
      "Name: Democratic Districts, Length: 10000, dtype: float64\n",
      "0       6.0\n",
      "1       6.0\n",
      "2       6.0\n",
      "3       6.0\n",
      "4       6.0\n",
      "       ... \n",
      "9995    6.0\n",
      "9996    6.0\n",
      "9997    6.0\n",
      "9998    6.0\n",
      "9999    6.0\n",
      "Name: Republican Districts, Length: 10000, dtype: float64\n",
      "0      -0.267221\n",
      "1      -0.260560\n",
      "2      -0.265464\n",
      "3      -0.270392\n",
      "4      -0.268053\n",
      "          ...   \n",
      "9995   -0.266546\n",
      "9996   -0.263245\n",
      "9997   -0.262898\n",
      "9998   -0.262898\n",
      "9999   -0.262898\n",
      "Name: Efficiency Gap, Length: 10000, dtype: float64\n"
     ]
    }
   ],
   "source": [
    "print(final_df[\"Cut Edges\"])\n",
    "print(final_df[\"Democratic Districts\"])\n",
    "print(final_df[\"Republican Districts\"])\n",
    "print(final_df[\"Efficiency Gap\"])"
   ]
  },
  {
   "cell_type": "code",
   "execution_count": 12,
   "id": "1fdd3eea",
   "metadata": {},
   "outputs": [
    {
     "data": {
      "image/png": "[encoded data removed]",
      "text/plain": [
       "<Figure size 640x480 with 1 Axes>"
      ]
     },
     "metadata": {},
     "output_type": "display_data"
    }
   ],
   "source": [
    "plt.figure()\n",
    "plt.hist(final_df[\"Cut Edges\"], align = 'left')\n",
    "plt.show()"
   ]
  },
  {
   "cell_type": "code",
   "execution_count": null,
   "id": "d48dfb14",
   "metadata": {},
   "outputs": [],
   "source": []
  }
 ],
 "metadata": {
  "kernelspec": {
   "display_name": "gerry",
   "language": "python",
   "name": "python3"
  },
  "language_info": {
   "codemirror_mode": {
    "name": "ipython",
    "version": 3
   },
   "file_extension": ".py",
   "mimetype": "text/x-python",
   "name": "python",
   "nbconvert_exporter": "python",
   "pygments_lexer": "ipython3",
   "version": "3.11.4"
  }
 },
 "nbformat": 4,
 "nbformat_minor": 5
}
