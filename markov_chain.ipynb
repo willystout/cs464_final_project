{
 "cells": [
  {
   "cell_type": "code",
   "execution_count": 3,
   "id": "e286365a",
   "metadata": {},
   "outputs": [],
   "source": [
    "import pandas as pd\n",
    "import geopandas as gpd\n",
    "import maup\n",
    "from maup import smart_repair\n",
    "import time\n",
    "import os\n",
    "import matplotlib.pyplot as plt\n",
    "import networkx as nx\n",
    "from gerrychain import Graph, Partition, proposals, updaters, constraints, accept, MarkovChain, Election\n",
    "from gerrychain.updaters import cut_edges, Tally\n",
    "from gerrychain.proposals import recom\n",
    "from gerrychain.accept import always_accept\n",
    "from functools import partial\n",
    "import time\n",
    "from gerrychain.tree import bipartition_tree"
   ]
  },
  {
   "cell_type": "code",
   "execution_count": 4,
   "id": "774219ee",
   "metadata": {},
   "outputs": [
    {
     "name": "stderr",
     "output_type": "stream",
     "text": [
      "/Users/williamstout/miniconda3/envs/gerry/lib/python3.11/site-packages/gerrychain/graph/graph.py:406: UserWarning: Found islands (degree-0 nodes). Indices of islands: {1220, 5148}\n",
      "  warnings.warn(\n"
     ]
    },
    {
     "name": "stdout",
     "output_type": "stream",
     "text": [
      "{'boundary_node': False, 'area': 664968.208542657, 'CNTY_FIPS': '55035', 'CNTY_NAME': 'EAU CLAIRE', 'MCD_FIPS': '5503522300', 'MCD_NAME': 'EAU CLAIRE', 'CTV': 'C', 'WARDID': '0060', 'LABEL': 'EAU CLAIRE - C 0060', 'PERSONS': 12, 'RV': 0, 'G20PRED': 0, 'G20PRER': 0, 'TOTPOP': 4.0, 'HISP': 0.0, 'NH_WHITE': 0.0, 'NH_BLACK': 1.0, 'NH_AMIN': 0.0, 'NH_ASIAN': 0.0, 'NH_NHPI': 0.0, 'NH_OTHER': 0.0, 'NH_2MORE': 3.0, 'CD': '3', 'geometry': <POLYGON ((139292.952 4974890.501, 139269.277 4974487.775, 139622.622 497446...>}\n",
      "5893718.0\n"
     ]
    },
    {
     "name": "stderr",
     "output_type": "stream",
     "text": [
      "/Users/williamstout/miniconda3/envs/gerry/lib/python3.11/site-packages/gerrychain/graph/graph.py:457: UserWarning: NA values found in column TOTPOP!\n",
      "  warnings.warn(\"NA values found in column {}!\".format(column))\n",
      "/Users/williamstout/miniconda3/envs/gerry/lib/python3.11/site-packages/gerrychain/graph/graph.py:457: UserWarning: NA values found in column HISP!\n",
      "  warnings.warn(\"NA values found in column {}!\".format(column))\n",
      "/Users/williamstout/miniconda3/envs/gerry/lib/python3.11/site-packages/gerrychain/graph/graph.py:457: UserWarning: NA values found in column NH_WHITE!\n",
      "  warnings.warn(\"NA values found in column {}!\".format(column))\n",
      "/Users/williamstout/miniconda3/envs/gerry/lib/python3.11/site-packages/gerrychain/graph/graph.py:457: UserWarning: NA values found in column NH_BLACK!\n",
      "  warnings.warn(\"NA values found in column {}!\".format(column))\n",
      "/Users/williamstout/miniconda3/envs/gerry/lib/python3.11/site-packages/gerrychain/graph/graph.py:457: UserWarning: NA values found in column NH_AMIN!\n",
      "  warnings.warn(\"NA values found in column {}!\".format(column))\n",
      "/Users/williamstout/miniconda3/envs/gerry/lib/python3.11/site-packages/gerrychain/graph/graph.py:457: UserWarning: NA values found in column NH_ASIAN!\n",
      "  warnings.warn(\"NA values found in column {}!\".format(column))\n",
      "/Users/williamstout/miniconda3/envs/gerry/lib/python3.11/site-packages/gerrychain/graph/graph.py:457: UserWarning: NA values found in column NH_NHPI!\n",
      "  warnings.warn(\"NA values found in column {}!\".format(column))\n",
      "/Users/williamstout/miniconda3/envs/gerry/lib/python3.11/site-packages/gerrychain/graph/graph.py:457: UserWarning: NA values found in column NH_OTHER!\n",
      "  warnings.warn(\"NA values found in column {}!\".format(column))\n",
      "/Users/williamstout/miniconda3/envs/gerry/lib/python3.11/site-packages/gerrychain/graph/graph.py:457: UserWarning: NA values found in column NH_2MORE!\n",
      "  warnings.warn(\"NA values found in column {}!\".format(column))\n"
     ]
    }
   ],
   "source": [
    "ct_file = gpd.read_file(\"./WI_DATA/WI.shp\") # reads a file from ct directory\n",
    "ct_graph = Graph.from_geodataframe(ct_file) # creates a graph from a geodataframe\n",
    "print(ct_graph.nodes()[0]) # Prints out the attributes of each node in the graph\n",
    "tot_pop = sum([ct_graph.nodes()[v]['TOTPOP'] for v in ct_graph.nodes() if not pd.isna(ct_graph.nodes()[v]['TOTPOP'])]) # gets the total population for ideal population calculation if the values are numbers\n",
    "print(tot_pop)"
   ]
  },
  {
   "cell_type": "code",
   "execution_count": null,
   "id": "6bf487a8",
   "metadata": {},
   "outputs": [],
   "source": [
    "ct_partition = Partition( # creates a partition for the IL graph\n",
    "    ct_graph, # dual graph\n",
    "    assignment = \"CD\", # initial districting plan\n",
    "    updaters={\n",
    "    \"our cut edges\": cut_edges, # number of cut edges in a graph\n",
    "    \"district population\": Tally(\"TOTPOP\", alias = \"district population\"), # across districts, total population \n",
    "    \"hispanic population\": Tally(\"HISP\", alias = \"hispanic population\"), # across districts, hispanic population \n",
    "    \"democratic votes\": Tally(\"G20PRED\", alias = \"democratic votes\"), # across districts, number of democratic votes\n",
    "    \"republican votes\": Tally(\"G20PRER\", alias = \"republican votes\"), # across districts, number of republican votes\n",
    "})\n",
    "print(ct_partition[\"district population\"]) # Prints the population for each district\n",
    "print(ct_partition[\"democratic votes\"]) # prints the number of democratic votes for each district\n",
    "print(ct_partition[\"republican votes\"]) # prints the number of republican votes for each district\n",
    "ideal_pop = tot_pop/8 # calculates the ideal population \n",
    "pop_tolerance = 0.05 # population tolerance for the proposal\n",
    "print(ideal_pop)"
   ]
  },
  {
   "cell_type": "code",
   "execution_count": null,
   "id": "6d739180",
   "metadata": {},
   "outputs": [],
   "source": [
    "rw_proposal = partial(recom, ## how you choose a next districting plan\n",
    "                      pop_col = \"TOTPOP\", ## What data describes population? \n",
    "                      pop_target = ideal_pop, ## What the target/ideal population is for each district \n",
    "                                              ## (we calculated ideal pop above)\n",
    "                      epsilon = pop_tolerance,  ## how far from ideal population you can deviate\n",
    "                                              ## (we set pop_tolerance above)\n",
    "                      node_repeats = 100, ## number of times to repeat bipartition.  Can increase if you get a BipartitionWarning\n",
    "                    #   allow_pair_reselection=True,\n",
    "                        method = partial(\n",
    "                        bipartition_tree,\n",
    "                        max_attempts=100,\n",
    "                        allow_pair_reselection=True  # <-- This is the only change\n",
    "    )\n",
    "                      )\n",
    "population_constraint = constraints.within_percent_of_ideal_population(\n",
    "    ct_partition, \n",
    "    pop_tolerance, \n",
    "    pop_key=\"district population\")"
   ]
  },
  {
   "cell_type": "code",
   "execution_count": null,
   "id": "6a2fcfe9",
   "metadata": {},
   "outputs": [],
   "source": [
    "# found this code in gerrychain_intro_complete-2.ipynb\n",
    "start_time = time.time()\n",
    "random_walk_10 = MarkovChain( # random walk for 10000 steps\n",
    "    proposal = rw_proposal, \n",
    "    constraints = [population_constraint], # Could add additional constraints here\n",
    "    accept = always_accept, # Accept every proposed plan that meets the population constraints\n",
    "    initial_state = ct_partition, \n",
    "    total_steps = 10)\n",
    "\n",
    "cutedge_ensemble_10 = [] ## Cut edge ensemble for Markov Chain with 10000 steps\n",
    "hisp_maj_ensemble_10 = [] ## Hisp majority ensemble for Markov Chain with 10000 steps\n",
    "dem_maj_ensemble_10 = [] ## Dem majority ensemble for Markov Chain with 10000 steps\n",
    "\n",
    "for j, part in enumerate(random_walk_10):\n",
    "    print(j)\n",
    "    # Add cutedges to cutedges ensemble\n",
    "    cutedge_ensemble_10.append(len(part[\"our cut edges\"]))\n",
    "    # Calculate number of hisp-majority and dem-majority districts \n",
    "    # Add to ensemble\n",
    "    num_maj_hisp = 0\n",
    "    num_maj_dem = 0\n",
    "    \n",
    "    for i in range(1,9):\n",
    "        district = str(i)\n",
    "        b_perc = part[\"hispanic population\"][district] / part[\"district population\"][district] # calculation for hispanic population \n",
    "        dem_perc = part[\"democratic votes\"][district] / (part[\"democratic votes\"][district] + part[\"republican votes\"][district]) # calculation for democratic vote share\n",
    "        if dem_perc >= 0.5: # if majority democratic\n",
    "            num_maj_dem = num_maj_dem + 1\n",
    "        if b_perc >= 0.5: # if majority hispanic\n",
    "            num_maj_hisp = num_maj_hisp + 1\n",
    "    hisp_maj_ensemble_10.append(num_maj_hisp)\n",
    "    dem_maj_ensemble_10.append(num_maj_dem)\n",
    "end_time = time.time()\n",
    "\n",
    "print(\"The time of execution of above program is :\",\n",
    "      (end_time-start_time)/60, \"mins\")"
   ]
  }
 ],
 "metadata": {
  "kernelspec": {
   "display_name": "gerry",
   "language": "python",
   "name": "python3"
  },
  "language_info": {
   "codemirror_mode": {
    "name": "ipython",
    "version": 3
   },
   "file_extension": ".py",
   "mimetype": "text/x-python",
   "name": "python",
   "nbconvert_exporter": "python",
   "pygments_lexer": "ipython3",
   "version": "3.11.4"
  }
 },
 "nbformat": 4,
 "nbformat_minor": 5
}
