{
 "cells": [
  {
   "cell_type": "code",
   "execution_count": 1,
   "id": "e286365a",
   "metadata": {},
   "outputs": [],
   "source": [
    "import pandas as pd\n",
    "import geopandas as gpd\n",
    "import maup\n",
    "from maup import smart_repair\n",
    "import time\n",
    "import os\n",
    "import matplotlib.pyplot as plt\n",
    "import networkx as nx\n",
    "from gerrychain import Graph, Partition, proposals, updaters, constraints, accept, MarkovChain, Election\n",
    "from gerrychain.updaters import cut_edges, Tally\n",
    "from gerrychain.proposals import recom\n",
    "from gerrychain.accept import always_accept\n",
    "from functools import partial\n",
    "import time\n",
    "from gerrychain.tree import bipartition_tree"
   ]
  },
  {
   "cell_type": "code",
   "execution_count": 2,
   "id": "774219ee",
   "metadata": {},
   "outputs": [
    {
     "name": "stderr",
     "output_type": "stream",
     "text": [
      "/Users/williamstout/miniconda3/envs/gerry/lib/python3.11/site-packages/gerrychain/graph/graph.py:406: UserWarning: Found islands (degree-0 nodes). Indices of islands: {1220, 5148}\n",
      "  warnings.warn(\n"
     ]
    },
    {
     "name": "stdout",
     "output_type": "stream",
     "text": [
      "{'boundary_node': False, 'area': 664968.208542657, 'CNTY_FIPS': '55035', 'CNTY_NAME': 'EAU CLAIRE', 'MCD_FIPS': '5503522300', 'MCD_NAME': 'EAU CLAIRE', 'CTV': 'C', 'WARDID': '0060', 'LABEL': 'EAU CLAIRE - C 0060', 'PERSONS': 12, 'RV': 0, 'G20PRED': 0, 'G20PRER': 0, 'TOTPOP': 4.0, 'HISP': 0.0, 'NH_WHITE': 0.0, 'NH_BLACK': 1.0, 'NH_AMIN': 0.0, 'NH_ASIAN': 0.0, 'NH_NHPI': 0.0, 'NH_OTHER': 0.0, 'NH_2MORE': 3.0, 'CD': '3', 'geometry': <POLYGON ((139292.952 4974890.501, 139269.277 4974487.775, 139622.622 497446...>}\n",
      "5893718.0\n"
     ]
    }
   ],
   "source": [
    "ct_file = gpd.read_file(\"./WI_DATA/WI.shp\") # reads a file from ct directory\n",
    "ct_graph = Graph.from_geodataframe(ct_file) # creates a graph from a geodataframe\n",
    "print(ct_graph.nodes()[0]) # Prints out the attributes of each node in the graph\n",
    "tot_pop = sum([ct_graph.nodes()[v]['TOTPOP'] for v in ct_graph.nodes() if not pd.isna(ct_graph.nodes()[v]['TOTPOP'])]) # gets the total population for ideal population calculation if the values are numbers\n",
    "print(tot_pop)"
   ]
  },
  {
   "cell_type": "code",
   "execution_count": 3,
   "id": "6bf487a8",
   "metadata": {},
   "outputs": [
    {
     "name": "stdout",
     "output_type": "stream",
     "text": [
      "{'3': 736959.0, '2': 736822.0, '6': 736545.0, '4': 736395.0, '1': 736286.0, '8': 736833.0, '7': 736572.0, '5': 737306.0}\n",
      "{'3': 185134, '2': 310915, '6': 171907, '4': 260053, '1': 189936, '8': 170943, '7': 165821, '5': 176157}\n",
      "{'3': 203656, '2': 125964, '6': 237024, '4': 78197, '1': 197794, '8': 234798, '7': 250139, '5': 282612}\n",
      "736714.75\n"
     ]
    }
   ],
   "source": [
    "ct_partition = Partition( # creates a partition for the IL graph\n",
    "    ct_graph, # dual graph\n",
    "    assignment = \"CD\", # initial districting plan\n",
    "    updaters={\n",
    "    \"our cut edges\": cut_edges, # number of cut edges in a graph\n",
    "    \"district population\": Tally(\"TOTPOP\", alias = \"district population\"), # across districts, total population \n",
    "    \"hispanic population\": Tally(\"HISP\", alias = \"hispanic population\"), # across districts, hispanic population \n",
    "    \"democratic votes\": Tally(\"G20PRED\", alias = \"democratic votes\"), # across districts, number of democratic votes\n",
    "    \"republican votes\": Tally(\"G20PRER\", alias = \"republican votes\"), # across districts, number of republican votes\n",
    "})\n",
    "print(ct_partition[\"district population\"]) # Prints the population for each district\n",
    "print(ct_partition[\"democratic votes\"]) # prints the number of democratic votes for each district\n",
    "print(ct_partition[\"republican votes\"]) # prints the number of republican votes for each district\n",
    "ideal_pop = tot_pop/8 # calculates the ideal population \n",
    "pop_tolerance = 0.05 # population tolerance for the proposal\n",
    "print(ideal_pop)"
   ]
  },
  {
   "cell_type": "code",
   "execution_count": 4,
   "id": "6d739180",
   "metadata": {},
   "outputs": [],
   "source": [
    "rw_proposal = partial(recom, ## how you choose a next districting plan\n",
    "                      pop_col = \"TOTPOP\", ## What data describes population? \n",
    "                      pop_target = ideal_pop, ## What the target/ideal population is for each district \n",
    "                                              ## (we calculated ideal pop above)\n",
    "                      epsilon = pop_tolerance,  ## how far from ideal population you can deviate\n",
    "                                              ## (we set pop_tolerance above)\n",
    "                      node_repeats = 100, ## number of times to repeat bipartition.  Can increase if you get a BipartitionWarning\n",
    "                    #   allow_pair_reselection=True,\n",
    "                        method = partial(\n",
    "                        bipartition_tree,\n",
    "                        max_attempts=100,\n",
    "                        allow_pair_reselection=True  # <-- This is the only change\n",
    "    )\n",
    "                      )\n",
    "population_constraint = constraints.within_percent_of_ideal_population(\n",
    "    ct_partition, \n",
    "    pop_tolerance, \n",
    "    pop_key=\"district population\")"
   ]
  },
  {
   "cell_type": "code",
   "execution_count": null,
   "id": "6a2fcfe9",
   "metadata": {},
   "outputs": [
    {
     "name": "stdout",
     "output_type": "stream",
     "text": [
      "0\n",
      "1\n",
      "2\n",
      "3\n",
      "4\n",
      "5\n",
      "6\n",
      "7\n",
      "8\n",
      "9\n",
      "10\n",
      "11\n",
      "12\n",
      "13\n",
      "14\n",
      "15\n",
      "16\n",
      "17\n",
      "18\n",
      "19\n",
      "20\n",
      "21\n",
      "22\n",
      "23\n",
      "24\n",
      "25\n",
      "26\n",
      "27\n",
      "28\n",
      "29\n",
      "30\n",
      "31\n",
      "32\n",
      "33\n",
      "34\n",
      "35\n",
      "36\n",
      "37\n",
      "38\n",
      "39\n",
      "40\n",
      "41\n",
      "42\n",
      "43\n",
      "44\n",
      "45\n",
      "46\n",
      "47\n",
      "48\n",
      "49\n",
      "50\n",
      "51\n",
      "52\n",
      "53\n",
      "54\n",
      "55\n",
      "56\n",
      "57\n",
      "58\n",
      "59\n",
      "60\n",
      "61\n",
      "62\n",
      "63\n",
      "64\n",
      "65\n",
      "66\n",
      "67\n",
      "68\n",
      "69\n",
      "70\n",
      "71\n",
      "72\n",
      "73\n",
      "74\n",
      "75\n",
      "76\n",
      "77\n",
      "78\n",
      "79\n",
      "80\n",
      "81\n",
      "82\n",
      "83\n",
      "84\n",
      "85\n",
      "86\n",
      "87\n",
      "88\n",
      "89\n",
      "90\n",
      "91\n",
      "92\n",
      "93\n",
      "94\n",
      "95\n",
      "96\n",
      "97\n",
      "98\n",
      "99\n",
      "The time of execution of above program is : 0.6463001330693563 mins\n"
     ]
    }
   ],
   "source": [
    "# found this code in gerrychain_intro_complete-2.ipynb\n",
    "start_time = time.time()\n",
    "random_walk_10 = MarkovChain( # random walk for 10000 steps\n",
    "    proposal = rw_proposal, \n",
    "    constraints = [population_constraint], # Could add additional constraints here\n",
    "    accept = always_accept, # Accept every proposed plan that meets the population constraints\n",
    "    initial_state = ct_partition, \n",
    "    total_steps = 100)\n",
    "\n",
    "cutedge_ensemble_10 = [] ## Cut edge ensemble for Markov Chain with 10000 steps\n",
    "hisp_maj_ensemble_10 = [] ## Hisp majority ensemble for Markov Chain with 10000 steps\n",
    "dem_maj_ensemble_10 = [] ## Dem majority ensemble for Markov Chain with 10000 steps\n",
    "\n",
    "for j, part in enumerate(random_walk_10):\n",
    "    # Add cutedges to cutedges ensemble\n",
    "    cutedge_ensemble_10.append(len(part[\"our cut edges\"]))\n",
    "    # Calculate number of hisp-majority and dem-majority districts \n",
    "    # Add to ensemble\n",
    "    num_maj_hisp = 0\n",
    "    num_maj_dem = 0\n",
    "    \n",
    "    for i in range(1,9):\n",
    "        district = str(i)\n",
    "        b_perc = part[\"hispanic population\"][district] / part[\"district population\"][district] # calculation for hispanic population \n",
    "        dem_perc = part[\"democratic votes\"][district] / (part[\"democratic votes\"][district] + part[\"republican votes\"][district]) # calculation for democratic vote share\n",
    "        if dem_perc >= 0.5: # if majority democratic\n",
    "            num_maj_dem = num_maj_dem + 1\n",
    "        if b_perc >= 0.5: # if majority hispanic\n",
    "            num_maj_hisp = num_maj_hisp + 1\n",
    "    hisp_maj_ensemble_10.append(num_maj_hisp)\n",
    "    dem_maj_ensemble_10.append(num_maj_dem)\n",
    "end_time = time.time()\n",
    "\n",
    "print(\"The time of execution of above program is :\",\n",
    "      (end_time-start_time)/60, \"mins\")"
   ]
  },
  {
   "cell_type": "code",
   "execution_count": 7,
   "id": "d1a886ff",
   "metadata": {},
   "outputs": [
    {
     "name": "stdout",
     "output_type": "stream",
     "text": [
      "[0, 0, 0, 0, 0, 0, 0, 0, 0, 0, 0, 0, 0, 0, 0, 0, 0, 0, 0, 0, 0, 0, 0, 0, 0, 0, 0, 0, 0, 0, 0, 0, 0, 0, 0, 0, 0, 0, 0, 0, 0, 0, 0, 0, 0, 0, 0, 0, 0, 0, 0, 0, 0, 0, 0, 0, 0, 0, 0, 0, 0, 0, 0, 0, 0, 0, 0, 0, 0, 0, 0, 0, 0, 0, 0, 0, 0, 0, 0, 0, 0, 0, 0, 0, 0, 0, 0, 0, 0, 0, 0, 0, 0, 0, 0, 0, 0, 0, 0, 0]\n",
      "[672, 697, 684, 619, 631, 625, 664, 668, 684, 675, 679, 671, 657, 667, 687, 650, 635, 669, 682, 731, 706, 693, 716, 701, 713, 737, 747, 756, 708, 743, 682, 739, 774, 780, 786, 789, 831, 872, 849, 908, 906, 940, 949, 936, 917, 928, 938, 926, 834, 827, 810, 778, 766, 703, 738, 696, 741, 723, 752, 802, 768, 756, 718, 727, 703, 740, 754, 729, 726, 721, 757, 762, 761, 723, 771, 778, 774, 776, 710, 706, 717, 739, 734, 653, 636, 611, 603, 626, 610, 627, 638, 625, 615, 630, 648, 689, 681, 673, 677, 654]\n",
      "[2, 2, 2, 2, 2, 2, 2, 2, 2, 2, 2, 2, 2, 2, 2, 2, 2, 2, 2, 2, 2, 2, 2, 2, 2, 2, 2, 2, 2, 3, 2, 3, 3, 3, 3, 3, 3, 3, 3, 3, 3, 3, 3, 3, 3, 3, 3, 3, 3, 3, 3, 3, 3, 3, 3, 2, 2, 2, 2, 2, 2, 2, 2, 3, 3, 3, 3, 3, 3, 3, 2, 2, 2, 2, 2, 2, 2, 3, 2, 2, 2, 2, 2, 2, 2, 2, 2, 2, 2, 2, 2, 2, 2, 2, 2, 2, 2, 2, 2, 2]\n"
     ]
    }
   ],
   "source": [
    "print(hisp_maj_ensemble_10)\n",
    "print(cutedge_ensemble_10)\n",
    "print(dem_maj_ensemble_10)"
   ]
  }
 ],
 "metadata": {
  "kernelspec": {
   "display_name": "gerry",
   "language": "python",
   "name": "python3"
  },
  "language_info": {
   "codemirror_mode": {
    "name": "ipython",
    "version": 3
   },
   "file_extension": ".py",
   "mimetype": "text/x-python",
   "name": "python",
   "nbconvert_exporter": "python",
   "pygments_lexer": "ipython3",
   "version": "3.11.4"
  }
 },
 "nbformat": 4,
 "nbformat_minor": 5
}
