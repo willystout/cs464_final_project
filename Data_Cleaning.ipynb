{
 "cells": [
  {
   "cell_type": "markdown",
   "metadata": {},
   "source": [
    "@author: willystout"
   ]
  },
  {
   "cell_type": "markdown",
   "metadata": {},
   "source": [
    "VEST 2020 Wisconsin precinct and election results: https://redistrictingdatahub.org/dataset/vest-2020-wisconsin-precinct-and-election-results/ \n",
    "\n",
    "Wisconsin block PL 94-171 2020 (by table): https://redistrictingdatahub.org/dataset/wisconsin-block-pl-94171-2020-by-table/\n",
    "\n",
    "Wisconsin county PL 94-171 2020: https://redistrictingdatahub.org/dataset/wisconsin-county-pl-94171-2020/\n",
    "\n",
    "2022 Wisconsin Congressional Districts Approved Plan: https://redistrictingdatahub.org/dataset/2022-wisconsin-congressional-districts-approved-plan/\n",
    "\n",
    "VEST 2018 Wisconsin precinct and election results: https://redistrictingdatahub.org/dataset/vest-2018-wisconsin-precinct-and-election-results/ "
   ]
  },
  {
   "cell_type": "code",
   "execution_count": 1,
   "metadata": {},
   "outputs": [],
   "source": [
    "import pandas as pd\n",
    "import geopandas as gpd\n",
    "import maup\n",
    "from maup import smart_repair\n",
    "import time\n",
    "import os\n",
    "\n",
    "maup.progress.enabled = True"
   ]
  },
  {
   "cell_type": "code",
   "execution_count": 2,
   "metadata": {},
   "outputs": [],
   "source": [
    "import warnings\n",
    "warnings.filterwarnings('ignore')"
   ]
  },
  {
   "cell_type": "code",
   "execution_count": 3,
   "metadata": {},
   "outputs": [],
   "source": [
    "maup.progress.enabled = True"
   ]
  },
  {
   "cell_type": "code",
   "execution_count": 4,
   "metadata": {},
   "outputs": [
    {
     "name": "stdout",
     "output_type": "stream",
     "text": [
      "The time to import wi_pl2020_p1_b.shp is: 0.48137656847635907 mins\n"
     ]
    }
   ],
   "source": [
    "start_time = time.time()\n",
    "population_df = gpd.read_file(\"./WI/wi_pl2020_b/wi_pl2020_p2_b.shp\")\n",
    "end_time = time.time()\n",
    "print(\"The time to import wi_pl2020_p1_b.shp is:\",\n",
    "      (end_time-start_time)/60, \"mins\")"
   ]
  },
  {
   "cell_type": "code",
   "execution_count": 5,
   "metadata": {},
   "outputs": [
    {
     "name": "stdout",
     "output_type": "stream",
     "text": [
      "The time to import wi_pl2020_cnty.shp is: 0.0013812700907389322 mins\n"
     ]
    }
   ],
   "source": [
    "start_time = time.time()\n",
    "county_df = gpd.read_file(\"./WI/wi_pl2020_cnty/wi_pl2020_cnty.shp\")\n",
    "end_time = time.time()\n",
    "print(\"The time to import wi_pl2020_cnty.shp is:\",\n",
    "      (end_time-start_time)/60, \"mins\")"
   ]
  },
  {
   "cell_type": "code",
   "execution_count": 6,
   "metadata": {},
   "outputs": [
    {
     "name": "stdout",
     "output_type": "stream",
     "text": [
      "The time to import wi_vest_20.shp is: 0.026293893655141194 mins\n"
     ]
    }
   ],
   "source": [
    "start_time = time.time()\n",
    "vest20_df = gpd.read_file(\"./WI/wi_vest_20/wi_vest_20.shp\")\n",
    "end_time = time.time()\n",
    "print(\"The time to import wi_vest_20.shp is:\",\n",
    "      (end_time-start_time)/60, \"mins\")"
   ]
  },
  {
   "cell_type": "code",
   "execution_count": 7,
   "metadata": {},
   "outputs": [
    {
     "name": "stdout",
     "output_type": "stream",
     "text": [
      "The time to import wi_cong_adopted_2022/POLYGON.shp is: 0.00027946631113688153 mins\n"
     ]
    }
   ],
   "source": [
    "start_time = time.time()\n",
    "cong_df = gpd.read_file(\"./WI/wi_cong_adopted_2022/POLYGON.shp\")\n",
    "end_time = time.time()\n",
    "print(\"The time to import wi_cong_adopted_2022/POLYGON.shp is:\",\n",
    "      (end_time-start_time)/60, \"mins\")"
   ]
  },
  {
   "cell_type": "code",
   "execution_count": 8,
   "metadata": {},
   "outputs": [
    {
     "name": "stdout",
     "output_type": "stream",
     "text": [
      "The time to import wi_vest_18.shp is: 0.024790263175964354 mins\n"
     ]
    }
   ],
   "source": [
    "start_time = time.time()\n",
    "vest18_df = gpd.read_file(\"./WI/wi_vest_18/wi_vest_18.shp\")\n",
    "end_time = time.time()\n",
    "print(\"The time to import wi_vest_18.shp is:\",\n",
    "      (end_time-start_time)/60, \"mins\")"
   ]
  },
  {
   "cell_type": "code",
   "execution_count": 9,
   "metadata": {},
   "outputs": [],
   "source": [
    "population_df = population_df.to_crs(population_df.estimate_utm_crs())\n",
    "county_df = county_df.to_crs(county_df.estimate_utm_crs())\n",
    "vest20_df = vest20_df.to_crs(vest20_df.estimate_utm_crs())\n",
    "cong_df = cong_df.to_crs(cong_df.estimate_utm_crs())\n",
    "vest18_df = vest18_df.to_crs(vest18_df.estimate_utm_crs())"
   ]
  },
  {
   "cell_type": "code",
   "execution_count": 10,
   "metadata": {},
   "outputs": [
    {
     "data": {
      "text/html": [
       "<div>\n",
       "<style scoped>\n",
       "    .dataframe tbody tr th:only-of-type {\n",
       "        vertical-align: middle;\n",
       "    }\n",
       "\n",
       "    .dataframe tbody tr th {\n",
       "        vertical-align: top;\n",
       "    }\n",
       "\n",
       "    .dataframe thead th {\n",
       "        text-align: right;\n",
       "    }\n",
       "</style>\n",
       "<table border=\"1\" class=\"dataframe\">\n",
       "  <thead>\n",
       "    <tr style=\"text-align: right;\">\n",
       "      <th></th>\n",
       "      <th>GEOID20</th>\n",
       "      <th>SUMLEV</th>\n",
       "      <th>LOGRECNO</th>\n",
       "      <th>GEOID</th>\n",
       "      <th>COUNTY</th>\n",
       "      <th>P0020001</th>\n",
       "      <th>P0020002</th>\n",
       "      <th>P0020003</th>\n",
       "      <th>P0020004</th>\n",
       "      <th>P0020005</th>\n",
       "      <th>...</th>\n",
       "      <th>P0020065</th>\n",
       "      <th>P0020066</th>\n",
       "      <th>P0020067</th>\n",
       "      <th>P0020068</th>\n",
       "      <th>P0020069</th>\n",
       "      <th>P0020070</th>\n",
       "      <th>P0020071</th>\n",
       "      <th>P0020072</th>\n",
       "      <th>P0020073</th>\n",
       "      <th>geometry</th>\n",
       "    </tr>\n",
       "  </thead>\n",
       "  <tbody>\n",
       "    <tr>\n",
       "      <th>0</th>\n",
       "      <td>550999704001040</td>\n",
       "      <td>750</td>\n",
       "      <td>0282395</td>\n",
       "      <td>7500000US550999704001040</td>\n",
       "      <td>099</td>\n",
       "      <td>0</td>\n",
       "      <td>0</td>\n",
       "      <td>0</td>\n",
       "      <td>0</td>\n",
       "      <td>0</td>\n",
       "      <td>...</td>\n",
       "      <td>0</td>\n",
       "      <td>0</td>\n",
       "      <td>0</td>\n",
       "      <td>0</td>\n",
       "      <td>0</td>\n",
       "      <td>0</td>\n",
       "      <td>0</td>\n",
       "      <td>0</td>\n",
       "      <td>0</td>\n",
       "      <td>POLYGON ((218468.619 5067521.851, 218473.825 5...</td>\n",
       "    </tr>\n",
       "    <tr>\n",
       "      <th>1</th>\n",
       "      <td>550999706002032</td>\n",
       "      <td>750</td>\n",
       "      <td>0282833</td>\n",
       "      <td>7500000US550999706002032</td>\n",
       "      <td>099</td>\n",
       "      <td>24</td>\n",
       "      <td>0</td>\n",
       "      <td>24</td>\n",
       "      <td>22</td>\n",
       "      <td>21</td>\n",
       "      <td>...</td>\n",
       "      <td>0</td>\n",
       "      <td>0</td>\n",
       "      <td>0</td>\n",
       "      <td>0</td>\n",
       "      <td>0</td>\n",
       "      <td>0</td>\n",
       "      <td>0</td>\n",
       "      <td>0</td>\n",
       "      <td>0</td>\n",
       "      <td>POLYGON ((225297.184 5059406.511, 225302.985 5...</td>\n",
       "    </tr>\n",
       "    <tr>\n",
       "      <th>2</th>\n",
       "      <td>550999701003089</td>\n",
       "      <td>750</td>\n",
       "      <td>0282192</td>\n",
       "      <td>7500000US550999701003089</td>\n",
       "      <td>099</td>\n",
       "      <td>0</td>\n",
       "      <td>0</td>\n",
       "      <td>0</td>\n",
       "      <td>0</td>\n",
       "      <td>0</td>\n",
       "      <td>...</td>\n",
       "      <td>0</td>\n",
       "      <td>0</td>\n",
       "      <td>0</td>\n",
       "      <td>0</td>\n",
       "      <td>0</td>\n",
       "      <td>0</td>\n",
       "      <td>0</td>\n",
       "      <td>0</td>\n",
       "      <td>0</td>\n",
       "      <td>POLYGON ((253782.771 5075146.308, 253812.749 5...</td>\n",
       "    </tr>\n",
       "    <tr>\n",
       "      <th>3</th>\n",
       "      <td>550999701003105</td>\n",
       "      <td>750</td>\n",
       "      <td>0282208</td>\n",
       "      <td>7500000US550999701003105</td>\n",
       "      <td>099</td>\n",
       "      <td>0</td>\n",
       "      <td>0</td>\n",
       "      <td>0</td>\n",
       "      <td>0</td>\n",
       "      <td>0</td>\n",
       "      <td>...</td>\n",
       "      <td>0</td>\n",
       "      <td>0</td>\n",
       "      <td>0</td>\n",
       "      <td>0</td>\n",
       "      <td>0</td>\n",
       "      <td>0</td>\n",
       "      <td>0</td>\n",
       "      <td>0</td>\n",
       "      <td>0</td>\n",
       "      <td>POLYGON ((250355.075 5072172.015, 250374.005 5...</td>\n",
       "    </tr>\n",
       "    <tr>\n",
       "      <th>4</th>\n",
       "      <td>550999707001024</td>\n",
       "      <td>750</td>\n",
       "      <td>0283023</td>\n",
       "      <td>7500000US550999707001024</td>\n",
       "      <td>099</td>\n",
       "      <td>8</td>\n",
       "      <td>0</td>\n",
       "      <td>8</td>\n",
       "      <td>5</td>\n",
       "      <td>5</td>\n",
       "      <td>...</td>\n",
       "      <td>0</td>\n",
       "      <td>0</td>\n",
       "      <td>0</td>\n",
       "      <td>0</td>\n",
       "      <td>0</td>\n",
       "      <td>0</td>\n",
       "      <td>0</td>\n",
       "      <td>0</td>\n",
       "      <td>0</td>\n",
       "      <td>POLYGON ((243111.821 5048902.330, 243113.107 5...</td>\n",
       "    </tr>\n",
       "  </tbody>\n",
       "</table>\n",
       "<p>5 rows × 79 columns</p>\n",
       "</div>"
      ],
      "text/plain": [
       "           GEOID20 SUMLEV LOGRECNO                     GEOID COUNTY  P0020001  \\\n",
       "0  550999704001040    750  0282395  7500000US550999704001040    099         0   \n",
       "1  550999706002032    750  0282833  7500000US550999706002032    099        24   \n",
       "2  550999701003089    750  0282192  7500000US550999701003089    099         0   \n",
       "3  550999701003105    750  0282208  7500000US550999701003105    099         0   \n",
       "4  550999707001024    750  0283023  7500000US550999707001024    099         8   \n",
       "\n",
       "   P0020002  P0020003  P0020004  P0020005  ...  P0020065  P0020066  P0020067  \\\n",
       "0         0         0         0         0  ...         0         0         0   \n",
       "1         0        24        22        21  ...         0         0         0   \n",
       "2         0         0         0         0  ...         0         0         0   \n",
       "3         0         0         0         0  ...         0         0         0   \n",
       "4         0         8         5         5  ...         0         0         0   \n",
       "\n",
       "   P0020068  P0020069  P0020070  P0020071  P0020072  P0020073  \\\n",
       "0         0         0         0         0         0         0   \n",
       "1         0         0         0         0         0         0   \n",
       "2         0         0         0         0         0         0   \n",
       "3         0         0         0         0         0         0   \n",
       "4         0         0         0         0         0         0   \n",
       "\n",
       "                                            geometry  \n",
       "0  POLYGON ((218468.619 5067521.851, 218473.825 5...  \n",
       "1  POLYGON ((225297.184 5059406.511, 225302.985 5...  \n",
       "2  POLYGON ((253782.771 5075146.308, 253812.749 5...  \n",
       "3  POLYGON ((250355.075 5072172.015, 250374.005 5...  \n",
       "4  POLYGON ((243111.821 5048902.330, 243113.107 5...  \n",
       "\n",
       "[5 rows x 79 columns]"
      ]
     },
     "execution_count": 10,
     "metadata": {},
     "output_type": "execute_result"
    }
   ],
   "source": [
    "population_df.head()"
   ]
  },
  {
   "cell_type": "code",
   "execution_count": 11,
   "metadata": {},
   "outputs": [
    {
     "data": {
      "text/html": [
       "<div>\n",
       "<style scoped>\n",
       "    .dataframe tbody tr th:only-of-type {\n",
       "        vertical-align: middle;\n",
       "    }\n",
       "\n",
       "    .dataframe tbody tr th {\n",
       "        vertical-align: top;\n",
       "    }\n",
       "\n",
       "    .dataframe thead th {\n",
       "        text-align: right;\n",
       "    }\n",
       "</style>\n",
       "<table border=\"1\" class=\"dataframe\">\n",
       "  <thead>\n",
       "    <tr style=\"text-align: right;\">\n",
       "      <th></th>\n",
       "      <th>STATEFP20</th>\n",
       "      <th>COUNTYFP20</th>\n",
       "      <th>COUNTYNS20</th>\n",
       "      <th>GEOID20</th>\n",
       "      <th>NAME20</th>\n",
       "      <th>NAMELSAD20</th>\n",
       "      <th>LSAD20</th>\n",
       "      <th>CLASSFP20</th>\n",
       "      <th>MTFCC20</th>\n",
       "      <th>CSAFP20</th>\n",
       "      <th>...</th>\n",
       "      <th>P0050002</th>\n",
       "      <th>P0050003</th>\n",
       "      <th>P0050004</th>\n",
       "      <th>P0050005</th>\n",
       "      <th>P0050006</th>\n",
       "      <th>P0050007</th>\n",
       "      <th>P0050008</th>\n",
       "      <th>P0050009</th>\n",
       "      <th>P0050010</th>\n",
       "      <th>geometry</th>\n",
       "    </tr>\n",
       "  </thead>\n",
       "  <tbody>\n",
       "    <tr>\n",
       "      <th>0</th>\n",
       "      <td>55</td>\n",
       "      <td>095</td>\n",
       "      <td>01581108</td>\n",
       "      <td>55095</td>\n",
       "      <td>Polk</td>\n",
       "      <td>Polk County</td>\n",
       "      <td>06</td>\n",
       "      <td>H1</td>\n",
       "      <td>G4020</td>\n",
       "      <td>None</td>\n",
       "      <td>...</td>\n",
       "      <td>388</td>\n",
       "      <td>58</td>\n",
       "      <td>33</td>\n",
       "      <td>297</td>\n",
       "      <td>0</td>\n",
       "      <td>176</td>\n",
       "      <td>0</td>\n",
       "      <td>0</td>\n",
       "      <td>176</td>\n",
       "      <td>POLYGON ((55820.311 5050858.609, 55818.423 505...</td>\n",
       "    </tr>\n",
       "    <tr>\n",
       "      <th>1</th>\n",
       "      <td>55</td>\n",
       "      <td>045</td>\n",
       "      <td>01581082</td>\n",
       "      <td>55045</td>\n",
       "      <td>Green</td>\n",
       "      <td>Green County</td>\n",
       "      <td>06</td>\n",
       "      <td>H1</td>\n",
       "      <td>G4020</td>\n",
       "      <td>357</td>\n",
       "      <td>...</td>\n",
       "      <td>300</td>\n",
       "      <td>17</td>\n",
       "      <td>0</td>\n",
       "      <td>283</td>\n",
       "      <td>0</td>\n",
       "      <td>111</td>\n",
       "      <td>0</td>\n",
       "      <td>0</td>\n",
       "      <td>111</td>\n",
       "      <td>POLYGON ((267549.933 4729536.475, 267565.970 4...</td>\n",
       "    </tr>\n",
       "    <tr>\n",
       "      <th>2</th>\n",
       "      <td>55</td>\n",
       "      <td>087</td>\n",
       "      <td>01581104</td>\n",
       "      <td>55087</td>\n",
       "      <td>Outagamie</td>\n",
       "      <td>Outagamie County</td>\n",
       "      <td>06</td>\n",
       "      <td>H1</td>\n",
       "      <td>G4020</td>\n",
       "      <td>118</td>\n",
       "      <td>...</td>\n",
       "      <td>1654</td>\n",
       "      <td>434</td>\n",
       "      <td>10</td>\n",
       "      <td>1200</td>\n",
       "      <td>10</td>\n",
       "      <td>2139</td>\n",
       "      <td>1279</td>\n",
       "      <td>0</td>\n",
       "      <td>860</td>\n",
       "      <td>POLYGON ((404913.041 4908423.745, 404912.989 4...</td>\n",
       "    </tr>\n",
       "    <tr>\n",
       "      <th>3</th>\n",
       "      <td>55</td>\n",
       "      <td>001</td>\n",
       "      <td>01581060</td>\n",
       "      <td>55001</td>\n",
       "      <td>Adams</td>\n",
       "      <td>Adams County</td>\n",
       "      <td>06</td>\n",
       "      <td>H1</td>\n",
       "      <td>G4020</td>\n",
       "      <td>None</td>\n",
       "      <td>...</td>\n",
       "      <td>1110</td>\n",
       "      <td>1062</td>\n",
       "      <td>0</td>\n",
       "      <td>48</td>\n",
       "      <td>0</td>\n",
       "      <td>97</td>\n",
       "      <td>0</td>\n",
       "      <td>0</td>\n",
       "      <td>97</td>\n",
       "      <td>POLYGON ((257977.858 4883897.075, 257720.919 4...</td>\n",
       "    </tr>\n",
       "    <tr>\n",
       "      <th>4</th>\n",
       "      <td>55</td>\n",
       "      <td>119</td>\n",
       "      <td>01581119</td>\n",
       "      <td>55119</td>\n",
       "      <td>Taylor</td>\n",
       "      <td>Taylor County</td>\n",
       "      <td>06</td>\n",
       "      <td>H1</td>\n",
       "      <td>G4020</td>\n",
       "      <td>None</td>\n",
       "      <td>...</td>\n",
       "      <td>148</td>\n",
       "      <td>38</td>\n",
       "      <td>0</td>\n",
       "      <td>110</td>\n",
       "      <td>0</td>\n",
       "      <td>27</td>\n",
       "      <td>0</td>\n",
       "      <td>0</td>\n",
       "      <td>27</td>\n",
       "      <td>POLYGON ((192210.416 5022894.332, 192210.692 5...</td>\n",
       "    </tr>\n",
       "  </tbody>\n",
       "</table>\n",
       "<p>5 rows × 349 columns</p>\n",
       "</div>"
      ],
      "text/plain": [
       "  STATEFP20 COUNTYFP20 COUNTYNS20 GEOID20     NAME20        NAMELSAD20 LSAD20  \\\n",
       "0        55        095   01581108   55095       Polk       Polk County     06   \n",
       "1        55        045   01581082   55045      Green      Green County     06   \n",
       "2        55        087   01581104   55087  Outagamie  Outagamie County     06   \n",
       "3        55        001   01581060   55001      Adams      Adams County     06   \n",
       "4        55        119   01581119   55119     Taylor     Taylor County     06   \n",
       "\n",
       "  CLASSFP20 MTFCC20 CSAFP20  ... P0050002 P0050003 P0050004  P0050005  \\\n",
       "0        H1   G4020    None  ...      388       58       33       297   \n",
       "1        H1   G4020     357  ...      300       17        0       283   \n",
       "2        H1   G4020     118  ...     1654      434       10      1200   \n",
       "3        H1   G4020    None  ...     1110     1062        0        48   \n",
       "4        H1   G4020    None  ...      148       38        0       110   \n",
       "\n",
       "   P0050006 P0050007 P0050008 P0050009 P0050010  \\\n",
       "0         0      176        0        0      176   \n",
       "1         0      111        0        0      111   \n",
       "2        10     2139     1279        0      860   \n",
       "3         0       97        0        0       97   \n",
       "4         0       27        0        0       27   \n",
       "\n",
       "                                            geometry  \n",
       "0  POLYGON ((55820.311 5050858.609, 55818.423 505...  \n",
       "1  POLYGON ((267549.933 4729536.475, 267565.970 4...  \n",
       "2  POLYGON ((404913.041 4908423.745, 404912.989 4...  \n",
       "3  POLYGON ((257977.858 4883897.075, 257720.919 4...  \n",
       "4  POLYGON ((192210.416 5022894.332, 192210.692 5...  \n",
       "\n",
       "[5 rows x 349 columns]"
      ]
     },
     "execution_count": 11,
     "metadata": {},
     "output_type": "execute_result"
    }
   ],
   "source": [
    "county_df.head()"
   ]
  },
  {
   "cell_type": "code",
   "execution_count": 12,
   "metadata": {},
   "outputs": [
    {
     "data": {
      "text/html": [
       "<div>\n",
       "<style scoped>\n",
       "    .dataframe tbody tr th:only-of-type {\n",
       "        vertical-align: middle;\n",
       "    }\n",
       "\n",
       "    .dataframe tbody tr th {\n",
       "        vertical-align: top;\n",
       "    }\n",
       "\n",
       "    .dataframe thead th {\n",
       "        text-align: right;\n",
       "    }\n",
       "</style>\n",
       "<table border=\"1\" class=\"dataframe\">\n",
       "  <thead>\n",
       "    <tr style=\"text-align: right;\">\n",
       "      <th></th>\n",
       "      <th>CNTY_FIPS</th>\n",
       "      <th>CNTY_NAME</th>\n",
       "      <th>MCD_FIPS</th>\n",
       "      <th>MCD_NAME</th>\n",
       "      <th>CTV</th>\n",
       "      <th>WARDID</th>\n",
       "      <th>LABEL</th>\n",
       "      <th>PERSONS</th>\n",
       "      <th>RV</th>\n",
       "      <th>G20PREDBID</th>\n",
       "      <th>...</th>\n",
       "      <th>G20PREICAR</th>\n",
       "      <th>G20PREOWEL</th>\n",
       "      <th>G20PREOSIM</th>\n",
       "      <th>G20PREOBOD</th>\n",
       "      <th>G20PREOHAW</th>\n",
       "      <th>G20PREOLAR</th>\n",
       "      <th>G20PREOWES</th>\n",
       "      <th>G20PREOCHA</th>\n",
       "      <th>G20PREOWRI</th>\n",
       "      <th>geometry</th>\n",
       "    </tr>\n",
       "  </thead>\n",
       "  <tbody>\n",
       "    <tr>\n",
       "      <th>0</th>\n",
       "      <td>55035</td>\n",
       "      <td>EAU CLAIRE</td>\n",
       "      <td>5503522300</td>\n",
       "      <td>EAU CLAIRE</td>\n",
       "      <td>C</td>\n",
       "      <td>0060</td>\n",
       "      <td>EAU CLAIRE - C 0060</td>\n",
       "      <td>12</td>\n",
       "      <td>0</td>\n",
       "      <td>0</td>\n",
       "      <td>...</td>\n",
       "      <td>0</td>\n",
       "      <td>0</td>\n",
       "      <td>0</td>\n",
       "      <td>0</td>\n",
       "      <td>0</td>\n",
       "      <td>0</td>\n",
       "      <td>0</td>\n",
       "      <td>0</td>\n",
       "      <td>0</td>\n",
       "      <td>POLYGON ((139292.953 4974890.501, 139269.277 4...</td>\n",
       "    </tr>\n",
       "    <tr>\n",
       "      <th>1</th>\n",
       "      <td>55035</td>\n",
       "      <td>EAU CLAIRE</td>\n",
       "      <td>5503522300</td>\n",
       "      <td>EAU CLAIRE</td>\n",
       "      <td>C</td>\n",
       "      <td>0059</td>\n",
       "      <td>EAU CLAIRE - C 0059</td>\n",
       "      <td>0</td>\n",
       "      <td>0</td>\n",
       "      <td>0</td>\n",
       "      <td>...</td>\n",
       "      <td>0</td>\n",
       "      <td>0</td>\n",
       "      <td>0</td>\n",
       "      <td>0</td>\n",
       "      <td>0</td>\n",
       "      <td>0</td>\n",
       "      <td>0</td>\n",
       "      <td>0</td>\n",
       "      <td>0</td>\n",
       "      <td>POLYGON ((144305.023 4968892.880, 144316.453 4...</td>\n",
       "    </tr>\n",
       "    <tr>\n",
       "      <th>2</th>\n",
       "      <td>55043</td>\n",
       "      <td>GRANT</td>\n",
       "      <td>5504363250</td>\n",
       "      <td>PLATTEVILLE</td>\n",
       "      <td>C</td>\n",
       "      <td>0002</td>\n",
       "      <td>PLATTEVILLE - C 0002</td>\n",
       "      <td>1371</td>\n",
       "      <td>942</td>\n",
       "      <td>489</td>\n",
       "      <td>...</td>\n",
       "      <td>1</td>\n",
       "      <td>0</td>\n",
       "      <td>0</td>\n",
       "      <td>0</td>\n",
       "      <td>0</td>\n",
       "      <td>0</td>\n",
       "      <td>0</td>\n",
       "      <td>0</td>\n",
       "      <td>3</td>\n",
       "      <td>POLYGON ((215528.402 4738670.405, 215527.606 4...</td>\n",
       "    </tr>\n",
       "    <tr>\n",
       "      <th>3</th>\n",
       "      <td>55043</td>\n",
       "      <td>GRANT</td>\n",
       "      <td>5504363250</td>\n",
       "      <td>PLATTEVILLE</td>\n",
       "      <td>C</td>\n",
       "      <td>0001</td>\n",
       "      <td>PLATTEVILLE - C 0001</td>\n",
       "      <td>1197</td>\n",
       "      <td>832</td>\n",
       "      <td>432</td>\n",
       "      <td>...</td>\n",
       "      <td>1</td>\n",
       "      <td>0</td>\n",
       "      <td>0</td>\n",
       "      <td>0</td>\n",
       "      <td>0</td>\n",
       "      <td>0</td>\n",
       "      <td>0</td>\n",
       "      <td>0</td>\n",
       "      <td>2</td>\n",
       "      <td>POLYGON ((216386.194 4739423.917, 216459.462 4...</td>\n",
       "    </tr>\n",
       "    <tr>\n",
       "      <th>4</th>\n",
       "      <td>55045</td>\n",
       "      <td>GREEN</td>\n",
       "      <td>5504500775</td>\n",
       "      <td>ALBANY</td>\n",
       "      <td>T</td>\n",
       "      <td>0001</td>\n",
       "      <td>ALBANY - T 0001</td>\n",
       "      <td>464</td>\n",
       "      <td>371</td>\n",
       "      <td>157</td>\n",
       "      <td>...</td>\n",
       "      <td>0</td>\n",
       "      <td>0</td>\n",
       "      <td>0</td>\n",
       "      <td>0</td>\n",
       "      <td>0</td>\n",
       "      <td>0</td>\n",
       "      <td>0</td>\n",
       "      <td>0</td>\n",
       "      <td>3</td>\n",
       "      <td>POLYGON ((300826.104 4732164.174, 300821.170 4...</td>\n",
       "    </tr>\n",
       "  </tbody>\n",
       "</table>\n",
       "<p>5 rows × 23 columns</p>\n",
       "</div>"
      ],
      "text/plain": [
       "  CNTY_FIPS   CNTY_NAME    MCD_FIPS     MCD_NAME CTV WARDID  \\\n",
       "0     55035  EAU CLAIRE  5503522300   EAU CLAIRE   C   0060   \n",
       "1     55035  EAU CLAIRE  5503522300   EAU CLAIRE   C   0059   \n",
       "2     55043       GRANT  5504363250  PLATTEVILLE   C   0002   \n",
       "3     55043       GRANT  5504363250  PLATTEVILLE   C   0001   \n",
       "4     55045       GREEN  5504500775       ALBANY   T   0001   \n",
       "\n",
       "                  LABEL  PERSONS   RV  G20PREDBID  ...  G20PREICAR  \\\n",
       "0   EAU CLAIRE - C 0060       12    0           0  ...           0   \n",
       "1   EAU CLAIRE - C 0059        0    0           0  ...           0   \n",
       "2  PLATTEVILLE - C 0002     1371  942         489  ...           1   \n",
       "3  PLATTEVILLE - C 0001     1197  832         432  ...           1   \n",
       "4       ALBANY - T 0001      464  371         157  ...           0   \n",
       "\n",
       "   G20PREOWEL  G20PREOSIM  G20PREOBOD  G20PREOHAW  G20PREOLAR  G20PREOWES  \\\n",
       "0           0           0           0           0           0           0   \n",
       "1           0           0           0           0           0           0   \n",
       "2           0           0           0           0           0           0   \n",
       "3           0           0           0           0           0           0   \n",
       "4           0           0           0           0           0           0   \n",
       "\n",
       "   G20PREOCHA  G20PREOWRI                                           geometry  \n",
       "0           0           0  POLYGON ((139292.953 4974890.501, 139269.277 4...  \n",
       "1           0           0  POLYGON ((144305.023 4968892.880, 144316.453 4...  \n",
       "2           0           3  POLYGON ((215528.402 4738670.405, 215527.606 4...  \n",
       "3           0           2  POLYGON ((216386.194 4739423.917, 216459.462 4...  \n",
       "4           0           3  POLYGON ((300826.104 4732164.174, 300821.170 4...  \n",
       "\n",
       "[5 rows x 23 columns]"
      ]
     },
     "execution_count": 12,
     "metadata": {},
     "output_type": "execute_result"
    }
   ],
   "source": [
    "vest20_df.head()"
   ]
  },
  {
   "cell_type": "code",
   "execution_count": 13,
   "metadata": {},
   "outputs": [
    {
     "data": {
      "text/html": [
       "<div>\n",
       "<style scoped>\n",
       "    .dataframe tbody tr th:only-of-type {\n",
       "        vertical-align: middle;\n",
       "    }\n",
       "\n",
       "    .dataframe tbody tr th {\n",
       "        vertical-align: top;\n",
       "    }\n",
       "\n",
       "    .dataframe thead th {\n",
       "        text-align: right;\n",
       "    }\n",
       "</style>\n",
       "<table border=\"1\" class=\"dataframe\">\n",
       "  <thead>\n",
       "    <tr style=\"text-align: right;\">\n",
       "      <th></th>\n",
       "      <th>id</th>\n",
       "      <th>NAME</th>\n",
       "      <th>TotalPop</th>\n",
       "      <th>PopDevPc</th>\n",
       "      <th>DemPct</th>\n",
       "      <th>RepPct</th>\n",
       "      <th>WhitePct</th>\n",
       "      <th>Minority</th>\n",
       "      <th>BlackPct</th>\n",
       "      <th>Hispanic</th>\n",
       "      <th>PacificP</th>\n",
       "      <th>AsianPct</th>\n",
       "      <th>NativePc</th>\n",
       "      <th>TotalVAP</th>\n",
       "      <th>Margin</th>\n",
       "      <th>color</th>\n",
       "      <th>opacity</th>\n",
       "      <th>geometry</th>\n",
       "    </tr>\n",
       "  </thead>\n",
       "  <tbody>\n",
       "    <tr>\n",
       "      <th>0</th>\n",
       "      <td>1.0</td>\n",
       "      <td>1</td>\n",
       "      <td>736715.0</td>\n",
       "      <td>0.000000</td>\n",
       "      <td>0.481142</td>\n",
       "      <td>0.491911</td>\n",
       "      <td>0.782418</td>\n",
       "      <td>0.217582</td>\n",
       "      <td>0.070932</td>\n",
       "      <td>0.102396</td>\n",
       "      <td>0.001110</td>\n",
       "      <td>0.024325</td>\n",
       "      <td>0.019329</td>\n",
       "      <td>575451.0</td>\n",
       "      <td>-0.018858</td>\n",
       "      <td>#0000FF</td>\n",
       "      <td>0.5</td>\n",
       "      <td>POLYGON ((348358.235 4745226.043, 347592.443 4...</td>\n",
       "    </tr>\n",
       "    <tr>\n",
       "      <th>1</th>\n",
       "      <td>2.0</td>\n",
       "      <td>2</td>\n",
       "      <td>736715.0</td>\n",
       "      <td>0.000000</td>\n",
       "      <td>0.694890</td>\n",
       "      <td>0.281285</td>\n",
       "      <td>0.820014</td>\n",
       "      <td>0.179986</td>\n",
       "      <td>0.046568</td>\n",
       "      <td>0.056653</td>\n",
       "      <td>0.001187</td>\n",
       "      <td>0.057611</td>\n",
       "      <td>0.015589</td>\n",
       "      <td>584519.0</td>\n",
       "      <td>0.194890</td>\n",
       "      <td>#008000</td>\n",
       "      <td>0.5</td>\n",
       "      <td>POLYGON ((286255.899 4708986.006, 286384.418 4...</td>\n",
       "    </tr>\n",
       "    <tr>\n",
       "      <th>2</th>\n",
       "      <td>3.0</td>\n",
       "      <td>3</td>\n",
       "      <td>736716.0</td>\n",
       "      <td>0.000001</td>\n",
       "      <td>0.486566</td>\n",
       "      <td>0.483154</td>\n",
       "      <td>0.909480</td>\n",
       "      <td>0.090520</td>\n",
       "      <td>0.016465</td>\n",
       "      <td>0.026567</td>\n",
       "      <td>0.001084</td>\n",
       "      <td>0.024026</td>\n",
       "      <td>0.017500</td>\n",
       "      <td>580338.0</td>\n",
       "      <td>-0.013434</td>\n",
       "      <td>#8B008B</td>\n",
       "      <td>0.5</td>\n",
       "      <td>POLYGON ((166031.420 4975754.206, 166071.488 4...</td>\n",
       "    </tr>\n",
       "    <tr>\n",
       "      <th>3</th>\n",
       "      <td>4.0</td>\n",
       "      <td>4</td>\n",
       "      <td>736714.0</td>\n",
       "      <td>-0.000001</td>\n",
       "      <td>0.734541</td>\n",
       "      <td>0.241345</td>\n",
       "      <td>0.470504</td>\n",
       "      <td>0.529496</td>\n",
       "      <td>0.314626</td>\n",
       "      <td>0.153485</td>\n",
       "      <td>0.001446</td>\n",
       "      <td>0.051948</td>\n",
       "      <td>0.021316</td>\n",
       "      <td>558133.0</td>\n",
       "      <td>0.234541</td>\n",
       "      <td>#FF0000</td>\n",
       "      <td>0.5</td>\n",
       "      <td>POLYGON ((427547.312 4764043.628, 427625.398 4...</td>\n",
       "    </tr>\n",
       "    <tr>\n",
       "      <th>4</th>\n",
       "      <td>5.0</td>\n",
       "      <td>5</td>\n",
       "      <td>736715.0</td>\n",
       "      <td>0.000000</td>\n",
       "      <td>0.346921</td>\n",
       "      <td>0.630317</td>\n",
       "      <td>0.883632</td>\n",
       "      <td>0.116368</td>\n",
       "      <td>0.019442</td>\n",
       "      <td>0.047246</td>\n",
       "      <td>0.000904</td>\n",
       "      <td>0.030984</td>\n",
       "      <td>0.013157</td>\n",
       "      <td>578845.0</td>\n",
       "      <td>-0.153079</td>\n",
       "      <td>#FFD700</td>\n",
       "      <td>0.5</td>\n",
       "      <td>POLYGON ((383425.419 4738101.544, 383420.384 4...</td>\n",
       "    </tr>\n",
       "  </tbody>\n",
       "</table>\n",
       "</div>"
      ],
      "text/plain": [
       "    id NAME  TotalPop  PopDevPc    DemPct    RepPct  WhitePct  Minority  \\\n",
       "0  1.0    1  736715.0  0.000000  0.481142  0.491911  0.782418  0.217582   \n",
       "1  2.0    2  736715.0  0.000000  0.694890  0.281285  0.820014  0.179986   \n",
       "2  3.0    3  736716.0  0.000001  0.486566  0.483154  0.909480  0.090520   \n",
       "3  4.0    4  736714.0 -0.000001  0.734541  0.241345  0.470504  0.529496   \n",
       "4  5.0    5  736715.0  0.000000  0.346921  0.630317  0.883632  0.116368   \n",
       "\n",
       "   BlackPct  Hispanic  PacificP  AsianPct  NativePc  TotalVAP    Margin  \\\n",
       "0  0.070932  0.102396  0.001110  0.024325  0.019329  575451.0 -0.018858   \n",
       "1  0.046568  0.056653  0.001187  0.057611  0.015589  584519.0  0.194890   \n",
       "2  0.016465  0.026567  0.001084  0.024026  0.017500  580338.0 -0.013434   \n",
       "3  0.314626  0.153485  0.001446  0.051948  0.021316  558133.0  0.234541   \n",
       "4  0.019442  0.047246  0.000904  0.030984  0.013157  578845.0 -0.153079   \n",
       "\n",
       "     color opacity                                           geometry  \n",
       "0  #0000FF     0.5  POLYGON ((348358.235 4745226.043, 347592.443 4...  \n",
       "1  #008000     0.5  POLYGON ((286255.899 4708986.006, 286384.418 4...  \n",
       "2  #8B008B     0.5  POLYGON ((166031.420 4975754.206, 166071.488 4...  \n",
       "3  #FF0000     0.5  POLYGON ((427547.312 4764043.628, 427625.398 4...  \n",
       "4  #FFD700     0.5  POLYGON ((383425.419 4738101.544, 383420.384 4...  "
      ]
     },
     "execution_count": 13,
     "metadata": {},
     "output_type": "execute_result"
    }
   ],
   "source": [
    "cong_df.head()"
   ]
  },
  {
   "cell_type": "code",
   "execution_count": 14,
   "metadata": {},
   "outputs": [
    {
     "data": {
      "text/html": [
       "<div>\n",
       "<style scoped>\n",
       "    .dataframe tbody tr th:only-of-type {\n",
       "        vertical-align: middle;\n",
       "    }\n",
       "\n",
       "    .dataframe tbody tr th {\n",
       "        vertical-align: top;\n",
       "    }\n",
       "\n",
       "    .dataframe thead th {\n",
       "        text-align: right;\n",
       "    }\n",
       "</style>\n",
       "<table border=\"1\" class=\"dataframe\">\n",
       "  <thead>\n",
       "    <tr style=\"text-align: right;\">\n",
       "      <th></th>\n",
       "      <th>CNTY_FIPS</th>\n",
       "      <th>CNTY_NAME</th>\n",
       "      <th>MCD_FIPS</th>\n",
       "      <th>MCD_NAME</th>\n",
       "      <th>CTV</th>\n",
       "      <th>WARDID</th>\n",
       "      <th>LABEL</th>\n",
       "      <th>PERSONS</th>\n",
       "      <th>RV</th>\n",
       "      <th>G18USSRVUK</th>\n",
       "      <th>...</th>\n",
       "      <th>G18ATGOWRI</th>\n",
       "      <th>G18SOSRSCH</th>\n",
       "      <th>G18SOSDLAF</th>\n",
       "      <th>G18SOSOKAR</th>\n",
       "      <th>G18SOSOWRI</th>\n",
       "      <th>G18TRERHAR</th>\n",
       "      <th>G18TREDGOD</th>\n",
       "      <th>G18TRECZUE</th>\n",
       "      <th>G18TREOWRI</th>\n",
       "      <th>geometry</th>\n",
       "    </tr>\n",
       "  </thead>\n",
       "  <tbody>\n",
       "    <tr>\n",
       "      <th>0</th>\n",
       "      <td>55139</td>\n",
       "      <td>WINNEBAGO</td>\n",
       "      <td>5513908000</td>\n",
       "      <td>BLACK WOLF</td>\n",
       "      <td>T</td>\n",
       "      <td>0001</td>\n",
       "      <td>BLACK WOLF - T 0001</td>\n",
       "      <td>792</td>\n",
       "      <td>590</td>\n",
       "      <td>279</td>\n",
       "      <td>...</td>\n",
       "      <td>0</td>\n",
       "      <td>289</td>\n",
       "      <td>190</td>\n",
       "      <td>0</td>\n",
       "      <td>0</td>\n",
       "      <td>283</td>\n",
       "      <td>182</td>\n",
       "      <td>9</td>\n",
       "      <td>0</td>\n",
       "      <td>MULTIPOLYGON (((380332.966 4867079.825, 380321...</td>\n",
       "    </tr>\n",
       "    <tr>\n",
       "      <th>1</th>\n",
       "      <td>55139</td>\n",
       "      <td>WINNEBAGO</td>\n",
       "      <td>5513908000</td>\n",
       "      <td>BLACK WOLF</td>\n",
       "      <td>T</td>\n",
       "      <td>0002</td>\n",
       "      <td>BLACK WOLF - T 0002</td>\n",
       "      <td>849</td>\n",
       "      <td>650</td>\n",
       "      <td>307</td>\n",
       "      <td>...</td>\n",
       "      <td>1</td>\n",
       "      <td>318</td>\n",
       "      <td>209</td>\n",
       "      <td>0</td>\n",
       "      <td>1</td>\n",
       "      <td>312</td>\n",
       "      <td>200</td>\n",
       "      <td>9</td>\n",
       "      <td>1</td>\n",
       "      <td>MULTIPOLYGON (((376302.702 4870937.546, 376359...</td>\n",
       "    </tr>\n",
       "    <tr>\n",
       "      <th>2</th>\n",
       "      <td>55039</td>\n",
       "      <td>FOND DU LAC</td>\n",
       "      <td>5503927975</td>\n",
       "      <td>FRIENDSHIP</td>\n",
       "      <td>T</td>\n",
       "      <td>0001</td>\n",
       "      <td>FRIENDSHIP - T 0001</td>\n",
       "      <td>908</td>\n",
       "      <td>550</td>\n",
       "      <td>242</td>\n",
       "      <td>...</td>\n",
       "      <td>0</td>\n",
       "      <td>252</td>\n",
       "      <td>155</td>\n",
       "      <td>0</td>\n",
       "      <td>1</td>\n",
       "      <td>250</td>\n",
       "      <td>145</td>\n",
       "      <td>8</td>\n",
       "      <td>0</td>\n",
       "      <td>MULTIPOLYGON (((381711.110 4851479.799, 381727...</td>\n",
       "    </tr>\n",
       "    <tr>\n",
       "      <th>3</th>\n",
       "      <td>55139</td>\n",
       "      <td>WINNEBAGO</td>\n",
       "      <td>5513908000</td>\n",
       "      <td>BLACK WOLF</td>\n",
       "      <td>T</td>\n",
       "      <td>0003</td>\n",
       "      <td>BLACK WOLF - T 0003</td>\n",
       "      <td>773</td>\n",
       "      <td>555</td>\n",
       "      <td>263</td>\n",
       "      <td>...</td>\n",
       "      <td>0</td>\n",
       "      <td>271</td>\n",
       "      <td>179</td>\n",
       "      <td>0</td>\n",
       "      <td>0</td>\n",
       "      <td>266</td>\n",
       "      <td>171</td>\n",
       "      <td>8</td>\n",
       "      <td>0</td>\n",
       "      <td>MULTIPOLYGON (((383535.765 4861940.707, 383537...</td>\n",
       "    </tr>\n",
       "    <tr>\n",
       "      <th>4</th>\n",
       "      <td>55007</td>\n",
       "      <td>BAYFIELD</td>\n",
       "      <td>5500739025</td>\n",
       "      <td>KELLY</td>\n",
       "      <td>T</td>\n",
       "      <td>0001</td>\n",
       "      <td>KELLY - T 0001</td>\n",
       "      <td>463</td>\n",
       "      <td>274</td>\n",
       "      <td>103</td>\n",
       "      <td>...</td>\n",
       "      <td>0</td>\n",
       "      <td>107</td>\n",
       "      <td>103</td>\n",
       "      <td>0</td>\n",
       "      <td>0</td>\n",
       "      <td>104</td>\n",
       "      <td>97</td>\n",
       "      <td>4</td>\n",
       "      <td>0</td>\n",
       "      <td>POLYGON ((198408.669 5147671.053, 198407.229 5...</td>\n",
       "    </tr>\n",
       "  </tbody>\n",
       "</table>\n",
       "<p>5 rows × 42 columns</p>\n",
       "</div>"
      ],
      "text/plain": [
       "  CNTY_FIPS    CNTY_NAME    MCD_FIPS    MCD_NAME CTV WARDID  \\\n",
       "0     55139    WINNEBAGO  5513908000  BLACK WOLF   T   0001   \n",
       "1     55139    WINNEBAGO  5513908000  BLACK WOLF   T   0002   \n",
       "2     55039  FOND DU LAC  5503927975  FRIENDSHIP   T   0001   \n",
       "3     55139    WINNEBAGO  5513908000  BLACK WOLF   T   0003   \n",
       "4     55007     BAYFIELD  5500739025       KELLY   T   0001   \n",
       "\n",
       "                 LABEL  PERSONS   RV  G18USSRVUK  ...  G18ATGOWRI  G18SOSRSCH  \\\n",
       "0  BLACK WOLF - T 0001      792  590         279  ...           0         289   \n",
       "1  BLACK WOLF - T 0002      849  650         307  ...           1         318   \n",
       "2  FRIENDSHIP - T 0001      908  550         242  ...           0         252   \n",
       "3  BLACK WOLF - T 0003      773  555         263  ...           0         271   \n",
       "4       KELLY - T 0001      463  274         103  ...           0         107   \n",
       "\n",
       "   G18SOSDLAF  G18SOSOKAR  G18SOSOWRI  G18TRERHAR  G18TREDGOD  G18TRECZUE  \\\n",
       "0         190           0           0         283         182           9   \n",
       "1         209           0           1         312         200           9   \n",
       "2         155           0           1         250         145           8   \n",
       "3         179           0           0         266         171           8   \n",
       "4         103           0           0         104          97           4   \n",
       "\n",
       "   G18TREOWRI                                           geometry  \n",
       "0           0  MULTIPOLYGON (((380332.966 4867079.825, 380321...  \n",
       "1           1  MULTIPOLYGON (((376302.702 4870937.546, 376359...  \n",
       "2           0  MULTIPOLYGON (((381711.110 4851479.799, 381727...  \n",
       "3           0  MULTIPOLYGON (((383535.765 4861940.707, 383537...  \n",
       "4           0  POLYGON ((198408.669 5147671.053, 198407.229 5...  \n",
       "\n",
       "[5 rows x 42 columns]"
      ]
     },
     "execution_count": 14,
     "metadata": {},
     "output_type": "execute_result"
    }
   ],
   "source": [
    "vest18_df.head()"
   ]
  },
  {
   "cell_type": "code",
   "execution_count": 15,
   "metadata": {},
   "outputs": [
    {
     "name": "stdout",
     "output_type": "stream",
     "text": [
      "Index(['GEOID20', 'SUMLEV', 'LOGRECNO', 'GEOID', 'COUNTY', 'P0020001',\n",
      "       'P0020002', 'P0020003', 'P0020004', 'P0020005', 'P0020006', 'P0020007',\n",
      "       'P0020008', 'P0020009', 'P0020010', 'P0020011', 'P0020012', 'P0020013',\n",
      "       'P0020014', 'P0020015', 'P0020016', 'P0020017', 'P0020018', 'P0020019',\n",
      "       'P0020020', 'P0020021', 'P0020022', 'P0020023', 'P0020024', 'P0020025',\n",
      "       'P0020026', 'P0020027', 'P0020028', 'P0020029', 'P0020030', 'P0020031',\n",
      "       'P0020032', 'P0020033', 'P0020034', 'P0020035', 'P0020036', 'P0020037',\n",
      "       'P0020038', 'P0020039', 'P0020040', 'P0020041', 'P0020042', 'P0020043',\n",
      "       'P0020044', 'P0020045', 'P0020046', 'P0020047', 'P0020048', 'P0020049',\n",
      "       'P0020050', 'P0020051', 'P0020052', 'P0020053', 'P0020054', 'P0020055',\n",
      "       'P0020056', 'P0020057', 'P0020058', 'P0020059', 'P0020060', 'P0020061',\n",
      "       'P0020062', 'P0020063', 'P0020064', 'P0020065', 'P0020066', 'P0020067',\n",
      "       'P0020068', 'P0020069', 'P0020070', 'P0020071', 'P0020072', 'P0020073',\n",
      "       'geometry'],\n",
      "      dtype='object')\n"
     ]
    }
   ],
   "source": [
    "print(population_df.columns)"
   ]
  },
  {
   "cell_type": "code",
   "execution_count": 16,
   "metadata": {},
   "outputs": [
    {
     "name": "stdout",
     "output_type": "stream",
     "text": [
      "Index(['STATEFP20', 'COUNTYFP20', 'COUNTYNS20', 'GEOID20', 'NAME20',\n",
      "       'NAMELSAD20', 'LSAD20', 'CLASSFP20', 'MTFCC20', 'CSAFP20',\n",
      "       ...\n",
      "       'P0050002', 'P0050003', 'P0050004', 'P0050005', 'P0050006', 'P0050007',\n",
      "       'P0050008', 'P0050009', 'P0050010', 'geometry'],\n",
      "      dtype='object', length=349)\n"
     ]
    }
   ],
   "source": [
    "print(county_df.columns)"
   ]
  },
  {
   "cell_type": "code",
   "execution_count": 17,
   "metadata": {},
   "outputs": [
    {
     "name": "stdout",
     "output_type": "stream",
     "text": [
      "Index(['CNTY_FIPS', 'CNTY_NAME', 'MCD_FIPS', 'MCD_NAME', 'CTV', 'WARDID',\n",
      "       'LABEL', 'PERSONS', 'RV', 'G20PREDBID', 'G20PRERTRU', 'G20PRECBLA',\n",
      "       'G20PRELJOR', 'G20PREICAR', 'G20PREOWEL', 'G20PREOSIM', 'G20PREOBOD',\n",
      "       'G20PREOHAW', 'G20PREOLAR', 'G20PREOWES', 'G20PREOCHA', 'G20PREOWRI',\n",
      "       'geometry'],\n",
      "      dtype='object')\n"
     ]
    }
   ],
   "source": [
    "print(vest20_df.columns)"
   ]
  },
  {
   "cell_type": "code",
   "execution_count": 18,
   "metadata": {},
   "outputs": [
    {
     "name": "stdout",
     "output_type": "stream",
     "text": [
      "Index(['id', 'NAME', 'TotalPop', 'PopDevPc', 'DemPct', 'RepPct', 'WhitePct',\n",
      "       'Minority', 'BlackPct', 'Hispanic', 'PacificP', 'AsianPct', 'NativePc',\n",
      "       'TotalVAP', 'Margin', 'color', 'opacity', 'geometry'],\n",
      "      dtype='object')\n"
     ]
    }
   ],
   "source": [
    "print(cong_df.columns)"
   ]
  },
  {
   "cell_type": "code",
   "execution_count": 19,
   "metadata": {},
   "outputs": [
    {
     "name": "stdout",
     "output_type": "stream",
     "text": [
      "Index(['CNTY_FIPS', 'CNTY_NAME', 'MCD_FIPS', 'MCD_NAME', 'CTV', 'WARDID',\n",
      "       'LABEL', 'PERSONS', 'RV', 'G18USSRVUK', 'G18USSDBAL', 'G18USSOWAL',\n",
      "       'G18USSOSCH', 'G18USSOWRI', 'G18GOVRWAL', 'G18GOVDEVE', 'G18GOVLAND',\n",
      "       'G18GOVGWHI', 'G18GOVITUR', 'G18GOVIENZ', 'G18GOVOCAS', 'G18GOVOBOU',\n",
      "       'G18GOVOGRI', 'G18GOVOLAN', 'G18GOVOHOF', 'G18GOVOTUR', 'G18GOVONO1',\n",
      "       'G18GOVONO2', 'G18GOVOWRI', 'G18ATGRSCH', 'G18ATGDKAU', 'G18ATGCLAR',\n",
      "       'G18ATGOWRI', 'G18SOSRSCH', 'G18SOSDLAF', 'G18SOSOKAR', 'G18SOSOWRI',\n",
      "       'G18TRERHAR', 'G18TREDGOD', 'G18TRECZUE', 'G18TREOWRI', 'geometry'],\n",
      "      dtype='object')\n"
     ]
    }
   ],
   "source": [
    "print(vest18_df.columns)"
   ]
  },
  {
   "cell_type": "code",
   "execution_count": 20,
   "metadata": {},
   "outputs": [],
   "source": [
    "vest20_df.drop(columns=['G20PRECBLA', 'G20PRELJOR', 'G20PREICAR', 'G20PREOWEL', 'G20PREOSIM',\n",
    "              'G20PREOBOD', 'G20PREOHAW', 'G20PREOLAR', 'G20PREOWES', 'G20PREOCHA', 'G20PREOWRI',], inplace=True)"
   ]
  },
  {
   "cell_type": "code",
   "execution_count": 21,
   "metadata": {},
   "outputs": [
    {
     "data": {
      "text/plain": [
       "Index(['CNTY_FIPS', 'CNTY_NAME', 'MCD_FIPS', 'MCD_NAME', 'CTV', 'WARDID',\n",
       "       'LABEL', 'PERSONS', 'RV', 'G20PREDBID', 'G20PRERTRU', 'geometry'],\n",
       "      dtype='object')"
      ]
     },
     "execution_count": 21,
     "metadata": {},
     "output_type": "execute_result"
    }
   ],
   "source": [
    "vest20_df.columns"
   ]
  },
  {
   "cell_type": "code",
   "execution_count": 22,
   "metadata": {},
   "outputs": [],
   "source": [
    "vest18_df.drop(columns=['G18USSOWAL', 'G18USSOSCH', 'G18USSOWRI', 'G18GOVLAND', 'G18GOVGWHI', 'G18GOVITUR', 'G18GOVIENZ', 'G18GOVOCAS', 'G18GOVOBOU', 'G18GOVOGRI',\n",
    "              'G18GOVOLAN', 'G18GOVOHOF', 'G18GOVOTUR', 'G18GOVONO1', 'G18GOVONO2', 'G18GOVOWRI', 'G18ATGCLAR', 'G18ATGOWRI', 'G18SOSOKAR', 'G18SOSOWRI', 'G18TRECZUE', 'G18TREOWRI'], inplace=True)"
   ]
  },
  {
   "cell_type": "code",
   "execution_count": 23,
   "metadata": {},
   "outputs": [
    {
     "data": {
      "text/plain": [
       "Index(['CNTY_FIPS', 'CNTY_NAME', 'MCD_FIPS', 'MCD_NAME', 'CTV', 'WARDID',\n",
       "       'LABEL', 'PERSONS', 'RV', 'G18USSRVUK', 'G18USSDBAL', 'G18GOVRWAL',\n",
       "       'G18GOVDEVE', 'G18ATGRSCH', 'G18ATGDKAU', 'G18SOSRSCH', 'G18SOSDLAF',\n",
       "       'G18TRERHAR', 'G18TREDGOD', 'geometry'],\n",
       "      dtype='object')"
      ]
     },
     "execution_count": 23,
     "metadata": {},
     "output_type": "execute_result"
    }
   ],
   "source": [
    "vest18_df.columns"
   ]
  },
  {
   "cell_type": "code",
   "execution_count": 24,
   "metadata": {},
   "outputs": [
    {
     "data": {
      "text/plain": [
       "GEOID20     0\n",
       "SUMLEV      0\n",
       "LOGRECNO    0\n",
       "GEOID       0\n",
       "COUNTY      0\n",
       "           ..\n",
       "P0020070    0\n",
       "P0020071    0\n",
       "P0020072    0\n",
       "P0020073    0\n",
       "geometry    0\n",
       "Length: 79, dtype: int64"
      ]
     },
     "execution_count": 24,
     "metadata": {},
     "output_type": "execute_result"
    }
   ],
   "source": [
    "population_df.isna().sum()"
   ]
  },
  {
   "cell_type": "code",
   "execution_count": 25,
   "metadata": {},
   "outputs": [
    {
     "data": {
      "text/plain": [
       "STATEFP20     0\n",
       "COUNTYFP20    0\n",
       "COUNTYNS20    0\n",
       "GEOID20       0\n",
       "NAME20        0\n",
       "             ..\n",
       "P0050007      0\n",
       "P0050008      0\n",
       "P0050009      0\n",
       "P0050010      0\n",
       "geometry      0\n",
       "Length: 349, dtype: int64"
      ]
     },
     "execution_count": 25,
     "metadata": {},
     "output_type": "execute_result"
    }
   ],
   "source": [
    "county_df.isna().sum()"
   ]
  },
  {
   "cell_type": "code",
   "execution_count": 26,
   "metadata": {},
   "outputs": [
    {
     "data": {
      "text/plain": [
       "CNTY_FIPS     0\n",
       "CNTY_NAME     0\n",
       "MCD_FIPS      0\n",
       "MCD_NAME      0\n",
       "CTV           0\n",
       "WARDID        0\n",
       "LABEL         0\n",
       "PERSONS       0\n",
       "RV            0\n",
       "G20PREDBID    0\n",
       "G20PRERTRU    0\n",
       "geometry      0\n",
       "dtype: int64"
      ]
     },
     "execution_count": 26,
     "metadata": {},
     "output_type": "execute_result"
    }
   ],
   "source": [
    "vest20_df.isna().sum()"
   ]
  },
  {
   "cell_type": "code",
   "execution_count": 27,
   "metadata": {},
   "outputs": [
    {
     "data": {
      "text/plain": [
       "id          0\n",
       "NAME        0\n",
       "TotalPop    0\n",
       "PopDevPc    0\n",
       "DemPct      0\n",
       "RepPct      0\n",
       "WhitePct    0\n",
       "Minority    0\n",
       "BlackPct    0\n",
       "Hispanic    0\n",
       "PacificP    0\n",
       "AsianPct    0\n",
       "NativePc    0\n",
       "TotalVAP    0\n",
       "Margin      0\n",
       "color       0\n",
       "opacity     0\n",
       "geometry    0\n",
       "dtype: int64"
      ]
     },
     "execution_count": 27,
     "metadata": {},
     "output_type": "execute_result"
    }
   ],
   "source": [
    "cong_df.isna().sum()"
   ]
  },
  {
   "cell_type": "code",
   "execution_count": 28,
   "metadata": {},
   "outputs": [
    {
     "data": {
      "text/plain": [
       "CNTY_FIPS     0\n",
       "CNTY_NAME     0\n",
       "MCD_FIPS      0\n",
       "MCD_NAME      0\n",
       "CTV           0\n",
       "WARDID        0\n",
       "LABEL         0\n",
       "PERSONS       0\n",
       "RV            0\n",
       "G18USSRVUK    0\n",
       "G18USSDBAL    0\n",
       "G18GOVRWAL    0\n",
       "G18GOVDEVE    0\n",
       "G18ATGRSCH    0\n",
       "G18ATGDKAU    0\n",
       "G18SOSRSCH    0\n",
       "G18SOSDLAF    0\n",
       "G18TRERHAR    0\n",
       "G18TREDGOD    0\n",
       "geometry      0\n",
       "dtype: int64"
      ]
     },
     "execution_count": 28,
     "metadata": {},
     "output_type": "execute_result"
    }
   ],
   "source": [
    "vest18_df.isna().sum()"
   ]
  },
  {
   "cell_type": "code",
   "execution_count": 29,
   "metadata": {},
   "outputs": [
    {
     "name": "stderr",
     "output_type": "stream",
     "text": [
      "100%|██████████| 203059/203059 [01:24<00:00, 2392.29it/s]\n"
     ]
    },
    {
     "data": {
      "text/plain": [
       "True"
      ]
     },
     "execution_count": 29,
     "metadata": {},
     "output_type": "execute_result"
    }
   ],
   "source": [
    "maup.doctor(population_df)"
   ]
  },
  {
   "cell_type": "code",
   "execution_count": 30,
   "metadata": {},
   "outputs": [
    {
     "name": "stderr",
     "output_type": "stream",
     "text": [
      "100%|██████████| 72/72 [00:00<00:00, 557.49it/s]\n"
     ]
    },
    {
     "data": {
      "text/plain": [
       "True"
      ]
     },
     "execution_count": 30,
     "metadata": {},
     "output_type": "execute_result"
    }
   ],
   "source": [
    "maup.doctor(county_df)"
   ]
  },
  {
   "cell_type": "code",
   "execution_count": 31,
   "metadata": {},
   "outputs": [
    {
     "name": "stderr",
     "output_type": "stream",
     "text": [
      "100%|██████████| 7093/7093 [00:05<00:00, 1408.42it/s]\n"
     ]
    },
    {
     "name": "stdout",
     "output_type": "stream",
     "text": [
      "There are 252 overlaps.\n",
      "There are 1169 holes.\n"
     ]
    },
    {
     "data": {
      "text/plain": [
       "False"
      ]
     },
     "execution_count": 31,
     "metadata": {},
     "output_type": "execute_result"
    }
   ],
   "source": [
    "maup.doctor(vest20_df)"
   ]
  },
  {
   "cell_type": "code",
   "execution_count": 32,
   "metadata": {},
   "outputs": [
    {
     "name": "stderr",
     "output_type": "stream",
     "text": [
      "100%|██████████| 8/8 [00:00<00:00, 398.81it/s]\n"
     ]
    },
    {
     "data": {
      "text/plain": [
       "True"
      ]
     },
     "execution_count": 32,
     "metadata": {},
     "output_type": "execute_result"
    }
   ],
   "source": [
    "maup.doctor(cong_df)"
   ]
  },
  {
   "cell_type": "code",
   "execution_count": 33,
   "metadata": {},
   "outputs": [
    {
     "name": "stderr",
     "output_type": "stream",
     "text": [
      "100%|██████████| 6997/6997 [00:05<00:00, 1381.52it/s]\n"
     ]
    },
    {
     "name": "stdout",
     "output_type": "stream",
     "text": [
      "There are 2460 overlaps.\n",
      "There are 2999 holes.\n",
      "There are some invalid geometries.\n"
     ]
    },
    {
     "data": {
      "text/plain": [
       "False"
      ]
     },
     "execution_count": 33,
     "metadata": {},
     "output_type": "execute_result"
    }
   ],
   "source": [
    "maup.doctor(vest18_df)"
   ]
  },
  {
   "cell_type": "code",
   "execution_count": 34,
   "metadata": {},
   "outputs": [],
   "source": [
    "# vest18_df = smart_repair(vest18_df, nest_within_regions=county_df)"
   ]
  },
  {
   "cell_type": "code",
   "execution_count": 35,
   "metadata": {},
   "outputs": [
    {
     "name": "stderr",
     "output_type": "stream",
     "text": [
      "100%|██████████| 72/72 [00:00<00:00, 543.95it/s]\n"
     ]
    },
    {
     "name": "stdout",
     "output_type": "stream",
     "text": [
      "Snapping all geometries to a grid with precision 10^( -5 ) to avoid GEOS errors.\n"
     ]
    },
    {
     "name": "stderr",
     "output_type": "stream",
     "text": [
      "100%|██████████| 72/72 [00:00<00:00, 676.08it/s]\n",
      "100%|██████████| 72/72 [00:00<00:00, 146.43it/s]\n"
     ]
    },
    {
     "name": "stdout",
     "output_type": "stream",
     "text": [
      "Identifying overlaps...\n"
     ]
    },
    {
     "name": "stderr",
     "output_type": "stream",
     "text": [
      "100%|██████████| 15336/15336 [00:05<00:00, 2647.59it/s]\n"
     ]
    },
    {
     "name": "stdout",
     "output_type": "stream",
     "text": [
      "Resolving overlaps and filling gaps...\n"
     ]
    },
    {
     "name": "stderr",
     "output_type": "stream",
     "text": [
      "100%|██████████| 72/72 [00:00<00:00, 720.45it/s]\n",
      "100%|██████████| 72/72 [00:00<00:00, 151.97it/s]\n",
      "Gaps to simplify in region 0: 100%|██████████| 79/79 [00:24<00:00,  3.26it/s] \n",
      "Gaps to fill in region 0: 100%|██████████| 71/71 [00:00<00:00, 80.93it/s] \n",
      "Gaps to simplify in region 1: 100%|██████████| 57/57 [00:08<00:00,  6.36it/s]\n",
      "Gaps to fill in region 1: 100%|██████████| 66/66 [00:00<00:00, 73.66it/s] \n",
      "Gaps to simplify in region 2: 40it [00:07,  5.10it/s]                        \n",
      "Gaps to fill in region 2: 100%|██████████| 58/58 [00:01<00:00, 38.17it/s]\n",
      "Gaps to simplify in region 3: 100%|██████████| 74/74 [00:01<00:00, 40.48it/s]\n",
      "Gaps to fill in region 3: 100%|██████████| 22/22 [00:00<00:00, 34.24it/s]\n",
      "Gaps to simplify in region 4: 100%|██████████| 62/62 [00:03<00:00, 15.73it/s] \n",
      "Gaps to fill in region 4: 100%|██████████| 62/62 [00:00<00:00, 102.68it/s]\n",
      "Gaps to simplify in region 5: 100%|██████████| 88/88 [00:00<00:00, 91.14it/s]\n",
      "Gaps to fill in region 5: 100%|██████████| 22/22 [00:00<00:00, 41.14it/s]\n",
      "Gaps to simplify in region 6: 100%|██████████| 110/110 [00:10<00:00, 10.82it/s]\n",
      "Gaps to fill in region 6: 100%|██████████| 59/59 [00:00<00:00, 92.00it/s]\n",
      "Gaps to simplify in region 7: 100%|██████████| 78/78 [00:01<00:00, 76.97it/s] \n",
      "Gaps to fill in region 7: 100%|██████████| 17/17 [00:00<00:00, 38.20it/s]\n"
     ]
    },
    {
     "name": "stdout",
     "output_type": "stream",
     "text": [
      "2 gaps in region 8 will remain unfilled, because they either are not simply connected or exceed the area threshold.\n"
     ]
    },
    {
     "name": "stderr",
     "output_type": "stream",
     "text": [
      "Gaps to simplify in region 8: 100%|██████████| 160/160 [00:02<00:00, 56.98it/s]\n",
      "Gaps to fill in region 8: 100%|██████████| 10/10 [00:00<00:00, 15.96it/s]\n",
      "Gaps to simplify in region 9: 100%|██████████| 93/93 [00:01<00:00, 78.34it/s] \n",
      "Gaps to fill in region 9: 100%|██████████| 18/18 [00:00<00:00, 42.75it/s]\n"
     ]
    },
    {
     "name": "stdout",
     "output_type": "stream",
     "text": [
      "1 gaps in region 10 will remain unfilled, because they either are not simply connected or exceed the area threshold.\n"
     ]
    },
    {
     "name": "stderr",
     "output_type": "stream",
     "text": [
      "Gaps to simplify in region 10: 100%|██████████| 19/19 [00:01<00:00, 12.14it/s]\n",
      "Gaps to fill in region 10: 100%|██████████| 12/12 [00:01<00:00,  9.50it/s]    \n",
      "Gaps to simplify in region 11: 100%|██████████| 121/121 [00:05<00:00, 24.15it/s]\n",
      "Gaps to fill in region 11: 100%|██████████| 67/67 [00:00<00:00, 73.63it/s] \n",
      "Gaps to simplify in region 12: 73it [00:01, 39.74it/s]                        \n",
      "Gaps to fill in region 12: 100%|██████████| 34/34 [00:01<00:00, 26.92it/s]\n",
      "Gaps to simplify in region 13: 155it [00:04, 34.50it/s]                         \n",
      "Gaps to fill in region 13: 100%|██████████| 32/32 [00:01<00:00, 18.35it/s]\n"
     ]
    },
    {
     "name": "stdout",
     "output_type": "stream",
     "text": [
      "1 gaps in region 14 will remain unfilled, because they either are not simply connected or exceed the area threshold.\n"
     ]
    },
    {
     "name": "stderr",
     "output_type": "stream",
     "text": [
      "Gaps to simplify in region 14: 100%|██████████| 43/43 [00:00<00:00, 88.84it/s]\n",
      "Gaps to fill in region 14: 100%|██████████| 7/7 [00:00<00:00, 44.95it/s]\n",
      "Gaps to simplify in region 15: 100%|██████████| 62/62 [00:02<00:00, 30.16it/s]\n",
      "Gaps to fill in region 15: 100%|██████████| 38/38 [00:00<00:00, 38.86it/s]\n",
      "Gaps to simplify in region 16: 100%|██████████| 67/67 [00:03<00:00, 17.92it/s]\n",
      "Gaps to fill in region 16: 100%|██████████| 72/72 [00:00<00:00, 104.04it/s]\n",
      "Gaps to simplify in region 17: 100%|██████████| 79/79 [00:00<00:00, 89.83it/s] \n",
      "Gaps to fill in region 17: 100%|██████████| 25/25 [00:00<00:00, 49.56it/s]\n"
     ]
    },
    {
     "name": "stdout",
     "output_type": "stream",
     "text": [
      "1 gaps in region 18 will remain unfilled, because they either are not simply connected or exceed the area threshold.\n"
     ]
    },
    {
     "name": "stderr",
     "output_type": "stream",
     "text": [
      "Gaps to simplify in region 18: 100%|██████████| 47/47 [00:02<00:00, 20.39it/s]\n",
      "Gaps to fill in region 18: 100%|██████████| 29/29 [00:00<00:00, 92.77it/s] \n",
      "Gaps to simplify in region 19: 100%|██████████| 50/50 [00:01<00:00, 33.67it/s] \n",
      "Gaps to fill in region 19: 100%|██████████| 7/7 [00:01<00:00,  6.48it/s]\n"
     ]
    },
    {
     "name": "stdout",
     "output_type": "stream",
     "text": [
      "1 gaps in region 20 will remain unfilled, because they either are not simply connected or exceed the area threshold.\n"
     ]
    },
    {
     "name": "stderr",
     "output_type": "stream",
     "text": [
      "Gaps to simplify in region 20: 100%|██████████| 40/40 [00:02<00:00, 14.12it/s]\n",
      "Gaps to fill in region 20: 100%|██████████| 25/25 [00:00<00:00, 39.06it/s]\n",
      "Gaps to simplify in region 21: 100%|██████████| 21/21 [00:05<00:00,  4.04it/s]\n",
      "Gaps to fill in region 21: 100%|██████████| 67/67 [00:00<00:00, 145.32it/s]\n",
      "Gaps to simplify in region 22: 100%|██████████| 57/57 [00:00<00:00, 57.04it/s] \n",
      "Gaps to fill in region 22: 100%|██████████| 18/18 [00:00<00:00, 27.65it/s]\n"
     ]
    },
    {
     "name": "stdout",
     "output_type": "stream",
     "text": [
      "1 gaps in region 23 will remain unfilled, because they either are not simply connected or exceed the area threshold.\n"
     ]
    },
    {
     "name": "stderr",
     "output_type": "stream",
     "text": [
      "Gaps to simplify in region 23: 100%|██████████| 57/57 [00:02<00:00, 23.93it/s]\n",
      "Gaps to fill in region 23: 100%|██████████| 17/17 [00:01<00:00, 10.41it/s]\n",
      "Gaps to simplify in region 24: 100%|██████████| 63/63 [00:00<00:00, 90.63it/s] \n",
      "Gaps to fill in region 24: 100%|██████████| 7/7 [00:00<00:00, 43.48it/s]\n"
     ]
    },
    {
     "name": "stdout",
     "output_type": "stream",
     "text": [
      "1 gaps in region 25 will remain unfilled, because they either are not simply connected or exceed the area threshold.\n"
     ]
    },
    {
     "name": "stderr",
     "output_type": "stream",
     "text": [
      "Gaps to simplify in region 25: 100%|██████████| 31/31 [00:00<00:00, 43.68it/s]\n",
      "Gaps to fill in region 25: 100%|██████████| 12/12 [00:00<00:00, 42.37it/s]\n",
      "Gaps to simplify in region 26: 100%|██████████| 56/56 [00:01<00:00, 38.15it/s]\n",
      "Gaps to fill in region 26: 100%|██████████| 9/9 [00:01<00:00,  6.35it/s]\n"
     ]
    },
    {
     "name": "stdout",
     "output_type": "stream",
     "text": [
      "1 gaps in region 27 will remain unfilled, because they either are not simply connected or exceed the area threshold.\n"
     ]
    },
    {
     "name": "stderr",
     "output_type": "stream",
     "text": [
      "Gaps to simplify in region 27: 100%|██████████| 231/231 [00:03<00:00, 69.10it/s] \n",
      "Gaps to fill in region 27: 100%|██████████| 30/30 [00:00<00:00, 64.04it/s]\n",
      "Gaps to simplify in region 28: 100%|██████████| 56/56 [00:00<00:00, 70.82it/s] \n",
      "Gaps to fill in region 28: 100%|██████████| 12/12 [00:00<00:00, 95.65it/s]\n",
      "Gaps to simplify in region 29: 119it [00:02, 46.22it/s]                         \n",
      "Gaps to fill in region 29: 100%|██████████| 28/28 [00:00<00:00, 47.51it/s] \n",
      "Gaps to simplify in region 30: 100%|██████████| 82/82 [00:01<00:00, 46.77it/s]\n",
      "Gaps to fill in region 30: 100%|██████████| 22/22 [00:00<00:00, 41.22it/s]\n",
      "Gaps to simplify in region 31: 100%|██████████| 66/66 [00:03<00:00, 21.98it/s]\n",
      "Gaps to fill in region 31: 100%|██████████| 64/64 [00:00<00:00, 70.18it/s] \n",
      "Gaps to simplify in region 32: 78it [00:01, 46.73it/s]                        \n",
      "Gaps to fill in region 32: 100%|██████████| 24/24 [00:00<00:00, 35.01it/s]\n",
      "Gaps to simplify in region 33: 100%|██████████| 72/72 [00:07<00:00,  9.82it/s]\n",
      "Gaps to fill in region 33: 100%|██████████| 26/26 [00:00<00:00, 42.45it/s]\n",
      "Gaps to simplify in region 34: 100%|██████████| 35/35 [00:02<00:00, 17.00it/s]\n",
      "Gaps to fill in region 34: 100%|██████████| 40/40 [00:00<00:00, 105.94it/s]\n",
      "Gaps to simplify in region 35: 100%|██████████| 86/86 [00:02<00:00, 37.63it/s]\n",
      "Gaps to fill in region 35: 100%|██████████| 24/24 [00:01<00:00, 17.08it/s]\n",
      "Gaps to simplify in region 36: 100%|██████████| 94/94 [00:06<00:00, 15.28it/s]\n",
      "Gaps to fill in region 36: 100%|██████████| 59/59 [00:00<00:00, 119.50it/s]\n",
      "Gaps to simplify in region 37: 100%|██████████| 21/21 [00:00<00:00, 33.42it/s]\n",
      "Gaps to fill in region 37: 100%|██████████| 5/5 [00:00<00:00, 40.78it/s]\n"
     ]
    },
    {
     "name": "stdout",
     "output_type": "stream",
     "text": [
      "1 gaps in region 38 will remain unfilled, because they either are not simply connected or exceed the area threshold.\n"
     ]
    },
    {
     "name": "stderr",
     "output_type": "stream",
     "text": [
      "Gaps to simplify in region 38: 100%|██████████| 49/49 [00:01<00:00, 32.17it/s]\n",
      "Gaps to fill in region 38: 100%|██████████| 15/15 [00:00<00:00, 26.03it/s]\n"
     ]
    },
    {
     "name": "stdout",
     "output_type": "stream",
     "text": [
      "1 gaps in region 39 will remain unfilled, because they either are not simply connected or exceed the area threshold.\n"
     ]
    },
    {
     "name": "stderr",
     "output_type": "stream",
     "text": [
      "Gaps to simplify in region 39: 100%|██████████| 61/61 [00:01<00:00, 36.10it/s]\n",
      "Gaps to fill in region 39: 100%|██████████| 6/6 [00:00<00:00, 44.25it/s]\n",
      "Gaps to simplify in region 40: 93it [00:17,  5.25it/s]                        \n",
      "Gaps to fill in region 40: 100%|██████████| 116/116 [00:01<00:00, 73.27it/s]\n",
      "Gaps to simplify in region 41: 100%|██████████| 45/45 [00:17<00:00,  2.64it/s]\n",
      "Gaps to fill in region 41: 100%|██████████| 84/84 [00:00<00:00, 111.30it/s]\n",
      "Gaps to simplify in region 42: 100%|██████████| 55/55 [00:12<00:00,  4.53it/s]\n",
      "Gaps to fill in region 42: 100%|██████████| 57/57 [00:00<00:00, 63.71it/s] \n",
      "Gaps to simplify in region 43: 100%|██████████| 72/72 [00:01<00:00, 70.23it/s]\n",
      "Gaps to fill in region 43: 100%|██████████| 26/26 [00:00<00:00, 97.17it/s]\n",
      "Gaps to simplify in region 44: 100%|██████████| 132/132 [00:01<00:00, 93.26it/s]\n",
      "Gaps to fill in region 44: 100%|██████████| 19/19 [00:00<00:00, 60.75it/s]\n",
      "Gaps to simplify in region 45: 100%|██████████| 60/60 [00:00<00:00, 64.88it/s] \n",
      "Gaps to fill in region 45: 100%|██████████| 14/14 [00:00<00:00, 35.23it/s]\n",
      "Gaps to simplify in region 46: 36it [00:04,  7.66it/s]                        \n",
      "Gaps to fill in region 46: 100%|██████████| 28/28 [00:01<00:00, 19.63it/s]\n",
      "Gaps to simplify in region 47: 41it [00:10,  3.77it/s]                        \n",
      "Gaps to fill in region 47: 100%|██████████| 74/74 [00:01<00:00, 66.33it/s]\n"
     ]
    },
    {
     "name": "stdout",
     "output_type": "stream",
     "text": [
      "1 gaps in region 48 will remain unfilled, because they either are not simply connected or exceed the area threshold.\n"
     ]
    },
    {
     "name": "stderr",
     "output_type": "stream",
     "text": [
      "Gaps to simplify in region 48: 100%|██████████| 17/17 [00:00<00:00, 27.31it/s]\n",
      "Gaps to fill in region 48: 100%|██████████| 12/12 [00:00<00:00, 18.45it/s]\n"
     ]
    },
    {
     "name": "stdout",
     "output_type": "stream",
     "text": [
      "1 gaps in region 49 will remain unfilled, because they either are not simply connected or exceed the area threshold.\n"
     ]
    },
    {
     "name": "stderr",
     "output_type": "stream",
     "text": [
      "Gaps to simplify in region 49: 100%|██████████| 48/48 [00:02<00:00, 23.30it/s]\n",
      "Gaps to fill in region 49: 100%|██████████| 29/29 [00:01<00:00, 17.77it/s]\n"
     ]
    },
    {
     "name": "stdout",
     "output_type": "stream",
     "text": [
      "1 gaps in region 50 will remain unfilled, because they either are not simply connected or exceed the area threshold.\n"
     ]
    },
    {
     "name": "stderr",
     "output_type": "stream",
     "text": [
      "Gaps to simplify in region 50: 100%|██████████| 46/46 [00:01<00:00, 33.42it/s]\n",
      "Gaps to fill in region 50: 100%|██████████| 7/7 [00:00<00:00, 19.70it/s]\n",
      "Gaps to simplify in region 51: 100%|██████████| 93/93 [00:01<00:00, 62.26it/s]\n",
      "Gaps to fill in region 51: 100%|██████████| 14/14 [00:00<00:00, 25.14it/s]\n",
      "Gaps to simplify in region 52: 100%|██████████| 58/58 [00:02<00:00, 21.64it/s]\n",
      "Gaps to fill in region 52: 100%|██████████| 45/45 [00:00<00:00, 78.10it/s] \n",
      "Gaps to simplify in region 53: 100%|██████████| 63/63 [00:01<00:00, 42.76it/s]\n",
      "Gaps to fill in region 53: 100%|██████████| 19/19 [00:00<00:00, 33.88it/s]\n",
      "Gaps to simplify in region 54: 100%|██████████| 32/32 [00:08<00:00,  3.98it/s]\n",
      "Gaps to fill in region 54: 100%|██████████| 41/41 [00:00<00:00, 60.78it/s]\n",
      "Gaps to simplify in region 55: 100%|██████████| 78/78 [00:05<00:00, 13.23it/s]\n",
      "Gaps to fill in region 55: 100%|██████████| 29/29 [00:00<00:00, 29.99it/s]\n",
      "Gaps to simplify in region 56: 100%|██████████| 83/83 [00:01<00:00, 56.69it/s]\n",
      "Gaps to fill in region 56: 100%|██████████| 20/20 [00:00<00:00, 25.86it/s]\n"
     ]
    },
    {
     "name": "stdout",
     "output_type": "stream",
     "text": [
      "1 gaps in region 57 will remain unfilled, because they either are not simply connected or exceed the area threshold.\n"
     ]
    },
    {
     "name": "stderr",
     "output_type": "stream",
     "text": [
      "Gaps to simplify in region 57: 100%|██████████| 24/24 [00:00<00:00, 28.58it/s] \n",
      "Gaps to fill in region 57: 100%|██████████| 6/6 [00:00<00:00,  8.95it/s]\n"
     ]
    },
    {
     "name": "stdout",
     "output_type": "stream",
     "text": [
      "1 gaps in region 58 will remain unfilled, because they either are not simply connected or exceed the area threshold.\n"
     ]
    },
    {
     "name": "stderr",
     "output_type": "stream",
     "text": [
      "Gaps to simplify in region 58: 100%|██████████| 41/41 [00:01<00:00, 37.42it/s]\n",
      "Gaps to fill in region 58: 100%|██████████| 13/13 [00:00<00:00, 31.29it/s]\n",
      "Gaps to simplify in region 59: 64it [00:01, 34.79it/s]                        \n",
      "Gaps to fill in region 59: 100%|██████████| 31/31 [00:01<00:00, 30.62it/s]\n"
     ]
    },
    {
     "name": "stdout",
     "output_type": "stream",
     "text": [
      "1 gaps in region 60 will remain unfilled, because they either are not simply connected or exceed the area threshold.\n"
     ]
    },
    {
     "name": "stderr",
     "output_type": "stream",
     "text": [
      "Gaps to simplify in region 60: 100%|██████████| 50/50 [00:00<00:00, 139.22it/s]\n",
      "Gaps to fill in region 60: 100%|██████████| 1/1 [00:00<00:00, 50.96it/s]\n",
      "Gaps to simplify in region 61: 100%|██████████| 44/44 [00:00<00:00, 83.23it/s] \n",
      "Gaps to fill in region 61: 100%|██████████| 7/7 [00:00<00:00, 36.66it/s]\n"
     ]
    },
    {
     "name": "stdout",
     "output_type": "stream",
     "text": [
      "1 gaps in region 62 will remain unfilled, because they either are not simply connected or exceed the area threshold.\n"
     ]
    },
    {
     "name": "stderr",
     "output_type": "stream",
     "text": [
      "Gaps to simplify in region 62: 100%|██████████| 60/60 [00:01<00:00, 46.50it/s]\n",
      "Gaps to fill in region 62: 100%|██████████| 24/24 [00:00<00:00, 38.07it/s]\n"
     ]
    },
    {
     "name": "stdout",
     "output_type": "stream",
     "text": [
      "2 gaps in region 63 will remain unfilled, because they either are not simply connected or exceed the area threshold.\n"
     ]
    },
    {
     "name": "stderr",
     "output_type": "stream",
     "text": [
      "Gaps to simplify in region 63: 100%|██████████| 11/11 [00:00<00:00, 125.98it/s]\n",
      "Gaps to fill: 0it [00:00, ?it/s]\n",
      "Gaps to simplify in region 64: 100%|██████████| 61/61 [00:00<00:00, 86.45it/s] \n",
      "Gaps to fill in region 64: 100%|██████████| 11/11 [00:00<00:00, 59.06it/s]\n",
      "Gaps to simplify in region 65: 66it [00:08,  7.45it/s]                         \n",
      "Gaps to fill in region 65: 100%|██████████| 59/59 [00:01<00:00, 43.92it/s]\n",
      "Gaps to simplify in region 66: 100%|██████████| 74/74 [00:03<00:00, 21.26it/s]\n",
      "Gaps to fill in region 66: 100%|██████████| 51/51 [00:00<00:00, 79.87it/s]\n",
      "Gaps to simplify in region 67: 60it [00:00, 97.04it/s]                         \n",
      "Gaps to fill in region 67: 100%|██████████| 14/14 [00:00<00:00, 37.37it/s]\n"
     ]
    },
    {
     "name": "stdout",
     "output_type": "stream",
     "text": [
      "1 gaps in region 68 will remain unfilled, because they either are not simply connected or exceed the area threshold.\n"
     ]
    },
    {
     "name": "stderr",
     "output_type": "stream",
     "text": [
      "Gaps to simplify in region 68: 100%|██████████| 93/93 [00:01<00:00, 90.05it/s] \n",
      "Gaps to fill in region 68: 100%|██████████| 15/15 [00:00<00:00, 58.90it/s]\n",
      "Gaps to simplify in region 69: 100%|██████████| 114/114 [00:01<00:00, 59.47it/s]\n",
      "Gaps to fill in region 69: 100%|██████████| 15/15 [00:00<00:00, 71.65it/s]\n",
      "Gaps to simplify in region 70: 100%|██████████| 51/51 [00:07<00:00,  6.55it/s]\n",
      "Gaps to fill in region 70: 100%|██████████| 40/40 [00:00<00:00, 95.24it/s]\n",
      "Gaps to simplify in region 71: 154it [00:02, 51.72it/s]                         \n",
      "Gaps to fill in region 71: 100%|██████████| 25/25 [00:00<00:00, 54.43it/s]\n"
     ]
    },
    {
     "name": "stdout",
     "output_type": "stream",
     "text": [
      "WARNING: A component of the geometry at index 1804 may have been disconnected!\n",
      "WARNING: A component of the geometry at index 2254 may have been disconnected!\n",
      "WARNING: A component of the geometry at index 5119 may have been disconnected!\n",
      "WARNING: A component of the geometry at index 6018 may have been disconnected!\n",
      "WARNING: A component of the geometry at index 6152 may have been disconnected!\n"
     ]
    }
   ],
   "source": [
    "final_df = smart_repair(vest20_df, nest_within_regions = county_df)"
   ]
  },
  {
   "cell_type": "code",
   "execution_count": 36,
   "metadata": {},
   "outputs": [
    {
     "name": "stdout",
     "output_type": "stream",
     "text": [
      "[0.0, 0.0, 0.0, 0.0, 0.0, 0.0, 0.0, 0.0, 0.0, 0.0, 0.0, 0.0, 0.0, 0.0, 0.0, 0.0, 0.0, 0.0, 0.0, 0.0, 0.0, 0.0, 0.0, 0.0, 0.0, 0.0, 0.0, 0.0, 0.0, 0.0, 0.0, 0.0, 0.0, 0.0, 0.0, 0.0, 0.0, 0.0, 0.0, 0.0, 0.0, 0.0, 0.0, 0.0, 0.0, 0.0, 0.0, 0.0, 0.0, 0.0, 0.0, 0.0, 0.0, 0.0, 0.0, 0.0, 0.0, 0.0, 0.0, 0.0, 0.0, 0.0, 0.0, 0.0, 0.0, 0.0, 0.0, 0.0, 0.0, 0.0, 0.0, 0.0, 0.0, 0.0, 0.0, 0.0, 0.0, 0.0, 0.0, 0.0, 0.0, 0.0, 0.0, 0.0, 0.0, 0.0, 0.0, 0.0, 0.0, 0.0, 0.0, 0.0, 0.0, 0.0, 0.0, 0.0, 0.0, 0.0, 0.0, 0.0, 0.0, 0.0, 0.0, 0.0, 0.0, 0.0, 0.0, 0.0, 0.0, 0.0, 0.0, 0.0, 0.0, 0.0, 0.0, 0.0, 0.0, 0.0, 0.0, 0.0, 0.0, 0.0, 0.0, 0.0, 0.0, 0.0, 0.0, 0.0, 0.0, 0.0, 0.0, 0.0, 0.0, 0.0, 0.0, 0.0, 0.0, 0.0, 0.0, 0.0, 0.0, 0.0, 0.0, 0.0, 0.0, 0.0, 0.0, 0.0, 0.0, 0.0, 0.0, 0.0, 0.0, 0.0, 0.0, 0.0, 0.0, 0.0, 0.0, 0.0, 0.0, 0.0, 0.0, 0.0, 0.0, 0.0, 0.0, 0.0, 0.0, 0.0, 0.0, 0.0, 0.0, 0.0, 0.0, 0.0, 0.0, 0.0, 0.0, 0.0, 0.0, 0.0, 0.0, 0.0, 0.0, 0.0, 0.0, 0.0, 0.0, 0.0, 0.0, 0.0, 0.0, 0.0, 0.0, 0.0, 0.0, 0.0, 0.0, 0.0, 0.0, 0.0, 0.0, 0.0, 0.0, 0.0, 0.0, 0.0, 0.0, 0.0, 0.0, 0.0, 0.0, 0.0, 0.0, 0.0, 0.0, 0.0, 0.0, 0.0, 0.0, 0.0, 0.0, 0.0, 0.0, 0.0, 0.0, 0.0, 0.0, 0.0, 0.0, 0.0, 0.0, 0.0, 0.0, 0.0, 0.0, 0.0, 0.0, 0.0, 0.0, 0.0, 0.0, 0.0, 0.0, 0.0, 0.0, 0.0, 0.0, 0.0, 0.0, 0.0, 0.0, 0.0, 0.0, 0.0, 0.0, 0.0, 0.0, 0.0, 0.0, 0.0, 0.0, 0.0, 0.0, 0.0, 0.0, 0.0, 0.0, 0.0, 0.0, 0.0, 0.0, 0.0, 0.0, 0.0, 0.0, 0.0, 0.0, 0.0, 0.0, 0.0, 0.0, 0.0, 0.0, 0.0, 0.0, 0.0, 0.0, 0.0, 0.0, 0.0, 0.0, 0.0, 0.0, 0.0, 0.0, 0.0, 0.0, 0.0, 0.0, 0.0, 0.0, 0.0, 0.0, 0.0, 0.0, 0.0, 0.0, 0.0, 0.0, 0.0, 0.0, 0.0, 0.0, 0.0, 0.0, 0.0, 0.0, 0.0, 0.0, 0.0, 0.0, 0.0, 0.0, 0.0, 0.0, 0.0, 0.0, 0.0, 0.0, 0.0, 0.0, 0.0, 0.0, 0.0, 0.0, 0.0, 0.0, 0.0, 0.0, 0.0, 0.0, 0.0, 0.0, 0.0, 0.0, 0.0, 0.0, 0.0, 0.0, 0.0, 0.0, 0.0, 0.0, 0.0, 0.0, 0.0, 0.0, 0.0, 0.0, 0.0, 0.0, 0.0, 0.0, 0.0, 0.0, 0.0, 0.0, 0.0, 0.0, 0.0, 0.0, 0.0, 0.0, 0.0, 0.0, 0.0, 0.0, 0.0, 0.0, 0.0, 0.0, 0.0, 0.0, 0.0, 0.0, 0.0, 0.0, 0.0, 0.0, 0.0, 0.0, 0.0, 0.0, 0.0, 0.0, 0.0, 0.0, 0.0, 0.0, 0.0, 0.0, 0.0, 0.0, 0.0, 0.0, 0.0, 0.0, 0.0, 0.0, 0.0, 0.0, 0.0, 0.0, 0.0, 0.0, 0.0, 0.0, 0.0, 0.0, 0.0, 0.0, 0.0, 0.0, 0.0, 0.0, 0.0, 0.0, 0.0, 0.0, 0.0, 0.0, 0.0, 0.0, 0.0, 0.0, 0.0, 0.0, 0.0, 0.0, 0.0, 0.0, 0.0, 0.0, 0.0, 0.0, 0.0, 0.0, 0.0, 0.0, 0.0, 0.0, 0.0, 0.0, 0.0, 0.0, 0.0, 0.0, 0.0, 0.0, 0.0, 0.0, 0.0, 0.0, 0.0, 0.0, 0.0, 0.0, 0.0, 0.0, 0.0, 0.0, 0.0, 0.0, 0.0, 0.0, 0.0, 0.0, 0.0, 0.0, 0.0, 0.0, 0.0, 0.0, 0.0, 0.0, 0.0, 0.0, 0.0, 0.0, 0.0, 0.0, 0.0, 0.0, 0.0, 0.0, 0.0, 0.0, 0.0, 0.0, 0.0, 0.0, 0.0, 0.0, 0.0, 0.0, 0.0, 0.0, 0.0, 0.0, 0.0, 0.0, 0.0, 0.0, 0.0, 0.0, 0.0, 0.0, 0.0, 0.0, 0.0, 0.0, 0.0, 0.0, 0.0, 0.0, 0.0, 0.0, 0.0, 0.0, 0.0, 0.0, 0.0, 0.0, 0.0, 0.0, 0.0, 0.0, 0.0, 0.0, 0.0, 0.0, 0.0, 0.0, 0.0, 0.0, 0.0, 0.0, 0.0, 0.0, 0.0, 0.0, 0.0, 0.0, 0.0, 0.0, 0.0, 0.0, 0.0, 0.0, 0.0, 0.0, 0.0, 0.0, 0.0, 0.0, 0.0, 0.0, 0.0, 0.0, 0.0, 0.0, 0.0, 0.0, 0.0, 0.0, 0.0, 0.0, 0.0, 0.0, 0.0, 0.0, 0.0, 0.0, 0.0, 0.0, 0.0, 0.0, 0.0, 0.0, 0.0, 0.0, 0.0, 0.0, 0.0, 0.0, 0.0, 0.0, 0.0, 0.0, 0.0, 0.0, 0.0, 0.0, 0.0, 0.0, 0.0, 0.0, 0.0, 0.0, 0.0, 0.0, 0.0, 0.0, 0.0, 0.0, 0.0, 0.0, 0.0, 0.0, 0.0, 0.0, 0.0, 0.0, 0.0, 0.0, 0.0, 0.0, 0.0, 0.0, 0.0, 0.0, 0.0, 0.0, 0.0, 0.0, 0.0, 0.0, 0.0, 0.0, 0.0, 0.0, 0.0, 0.0, 0.0, 0.0, 0.0, 0.0, 0.0, 0.0, 0.0, 0.0, 0.0, 0.0, 0.0, 0.0, 0.0, 0.0, 0.0, 0.0, 0.0, 0.0, 0.0, 0.0, 0.0, 0.0, 0.0, 0.0, 0.0, 0.0, 0.0, 0.0, 0.0, 0.0, 0.0, 0.0, 0.0, 0.0, 0.0, 0.0, 0.0, 0.0, 0.0, 0.0, 0.0, 0.0, 0.0, 0.0, 0.0, 0.0, 0.0, 0.0, 0.0, 0.0, 0.0, 0.0, 0.0, 0.0, 0.0, 0.0, 0.0, 0.0, 0.0, 0.0, 0.0, 0.0, 0.0, 0.0, 0.0, 0.0, 0.0, 0.0, 0.0, 0.0, 0.0, 0.0, 0.0, 0.0, 0.0, 0.0, 0.0, 0.0, 0.0, 0.0, 0.0, 0.0, 0.0, 0.0, 0.0, 0.0, 0.0, 0.0, 0.0, 0.0, 0.0, 0.0, 0.0, 0.0, 0.0, 0.0, 0.0, 0.0, 0.0, 0.0, 0.0, 0.0, 0.0, 0.0, 0.0, 0.0, 0.0, 0.0, 0.0, 0.0, 0.0, 0.0, 0.0, 0.0, 0.0, 0.0, 0.0, 0.0, 0.0, 0.0, 0.0, 0.0, 0.0, 0.0, 0.0, 0.0, 0.0, 0.0, 0.0, 0.0, 0.0, 0.0, 0.0, 0.0, 0.0, 0.0, 0.0, 0.0, 0.0, 0.0, 0.0, 0.0, 0.0, 0.0, 0.0, 0.0, 0.0, 0.0, 0.0, 0.0, 0.0, 0.0, 0.0, 0.0, 0.0, 0.0, 0.0, 0.0, 0.0, 0.0, 0.0, 0.0, 0.0, 0.0, 0.0, 0.0, 0.0, 0.0, 0.0, 0.0, 0.0, 0.0, 0.0, 0.0, 0.0, 0.0, 0.0, 0.0, 0.0, 0.0, 0.0, 0.0, 0.0, 0.0, 0.0, 0.0, 0.0, 0.0, 0.0, 0.0, 0.0, 0.0, 0.0, 0.0, 0.0, 0.0, 0.0, 0.0, 0.0, 0.0, 0.0, 0.0, 0.0, 0.0, 0.0, 0.0, 0.0, 0.0, 0.0, 0.0, 0.0, 0.0, 0.0, 0.0, 0.0, 0.0, 0.0, 0.0, 0.0, 0.0, 0.0, 0.0, 0.0, 0.0, 0.0, 0.0, 0.0, 0.0, 0.0, 0.0, 0.0, 0.0, 0.0, 0.0, 0.0, 0.0, 0.0, 0.0, 0.0, 0.0, 0.0, 0.0, 0.0, 0.0, 0.0, 0.0, 0.0, 0.0, 0.0, 0.0, 0.0, 0.0, 0.0, 0.0, 0.0, 0.0, 0.0, 0.0, 0.0, 0.0, 0.0, 0.0, 0.0, 0.0, 0.0, 0.0, 0.0, 0.0, 0.0, 0.0, 0.0, 0.0, 0.0, 0.0, 0.0, 0.0, 0.0, 0.0, 0.0, 0.0, 0.0, 0.0, 0.0, 0.0, 0.0, 0.0, 0.0, 0.0, 0.0, 0.0, 0.0, 0.0, 0.0, 0.0, 0.0, 0.0, 0.0, 0.0, 0.0, 0.0, 0.0, 0.0, 0.0, 0.0, 0.0, 0.0, 0.0, 0.0, 0.0, 0.0, 0.0, 0.0, 0.0, 0.0, 0.0, 0.0, 0.0, 0.0, 0.0, 0.0, 0.0, 0.0, 0.0, 0.0, 0.0, 0.0, 0.0, 0.0, 0.0, 0.0, 0.0, 0.0, 0.0, 0.0, 0.0, 0.0, 0.0, 0.0, 0.0, 0.0, 0.0, 0.0, 0.0, 0.0, 0.0, 0.0, 0.0, 0.0, 0.0, 0.0, 0.0, 0.0, 0.0, 0.0, 0.0]\n"
     ]
    }
   ],
   "source": [
    "import copy\n",
    "boundaries = copy.deepcopy(final_df)\n",
    "boundaries[\"geometry\"] = boundaries.geometry.boundary  # get boundaries\n",
    "neighbors = gpd.sjoin(boundaries, final_df, predicate=\"intersects\") # find boundaries that intersect\n",
    "neighbors = neighbors[neighbors.index != neighbors.index_right] # remove boundaries of a region with itself\n",
    "\n",
    "# compute shared border length using intersection\n",
    "borders = list(neighbors.apply(\n",
    "    lambda row: row.geometry.intersection(boundaries.loc[row.index_right, \"geometry\"]).length, axis=1\n",
    "))\n",
    "\n",
    "borders.sort()\n",
    "print(borders[:1000])"
   ]
  },
  {
   "cell_type": "code",
   "execution_count": 37,
   "metadata": {},
   "outputs": [
    {
     "name": "stdout",
     "output_type": "stream",
     "text": [
      "Snapping all geometries to a grid with precision 10^( -5 ) to avoid GEOS errors.\n",
      "Identifying overlaps...\n"
     ]
    },
    {
     "name": "stderr",
     "output_type": "stream",
     "text": [
      "100%|██████████| 8538/8538 [00:02<00:00, 3507.16it/s]\n"
     ]
    },
    {
     "name": "stdout",
     "output_type": "stream",
     "text": [
      "Resolving overlaps...\n",
      "1 gaps will remain unfilled, because they either are not simply connected or exceed the area threshold.\n",
      "Filling gaps...\n"
     ]
    },
    {
     "name": "stderr",
     "output_type": "stream",
     "text": [
      "Gaps to simplify: 0it [00:00, ?it/s]\n",
      "Gaps to fill: 0it [00:00, ?it/s]"
     ]
    },
    {
     "name": "stdout",
     "output_type": "stream",
     "text": [
      "Converting small rook adjacencies to queen...\n"
     ]
    },
    {
     "name": "stderr",
     "output_type": "stream",
     "text": [
      "\n",
      "100%|██████████| 7093/7093 [00:05<00:00, 1387.49it/s]\n",
      "100%|██████████| 5/5 [00:00<00:00, 3014.02it/s]\n",
      "100%|██████████| 4/4 [00:00<00:00, 2495.50it/s]\n",
      "100%|██████████| 4/4 [00:00<00:00, 2816.86it/s]\n",
      "100%|██████████| 4/4 [00:00<00:00, 2399.14it/s]\n",
      "100%|██████████| 4/4 [00:00<00:00, 2595.49it/s]\n",
      "100%|██████████| 4/4 [00:00<00:00, 2957.90it/s]\n",
      "100%|██████████| 4/4 [00:00<00:00, 2932.57it/s]\n",
      "100%|██████████| 4/4 [00:00<00:00, 2728.45it/s]\n",
      "100%|██████████| 4/4 [00:00<00:00, 2654.20it/s]\n",
      "100%|██████████| 5/5 [00:00<00:00, 3067.81it/s]\n",
      "100%|██████████| 4/4 [00:00<00:00, 2867.41it/s]\n",
      "100%|██████████| 4/4 [00:00<00:00, 2861.05it/s]\n",
      "100%|██████████| 5/5 [00:00<00:00, 2615.56it/s]\n",
      "100%|██████████| 4/4 [00:00<00:00, 2892.12it/s]\n",
      "100%|██████████| 4/4 [00:00<00:00, 2671.53it/s]\n",
      "100%|██████████| 4/4 [00:00<00:00, 2323.07it/s]\n",
      "100%|██████████| 4/4 [00:00<00:00, 2818.75it/s]\n",
      "100%|██████████| 5/5 [00:00<00:00, 3118.91it/s]\n",
      "100%|██████████| 5/5 [00:00<00:00, 3150.30it/s]\n",
      "100%|██████████| 5/5 [00:00<00:00, 3123.09it/s]\n",
      "100%|██████████| 4/4 [00:00<00:00, 2919.30it/s]\n",
      "100%|██████████| 4/4 [00:00<00:00, 2465.06it/s]\n",
      "100%|██████████| 4/4 [00:00<00:00, 2894.12it/s]\n",
      "100%|██████████| 4/4 [00:00<00:00, 2724.46it/s]\n",
      "100%|██████████| 4/4 [00:00<00:00, 2589.08it/s]\n",
      "100%|██████████| 4/4 [00:00<00:00, 2565.72it/s]\n",
      "100%|██████████| 4/4 [00:00<00:00, 2830.64it/s]\n",
      "100%|██████████| 4/4 [00:00<00:00, 2682.64it/s]\n",
      "100%|██████████| 4/4 [00:00<00:00, 2739.58it/s]\n",
      "100%|██████████| 4/4 [00:00<00:00, 2577.15it/s]\n",
      "100%|██████████| 4/4 [00:00<00:00, 2316.34it/s]\n",
      "100%|██████████| 4/4 [00:00<00:00, 2677.50it/s]\n",
      "100%|██████████| 4/4 [00:00<00:00, 2618.17it/s]\n",
      "100%|██████████| 4/4 [00:00<00:00, 2643.75it/s]\n",
      "100%|██████████| 4/4 [00:00<00:00, 3032.21it/s]\n",
      "100%|██████████| 4/4 [00:00<00:00, 2764.87it/s]\n",
      "100%|██████████| 4/4 [00:00<00:00, 2859.59it/s]\n",
      "100%|██████████| 5/5 [00:00<00:00, 2807.43it/s]\n",
      "100%|██████████| 4/4 [00:00<00:00, 2768.52it/s]\n",
      "100%|██████████| 4/4 [00:00<00:00, 2741.38it/s]\n",
      "100%|██████████| 4/4 [00:00<00:00, 2930.52it/s]\n",
      "100%|██████████| 4/4 [00:00<00:00, 2799.00it/s]\n",
      "100%|██████████| 4/4 [00:00<00:00, 3093.14it/s]\n",
      "100%|██████████| 4/4 [00:00<00:00, 2888.14it/s]\n",
      "100%|██████████| 4/4 [00:00<00:00, 3017.48it/s]\n",
      "100%|██████████| 4/4 [00:00<00:00, 2900.63it/s]\n",
      "100%|██████████| 4/4 [00:00<00:00, 2987.40it/s]\n",
      "100%|██████████| 4/4 [00:00<00:00, 2976.27it/s]\n",
      "100%|██████████| 4/4 [00:00<00:00, 2678.78it/s]\n",
      "100%|██████████| 5/5 [00:00<00:00, 2951.66it/s]\n",
      "100%|██████████| 4/4 [00:00<00:00, 2960.51it/s]\n",
      "100%|██████████| 4/4 [00:00<00:00, 2612.46it/s]\n",
      "100%|██████████| 4/4 [00:00<00:00, 2888.14it/s]\n",
      "100%|██████████| 4/4 [00:00<00:00, 2845.04it/s]\n",
      "100%|██████████| 4/4 [00:00<00:00, 2843.11it/s]\n",
      "100%|██████████| 4/4 [00:00<00:00, 2616.13it/s]\n",
      "100%|██████████| 4/4 [00:00<00:00, 2779.53it/s]\n",
      "100%|██████████| 4/4 [00:00<00:00, 2443.52it/s]\n",
      "100%|██████████| 4/4 [00:00<00:00, 2649.17it/s]\n",
      "100%|██████████| 4/4 [00:00<00:00, 2848.91it/s]\n",
      "100%|██████████| 4/4 [00:00<00:00, 3046.53it/s]\n",
      "100%|██████████| 4/4 [00:00<00:00, 2900.12it/s]\n",
      "100%|██████████| 4/4 [00:00<00:00, 2923.37it/s]\n",
      "100%|██████████| 4/4 [00:00<00:00, 2519.10it/s]\n",
      "100%|██████████| 4/4 [00:00<00:00, 2800.87it/s]\n",
      "100%|██████████| 4/4 [00:00<00:00, 2697.30it/s]\n",
      "100%|██████████| 4/4 [00:00<00:00, 2898.62it/s]\n",
      "100%|██████████| 4/4 [00:00<00:00, 2938.73it/s]\n",
      "100%|██████████| 4/4 [00:00<00:00, 2588.68it/s]\n",
      "100%|██████████| 4/4 [00:00<00:00, 2954.26it/s]\n",
      "100%|██████████| 4/4 [00:00<00:00, 2972.05it/s]\n",
      "100%|██████████| 4/4 [00:00<00:00, 2717.40it/s]\n",
      "100%|██████████| 4/4 [00:00<00:00, 3002.90it/s]\n",
      "100%|██████████| 3/3 [00:00<00:00, 2656.86it/s]\n",
      "100%|██████████| 4/4 [00:00<00:00, 2531.65it/s]\n",
      "100%|██████████| 4/4 [00:00<00:00, 2294.79it/s]\n",
      "100%|██████████| 4/4 [00:00<00:00, 2413.99it/s]\n",
      "100%|██████████| 4/4 [00:00<00:00, 2593.88it/s]\n",
      "100%|██████████| 5/5 [00:00<00:00, 3048.63it/s]\n",
      "100%|██████████| 4/4 [00:00<00:00, 2967.32it/s]\n",
      "100%|██████████| 4/4 [00:00<00:00, 2763.96it/s]\n",
      "100%|██████████| 4/4 [00:00<00:00, 3027.83it/s]\n",
      "100%|██████████| 5/5 [00:00<00:00, 2903.84it/s]\n",
      "100%|██████████| 6/6 [00:00<00:00, 3025.47it/s]\n",
      "100%|██████████| 4/4 [00:00<00:00, 2659.67it/s]\n",
      "100%|██████████| 5/5 [00:00<00:00, 3264.05it/s]\n",
      "100%|██████████| 4/4 [00:00<00:00, 2824.45it/s]\n",
      "100%|██████████| 4/4 [00:00<00:00, 2884.17it/s]\n",
      "100%|██████████| 4/4 [00:00<00:00, 2890.13it/s]\n",
      "100%|██████████| 4/4 [00:00<00:00, 2821.12it/s]\n",
      "100%|██████████| 4/4 [00:00<00:00, 2812.61it/s]\n",
      "100%|██████████| 5/5 [00:00<00:00, 2816.48it/s]\n",
      "100%|██████████| 4/4 [00:00<00:00, 2777.68it/s]\n",
      "100%|██████████| 4/4 [00:00<00:00, 2418.16it/s]\n",
      "100%|██████████| 4/4 [00:00<00:00, 2057.54it/s]\n",
      "100%|██████████| 4/4 [00:00<00:00, 2408.10it/s]\n",
      "100%|██████████| 4/4 [00:00<00:00, 2996.47it/s]\n",
      "100%|██████████| 4/4 [00:00<00:00, 2665.17it/s]\n",
      "100%|██████████| 4/4 [00:00<00:00, 2437.49it/s]\n",
      "100%|██████████| 4/4 [00:00<00:00, 2582.30it/s]\n",
      "100%|██████████| 4/4 [00:00<00:00, 2549.34it/s]\n",
      "100%|██████████| 5/5 [00:00<00:00, 3170.78it/s]\n",
      "100%|██████████| 4/4 [00:00<00:00, 2402.24it/s]\n",
      "100%|██████████| 4/4 [00:00<00:00, 2427.61it/s]\n",
      "100%|██████████| 4/4 [00:00<00:00, 2677.50it/s]\n",
      "100%|██████████| 4/4 [00:00<00:00, 2724.46it/s]\n",
      "100%|██████████| 4/4 [00:00<00:00, 2509.68it/s]\n",
      "100%|██████████| 6/6 [00:00<00:00, 3346.07it/s]\n",
      "100%|██████████| 4/4 [00:00<00:00, 2844.56it/s]\n",
      "100%|██████████| 4/4 [00:00<00:00, 2909.18it/s]\n",
      "100%|██████████| 5/5 [00:00<00:00, 3128.68it/s]\n",
      "100%|██████████| 4/4 [00:00<00:00, 2367.99it/s]\n",
      "100%|██████████| 4/4 [00:00<00:00, 2185.67it/s]\n",
      "100%|██████████| 4/4 [00:00<00:00, 2465.06it/s]\n",
      "100%|██████████| 4/4 [00:00<00:00, 3002.37it/s]\n",
      "100%|██████████| 3/3 [00:00<00:00, 2727.12it/s]\n",
      "100%|██████████| 5/5 [00:00<00:00, 3021.40it/s]\n",
      "100%|██████████| 5/5 [00:00<00:00, 3148.40it/s]\n",
      "100%|██████████| 4/4 [00:00<00:00, 2604.35it/s]\n",
      "100%|██████████| 4/4 [00:00<00:00, 2604.35it/s]\n",
      "100%|██████████| 4/4 [00:00<00:00, 2297.62it/s]\n",
      "100%|██████████| 4/4 [00:00<00:00, 2885.66it/s]\n",
      "100%|██████████| 4/4 [00:00<00:00, 2470.51it/s]\n",
      "100%|██████████| 4/4 [00:00<00:00, 2459.64it/s]\n",
      "100%|██████████| 4/4 [00:00<00:00, 2871.34it/s]\n",
      "100%|██████████| 4/4 [00:00<00:00, 2869.86it/s]\n",
      "100%|██████████| 4/4 [00:00<00:00, 3036.60it/s]\n",
      "100%|██████████| 4/4 [00:00<00:00, 2388.22it/s]\n",
      "100%|██████████| 4/4 [00:00<00:00, 2743.62it/s]\n",
      "100%|██████████| 4/4 [00:00<00:00, 2824.45it/s]\n",
      "100%|██████████| 4/4 [00:00<00:00, 2847.46it/s]\n",
      "100%|██████████| 4/4 [00:00<00:00, 3044.31it/s]\n",
      "100%|██████████| 4/4 [00:00<00:00, 2819.23it/s]\n",
      "100%|██████████| 4/4 [00:00<00:00, 2921.84it/s]\n",
      "100%|██████████| 4/4 [00:00<00:00, 3221.43it/s]\n",
      "100%|██████████| 4/4 [00:00<00:00, 2904.64it/s]\n",
      "100%|██████████| 4/4 [00:00<00:00, 3090.87it/s]\n",
      "100%|██████████| 4/4 [00:00<00:00, 3012.61it/s]\n",
      "100%|██████████| 4/4 [00:00<00:00, 3127.74it/s]\n",
      "100%|██████████| 4/4 [00:00<00:00, 3030.57it/s]\n",
      "100%|██████████| 4/4 [00:00<00:00, 3081.78it/s]\n",
      "100%|██████████| 4/4 [00:00<00:00, 2771.72it/s]\n",
      "100%|██████████| 5/5 [00:00<00:00, 3043.32it/s]\n",
      "100%|██████████| 4/4 [00:00<00:00, 2787.84it/s]\n",
      "100%|██████████| 4/4 [00:00<00:00, 2799.00it/s]\n",
      "100%|██████████| 5/5 [00:00<00:00, 3289.65it/s]\n",
      "100%|██████████| 5/5 [00:00<00:00, 3095.88it/s]\n",
      "100%|██████████| 6/6 [00:00<00:00, 3142.98it/s]\n",
      "100%|██████████| 4/4 [00:00<00:00, 2724.90it/s]\n",
      "100%|██████████| 5/5 [00:00<00:00, 3107.35it/s]\n",
      "100%|██████████| 5/5 [00:00<00:00, 3174.62it/s]\n",
      "100%|██████████| 4/4 [00:00<00:00, 2749.01it/s]\n",
      "100%|██████████| 4/4 [00:00<00:00, 2758.96it/s]\n",
      "100%|██████████| 4/4 [00:00<00:00, 2623.08it/s]\n",
      "100%|██████████| 4/4 [00:00<00:00, 2756.69it/s]\n",
      "100%|██████████| 4/4 [00:00<00:00, 2187.95it/s]\n",
      "100%|██████████| 3/3 [00:00<00:00, 2376.83it/s]\n",
      "100%|██████████| 4/4 [00:00<00:00, 2406.72it/s]\n",
      "100%|██████████| 4/4 [00:00<00:00, 2690.38it/s]\n",
      "100%|██████████| 4/4 [00:00<00:00, 2723.13it/s]\n",
      "100%|██████████| 5/5 [00:00<00:00, 2787.28it/s]\n",
      "100%|██████████| 5/5 [00:00<00:00, 2852.10it/s]\n",
      "100%|██████████| 4/4 [00:00<00:00, 2484.41it/s]\n",
      "100%|██████████| 4/4 [00:00<00:00, 2845.04it/s]\n",
      "100%|██████████| 4/4 [00:00<00:00, 2894.62it/s]\n",
      "100%|██████████| 4/4 [00:00<00:00, 2816.86it/s]\n",
      "100%|██████████| 5/5 [00:00<00:00, 3217.48it/s]\n",
      "100%|██████████| 5/5 [00:00<00:00, 2979.76it/s]\n",
      "100%|██████████| 5/5 [00:00<00:00, 2973.84it/s]\n",
      "100%|██████████| 4/4 [00:00<00:00, 2974.16it/s]\n",
      "100%|██████████| 4/4 [00:00<00:00, 2357.01it/s]\n",
      "100%|██████████| 4/4 [00:00<00:00, 2851.33it/s]\n",
      "100%|██████████| 4/4 [00:00<00:00, 2927.96it/s]\n",
      "100%|██████████| 5/5 [00:00<00:00, 2666.78it/s]\n",
      "100%|██████████| 4/4 [00:00<00:00, 2834.47it/s]\n",
      "100%|██████████| 4/4 [00:00<00:00, 3002.90it/s]\n",
      "100%|██████████| 4/4 [00:00<00:00, 2956.34it/s]\n",
      "100%|██████████| 4/4 [00:00<00:00, 2832.55it/s]\n",
      "100%|██████████| 3/3 [00:00<00:00, 2338.83it/s]\n",
      "100%|██████████| 4/4 [00:00<00:00, 2389.58it/s]\n",
      "100%|██████████| 4/4 [00:00<00:00, 2799.47it/s]\n",
      "100%|██████████| 4/4 [00:00<00:00, 2808.84it/s]\n",
      "100%|██████████| 5/5 [00:00<00:00, 2776.21it/s]\n",
      "100%|██████████| 5/5 [00:00<00:00, 2949.58it/s]\n",
      "100%|██████████| 4/4 [00:00<00:00, 710.48it/s]\n",
      "100%|██████████| 4/4 [00:00<00:00, 2354.04it/s]\n",
      "100%|██████████| 4/4 [00:00<00:00, 2537.77it/s]\n",
      "100%|██████████| 4/4 [00:00<00:00, 2744.96it/s]\n",
      "100%|██████████| 4/4 [00:00<00:00, 2677.50it/s]\n",
      "100%|██████████| 4/4 [00:00<00:00, 2736.01it/s]\n",
      "100%|██████████| 4/4 [00:00<00:00, 2932.57it/s]\n",
      "100%|██████████| 4/4 [00:00<00:00, 2879.71it/s]\n",
      "100%|██████████| 5/5 [00:00<00:00, 3019.22it/s]\n",
      "100%|██████████| 5/5 [00:00<00:00, 2944.61it/s]\n",
      "100%|██████████| 4/4 [00:00<00:00, 3093.71it/s]\n",
      "100%|██████████| 4/4 [00:00<00:00, 3072.19it/s]\n",
      "100%|██████████| 4/4 [00:00<00:00, 2503.31it/s]\n",
      "100%|██████████| 4/4 [00:00<00:00, 2976.27it/s]\n",
      "100%|██████████| 4/4 [00:00<00:00, 3050.96it/s]\n",
      "100%|██████████| 4/4 [00:00<00:00, 2967.84it/s]\n",
      "100%|██████████| 4/4 [00:00<00:00, 3027.83it/s]\n",
      "100%|██████████| 4/4 [00:00<00:00, 2713.44it/s]\n",
      "100%|██████████| 4/4 [00:00<00:00, 2879.71it/s]\n",
      "100%|██████████| 5/5 [00:00<00:00, 3012.28it/s]\n",
      "100%|██████████| 5/5 [00:00<00:00, 3113.35it/s]\n",
      "100%|██████████| 4/4 [00:00<00:00, 2799.47it/s]\n",
      "100%|██████████| 4/4 [00:00<00:00, 2490.31it/s]\n",
      "100%|██████████| 5/5 [00:00<00:00, 3001.08it/s]\n",
      "100%|██████████| 5/5 [00:00<00:00, 3115.20it/s]\n",
      "100%|██████████| 4/4 [00:00<00:00, 2544.70it/s]\n",
      "100%|██████████| 4/4 [00:00<00:00, 2806.96it/s]\n",
      "100%|██████████| 4/4 [00:00<00:00, 2670.68it/s]\n",
      "100%|██████████| 4/4 [00:00<00:00, 2924.39it/s]\n",
      "100%|██████████| 4/4 [00:00<00:00, 2464.70it/s]\n",
      "100%|██████████| 7/7 [00:00<00:00, 3352.76it/s]\n",
      "100%|██████████| 5/5 [00:00<00:00, 3092.23it/s]\n",
      "100%|██████████| 4/4 [00:00<00:00, 2536.62it/s]\n",
      "100%|██████████| 3/3 [00:00<00:00, 2746.76it/s]\n",
      "100%|██████████| 5/5 [00:00<00:00, 3158.36it/s]\n",
      "100%|██████████| 5/5 [00:00<00:00, 2950.00it/s]\n",
      "100%|██████████| 4/4 [00:00<00:00, 2661.36it/s]\n",
      "100%|██████████| 4/4 [00:00<00:00, 2879.71it/s]\n",
      "100%|██████████| 5/5 [00:00<00:00, 2893.42it/s]\n",
      "100%|██████████| 7/7 [00:00<00:00, 3278.63it/s]\n",
      "100%|██████████| 5/5 [00:00<00:00, 3066.01it/s]\n",
      "100%|██████████| 5/5 [00:00<00:00, 3109.19it/s]\n",
      "100%|██████████| 7/7 [00:00<00:00, 3468.82it/s]\n",
      "100%|██████████| 4/4 [00:00<00:00, 2720.92it/s]\n",
      "100%|██████████| 4/4 [00:00<00:00, 2881.69it/s]\n",
      "100%|██████████| 5/5 [00:00<00:00, 3111.50it/s]\n",
      "100%|██████████| 5/5 [00:00<00:00, 3135.22it/s]\n",
      "100%|██████████| 5/5 [00:00<00:00, 3097.71it/s]\n",
      "100%|██████████| 5/5 [00:00<00:00, 3050.85it/s]\n",
      "100%|██████████| 6/6 [00:00<00:00, 2973.28it/s]\n",
      "100%|██████████| 4/4 [00:00<00:00, 2714.32it/s]\n",
      "100%|██████████| 4/4 [00:00<00:00, 2833.03it/s]\n",
      "100%|██████████| 4/4 [00:00<00:00, 2614.09it/s]\n",
      "100%|██████████| 5/5 [00:00<00:00, 2917.17it/s]\n",
      "100%|██████████| 3/3 [00:00<00:00, 1930.49it/s]\n",
      "100%|██████████| 4/4 [00:00<00:00, 2541.23it/s]\n",
      "100%|██████████| 4/4 [00:00<00:00, 2974.16it/s]\n",
      "100%|██████████| 4/4 [00:00<00:00, 2580.32it/s]\n",
      "100%|██████████| 7/7 [00:00<00:00, 3521.24it/s]\n",
      "100%|██████████| 4/4 [00:00<00:00, 2741.38it/s]\n",
      "100%|██████████| 4/4 [00:00<00:00, 2921.84it/s]\n",
      "100%|██████████| 4/4 [00:00<00:00, 2726.67it/s]\n",
      "100%|██████████| 4/4 [00:00<00:00, 2654.20it/s]\n",
      "100%|██████████| 4/4 [00:00<00:00, 2723.13it/s]\n",
      "100%|██████████| 4/4 [00:00<00:00, 2687.79it/s]\n",
      "100%|██████████| 4/4 [00:00<00:00, 2904.64it/s]\n",
      "100%|██████████| 3/3 [00:00<00:00, 2611.10it/s]\n",
      "100%|██████████| 5/5 [00:00<00:00, 2805.93it/s]\n",
      "100%|██████████| 4/4 [00:00<00:00, 2704.69it/s]\n",
      "100%|██████████| 4/4 [00:00<00:00, 2911.19it/s]\n",
      "100%|██████████| 4/4 [00:00<00:00, 3396.20it/s]\n",
      "100%|██████████| 4/4 [00:00<00:00, 2988.99it/s]\n",
      "100%|██████████| 4/4 [00:00<00:00, 2580.71it/s]\n",
      "100%|██████████| 4/4 [00:00<00:00, 2795.27it/s]\n",
      "100%|██████████| 5/5 [00:00<00:00, 2538.92it/s]\n",
      "100%|██████████| 4/4 [00:00<00:00, 2599.10it/s]\n",
      "100%|██████████| 4/4 [00:00<00:00, 2713.88it/s]\n",
      "100%|██████████| 4/4 [00:00<00:00, 2722.25it/s]\n",
      "100%|██████████| 4/4 [00:00<00:00, 2871.34it/s]\n",
      "100%|██████████| 4/4 [00:00<00:00, 2956.34it/s]\n",
      "100%|██████████| 4/4 [00:00<00:00, 2785.52it/s]\n",
      "100%|██████████| 4/4 [00:00<00:00, 2791.09it/s]\n",
      "100%|██████████| 5/5 [00:00<00:00, 1845.11it/s]\n",
      "100%|██████████| 4/4 [00:00<00:00, 2799.00it/s]\n",
      "100%|██████████| 4/4 [00:00<00:00, 2777.68it/s]\n",
      "100%|██████████| 5/5 [00:00<00:00, 2597.41it/s]\n",
      "100%|██████████| 4/4 [00:00<00:00, 2580.71it/s]\n",
      "100%|██████████| 4/4 [00:00<00:00, 2745.41it/s]\n",
      "100%|██████████| 4/4 [00:00<00:00, 2899.12it/s]\n",
      "100%|██████████| 5/5 [00:00<00:00, 3165.03it/s]\n",
      "100%|██████████| 5/5 [00:00<00:00, 3076.81it/s]\n",
      "100%|██████████| 4/4 [00:00<00:00, 2339.27it/s]\n",
      "100%|██████████| 4/4 [00:00<00:00, 2924.39it/s]\n",
      "100%|██████████| 4/4 [00:00<00:00, 2710.37it/s]\n",
      "100%|██████████| 5/5 [00:00<00:00, 3034.07it/s]\n",
      "100%|██████████| 5/5 [00:00<00:00, 3111.50it/s]\n",
      "100%|██████████| 4/4 [00:00<00:00, 2830.64it/s]\n",
      "100%|██████████| 5/5 [00:00<00:00, 2928.98it/s]\n",
      "100%|██████████| 4/4 [00:00<00:00, 3070.50it/s]\n",
      "100%|██████████| 4/4 [00:00<00:00, 2745.41it/s]\n",
      "100%|██████████| 4/4 [00:00<00:00, 2649.17it/s]\n",
      "100%|██████████| 3/3 [00:00<00:00, 2702.52it/s]\n",
      "100%|██████████| 4/4 [00:00<00:00, 2557.50it/s]\n",
      "100%|██████████| 4/4 [00:00<00:00, 3050.96it/s]\n",
      "100%|██████████| 4/4 [00:00<00:00, 3110.35it/s]\n",
      "100%|██████████| 5/5 [00:00<00:00, 2983.57it/s]\n",
      "100%|██████████| 4/4 [00:00<00:00, 2569.25it/s]\n",
      "100%|██████████| 4/4 [00:00<00:00, 2647.50it/s]\n",
      "100%|██████████| 4/4 [00:00<00:00, 2969.42it/s]\n",
      "100%|██████████| 4/4 [00:00<00:00, 2743.62it/s]\n",
      "100%|██████████| 4/4 [00:00<00:00, 3110.35it/s]\n",
      "100%|██████████| 4/4 [00:00<00:00, 3000.75it/s]\n",
      "100%|██████████| 4/4 [00:00<00:00, 3107.47it/s]\n",
      "100%|██████████| 5/5 [00:00<00:00, 3058.41it/s]\n",
      "100%|██████████| 4/4 [00:00<00:00, 2836.86it/s]\n",
      "100%|██████████| 5/5 [00:00<00:00, 2979.76it/s]\n",
      "100%|██████████| 4/4 [00:00<00:00, 2869.37it/s]\n",
      "100%|██████████| 4/4 [00:00<00:00, 2448.16it/s]\n",
      "100%|██████████| 4/4 [00:00<00:00, 2724.46it/s]\n",
      "100%|██████████| 4/4 [00:00<00:00, 2459.64it/s]\n",
      "100%|██████████| 5/5 [00:00<00:00, 3166.47it/s]\n",
      "100%|██████████| 4/4 [00:00<00:00, 2643.75it/s]\n",
      "100%|██████████| 6/6 [00:00<00:00, 3284.07it/s]\n",
      "100%|██████████| 5/5 [00:00<00:00, 2974.26it/s]\n",
      "100%|██████████| 3/3 [00:00<00:00, 2458.56it/s]\n",
      "100%|██████████| 4/4 [00:00<00:00, 2721.37it/s]\n",
      "100%|██████████| 5/5 [00:00<00:00, 2878.33it/s]\n",
      "100%|██████████| 4/4 [00:00<00:00, 2631.72it/s]\n",
      "100%|██████████| 6/6 [00:00<00:00, 3176.30it/s]\n",
      "100%|██████████| 6/6 [00:00<00:00, 3309.55it/s]\n",
      "100%|██████████| 8/8 [00:00<00:00, 3496.35it/s]\n",
      "100%|██████████| 4/4 [00:00<00:00, 2699.04it/s]\n",
      "100%|██████████| 4/4 [00:00<00:00, 2834.47it/s]\n",
      "100%|██████████| 4/4 [00:00<00:00, 2363.99it/s]\n",
      "100%|██████████| 4/4 [00:00<00:00, 2717.40it/s]\n",
      "100%|██████████| 4/4 [00:00<00:00, 2824.45it/s]\n",
      "100%|██████████| 4/4 [00:00<00:00, 3030.57it/s]\n",
      "100%|██████████| 4/4 [00:00<00:00, 2747.21it/s]\n",
      "100%|██████████| 4/4 [00:00<00:00, 2568.86it/s]\n",
      "100%|██████████| 4/4 [00:00<00:00, 2962.60it/s]\n",
      "100%|██████████| 4/4 [00:00<00:00, 2736.01it/s]\n",
      "100%|██████████| 4/4 [00:00<00:00, 2941.31it/s]\n",
      "100%|██████████| 4/4 [00:00<00:00, 2873.30it/s]\n",
      "100%|██████████| 4/4 [00:00<00:00, 3000.75it/s]\n",
      "100%|██████████| 4/4 [00:00<00:00, 3045.97it/s]\n",
      "100%|██████████| 5/5 [00:00<00:00, 3078.61it/s]\n",
      "100%|██████████| 4/4 [00:00<00:00, 2551.28it/s]\n",
      "100%|██████████| 4/4 [00:00<00:00, 2833.03it/s]\n",
      "100%|██████████| 4/4 [00:00<00:00, 2296.36it/s]\n",
      "100%|██████████| 4/4 [00:00<00:00, 2569.25it/s]\n",
      "100%|██████████| 4/4 [00:00<00:00, 2535.09it/s]\n",
      "100%|██████████| 4/4 [00:00<00:00, 2247.15it/s]\n",
      "100%|██████████| 5/5 [00:00<00:00, 2699.38it/s]\n",
      "100%|██████████| 4/4 [00:00<00:00, 2689.52it/s]\n",
      "100%|██████████| 4/4 [00:00<00:00, 2778.14it/s]\n",
      "100%|██████████| 3/3 [00:00<00:00, 2311.34it/s]\n",
      "100%|██████████| 5/5 [00:00<00:00, 2655.30it/s]\n",
      "100%|██████████| 4/4 [00:00<00:00, 2708.19it/s]\n",
      "100%|██████████| 5/5 [00:00<00:00, 2586.52it/s]\n",
      "100%|██████████| 4/4 [00:00<00:00, 2679.21it/s]\n",
      "100%|██████████| 5/5 [00:00<00:00, 3097.71it/s]\n",
      "100%|██████████| 6/6 [00:00<00:00, 3133.59it/s]\n",
      "100%|██████████| 5/5 [00:00<00:00, 3084.95it/s]\n",
      "100%|██████████| 4/4 [00:00<00:00, 2349.09it/s]\n",
      "100%|██████████| 4/4 [00:00<00:00, 2844.56it/s]\n",
      "100%|██████████| 4/4 [00:00<00:00, 2737.80it/s]\n",
      "100%|██████████| 5/5 [00:00<00:00, 2847.07it/s]\n",
      "100%|██████████| 4/4 [00:00<00:00, 2832.55it/s]\n",
      "100%|██████████| 4/4 [00:00<00:00, 2930.52it/s]\n",
      "100%|██████████| 4/4 [00:00<00:00, 3110.92it/s]\n",
      "100%|██████████| 6/6 [00:00<00:00, 3210.34it/s]\n",
      "100%|██████████| 5/5 [00:00<00:00, 3043.32it/s]\n",
      "100%|██████████| 5/5 [00:00<00:00, 2847.46it/s]\n",
      "100%|██████████| 4/4 [00:00<00:00, 2539.31it/s]\n",
      "100%|██████████| 4/4 [00:00<00:00, 2799.00it/s]\n",
      "100%|██████████| 4/4 [00:00<00:00, 2902.63it/s]\n",
      "100%|██████████| 4/4 [00:00<00:00, 2888.14it/s]\n",
      "100%|██████████| 5/5 [00:00<00:00, 3358.13it/s]\n",
      "100%|██████████| 4/4 [00:00<00:00, 2944.92it/s]\n",
      "100%|██████████| 4/4 [00:00<00:00, 3062.65it/s]\n",
      "100%|██████████| 4/4 [00:00<00:00, 2762.14it/s]\n",
      "100%|██████████| 4/4 [00:00<00:00, 2871.83it/s]\n",
      "100%|██████████| 6/6 [00:00<00:00, 3012.07it/s]\n",
      "100%|██████████| 5/5 [00:00<00:00, 3144.63it/s]\n",
      "100%|██████████| 4/4 [00:00<00:00, 2764.41it/s]\n",
      "100%|██████████| 4/4 [00:00<00:00, 2428.66it/s]\n",
      "100%|██████████| 6/6 [00:00<00:00, 3189.99it/s]\n",
      "100%|██████████| 6/6 [00:00<00:00, 3393.91it/s]\n",
      "100%|██████████| 4/4 [00:00<00:00, 2902.63it/s]\n",
      "100%|██████████| 3/3 [00:00<00:00, 2601.93it/s]\n",
      "100%|██████████| 5/5 [00:00<00:00, 2927.35it/s]\n",
      "100%|██████████| 5/5 [00:00<00:00, 3276.29it/s]\n",
      "100%|██████████| 4/4 [00:00<00:00, 2660.94it/s]\n",
      "100%|██████████| 5/5 [00:00<00:00, 3223.41it/s]\n",
      "100%|██████████| 6/6 [00:00<00:00, 3184.34it/s]\n",
      "100%|██████████| 6/6 [00:00<00:00, 2874.78it/s]\n",
      "100%|██████████| 4/4 [00:00<00:00, 2719.16it/s]\n",
      "100%|██████████| 5/5 [00:00<00:00, 2756.15it/s]\n",
      "100%|██████████| 4/4 [00:00<00:00, 2562.58it/s]\n",
      "100%|██████████| 4/4 [00:00<00:00, 2814.50it/s]\n",
      "100%|██████████| 4/4 [00:00<00:00, 2469.42it/s]\n",
      "100%|██████████| 4/4 [00:00<00:00, 2986.86it/s]\n",
      "100%|██████████| 4/4 [00:00<00:00, 2354.04it/s]\n",
      "100%|██████████| 5/5 [00:00<00:00, 3053.96it/s]\n",
      "100%|██████████| 4/4 [00:00<00:00, 902.39it/s]\n",
      "100%|██████████| 4/4 [00:00<00:00, 2032.86it/s]\n",
      "100%|██████████| 3/3 [00:00<00:00, 2552.83it/s]\n",
      "100%|██████████| 4/4 [00:00<00:00, 2745.41it/s]\n",
      "100%|██████████| 4/4 [00:00<00:00, 2911.19it/s]\n",
      "100%|██████████| 4/4 [00:00<00:00, 3032.21it/s]\n",
      "100%|██████████| 4/4 [00:00<00:00, 2612.87it/s]\n",
      "100%|██████████| 4/4 [00:00<00:00, 2855.21it/s]\n",
      "100%|██████████| 4/4 [00:00<00:00, 2616.13it/s]\n",
      "100%|██████████| 4/4 [00:00<00:00, 2609.62it/s]\n",
      "100%|██████████| 4/4 [00:00<00:00, 2622.26it/s]\n",
      "100%|██████████| 4/4 [00:00<00:00, 2647.50it/s]\n",
      "100%|██████████| 4/4 [00:00<00:00, 3117.86it/s]\n",
      "100%|██████████| 4/4 [00:00<00:00, 2867.41it/s]\n",
      "100%|██████████| 4/4 [00:00<00:00, 2709.94it/s]\n",
      "100%|██████████| 4/4 [00:00<00:00, 2937.19it/s]\n",
      "100%|██████████| 4/4 [00:00<00:00, 2904.64it/s]\n",
      "100%|██████████| 4/4 [00:00<00:00, 2985.27it/s]\n",
      "100%|██████████| 4/4 [00:00<00:00, 2975.74it/s]\n",
      "100%|██████████| 4/4 [00:00<00:00, 3086.32it/s]\n",
      "100%|██████████| 5/5 [00:00<00:00, 3146.99it/s]\n",
      "100%|██████████| 4/4 [00:00<00:00, 2654.62it/s]\n",
      "100%|██████████| 4/4 [00:00<00:00, 2861.05it/s]\n",
      "100%|██████████| 4/4 [00:00<00:00, 3117.28it/s]\n",
      "100%|██████████| 4/4 [00:00<00:00, 3032.76it/s]\n",
      "100%|██████████| 4/4 [00:00<00:00, 3032.76it/s]\n",
      "100%|██████████| 4/4 [00:00<00:00, 2394.01it/s]\n",
      "100%|██████████| 4/4 [00:00<00:00, 2672.38it/s]\n",
      "100%|██████████| 4/4 [00:00<00:00, 2816.86it/s]\n",
      "100%|██████████| 4/4 [00:00<00:00, 2965.22it/s]\n",
      "100%|██████████| 4/4 [00:00<00:00, 3053.73it/s]\n",
      "100%|██████████| 4/4 [00:00<00:00, 2902.63it/s]\n",
      "100%|██████████| 4/4 [00:00<00:00, 2965.74it/s]\n",
      "100%|██████████| 4/4 [00:00<00:00, 2491.79it/s]\n",
      "100%|██████████| 4/4 [00:00<00:00, 2831.12it/s]\n",
      "100%|██████████| 4/4 [00:00<00:00, 2623.08it/s]\n",
      "100%|██████████| 4/4 [00:00<00:00, 2853.27it/s]\n",
      "100%|██████████| 4/4 [00:00<00:00, 2657.99it/s]\n",
      "100%|██████████| 4/4 [00:00<00:00, 2859.10it/s]\n",
      "100%|██████████| 4/4 [00:00<00:00, 3133.00it/s]\n",
      "100%|██████████| 4/4 [00:00<00:00, 2823.02it/s]\n",
      "100%|██████████| 4/4 [00:00<00:00, 3134.76it/s]\n",
      "100%|██████████| 4/4 [00:00<00:00, 2787.38it/s]\n",
      "100%|██████████| 4/4 [00:00<00:00, 3072.19it/s]\n",
      "100%|██████████| 4/4 [00:00<00:00, 2943.89it/s]\n",
      "100%|██████████| 4/4 [00:00<00:00, 2460.36it/s]\n",
      "100%|██████████| 4/4 [00:00<00:00, 2836.86it/s]\n",
      "100%|██████████| 4/4 [00:00<00:00, 2991.66it/s]\n",
      "100%|██████████| 6/6 [00:00<00:00, 3186.35it/s]\n",
      "100%|██████████| 6/6 [00:00<00:00, 3524.63it/s]\n",
      "100%|██████████| 4/4 [00:00<00:00, 2559.45it/s]\n",
      "100%|██████████| 4/4 [00:00<00:00, 2896.62it/s]\n",
      "100%|██████████| 6/6 [00:00<00:00, 2909.68it/s]\n",
      "100%|██████████| 4/4 [00:00<00:00, 2542.77it/s]\n",
      "100%|██████████| 4/4 [00:00<00:00, 2792.94it/s]\n",
      "100%|██████████| 5/5 [00:00<00:00, 2928.98it/s]\n",
      "100%|██████████| 4/4 [00:00<00:00, 2834.95it/s]\n",
      "100%|██████████| 4/4 [00:00<00:00, 2785.52it/s]\n",
      "100%|██████████| 4/4 [00:00<00:00, 2925.92it/s]\n",
      "100%|██████████| 4/4 [00:00<00:00, 2743.62it/s]\n",
      "100%|██████████| 4/4 [00:00<00:00, 2162.01it/s]\n",
      "100%|██████████| 5/5 [00:00<00:00, 2839.36it/s]\n",
      "100%|██████████| 4/4 [00:00<00:00, 2689.95it/s]\n",
      "100%|██████████| 4/4 [00:00<00:00, 2747.66it/s]\n",
      "100%|██████████| 4/4 [00:00<00:00, 2945.44it/s]\n",
      "100%|██████████| 4/4 [00:00<00:00, 3132.42it/s]\n",
      "100%|██████████| 5/5 [00:00<00:00, 2813.46it/s]\n",
      "100%|██████████| 4/4 [00:00<00:00, 2694.27it/s]\n",
      "100%|██████████| 4/4 [00:00<00:00, 2818.75it/s]\n",
      "100%|██████████| 4/4 [00:00<00:00, 2593.88it/s]\n",
      "100%|██████████| 4/4 [00:00<00:00, 2911.70it/s]\n",
      "100%|██████████| 4/4 [00:00<00:00, 2697.30it/s]\n",
      "100%|██████████| 5/5 [00:00<00:00, 2873.60it/s]\n",
      "100%|██████████| 5/5 [00:00<00:00, 3310.94it/s]\n",
      "100%|██████████| 4/4 [00:00<00:00, 2548.18it/s]\n",
      "100%|██████████| 4/4 [00:00<00:00, 2568.86it/s]\n",
      "100%|██████████| 5/5 [00:00<00:00, 2936.37it/s]\n",
      "100%|██████████| 5/5 [00:00<00:00, 3054.40it/s]\n",
      "100%|██████████| 4/4 [00:00<00:00, 2645.83it/s]\n",
      "100%|██████████| 6/6 [00:00<00:00, 3166.31it/s]\n",
      "100%|██████████| 4/4 [00:00<00:00, 2640.42it/s]\n",
      "100%|██████████| 5/5 [00:00<00:00, 3026.63it/s]\n",
      "100%|██████████| 5/5 [00:00<00:00, 3043.32it/s]\n",
      "100%|██████████| 5/5 [00:00<00:00, 2986.97it/s]\n",
      "100%|██████████| 5/5 [00:00<00:00, 3136.16it/s]\n",
      "100%|██████████| 3/3 [00:00<00:00, 2130.53it/s]\n",
      "100%|██████████| 4/4 [00:00<00:00, 2657.99it/s]\n",
      "100%|██████████| 3/3 [00:00<00:00, 2479.39it/s]\n",
      "100%|██████████| 4/4 [00:00<00:00, 2680.92it/s]\n",
      "100%|██████████| 4/4 [00:00<00:00, 2917.27it/s]\n",
      "100%|██████████| 6/6 [00:00<00:00, 2926.60it/s]\n",
      "100%|██████████| 4/4 [00:00<00:00, 2704.69it/s]\n",
      "100%|██████████| 4/4 [00:00<00:00, 2148.17it/s]\n",
      "100%|██████████| 4/4 [00:00<00:00, 2687.79it/s]\n",
      "100%|██████████| 4/4 [00:00<00:00, 2570.83it/s]\n",
      "100%|██████████| 4/4 [00:00<00:00, 2971.52it/s]\n",
      "100%|██████████| 4/4 [00:00<00:00, 2650.43it/s]\n",
      "100%|██████████| 4/4 [00:00<00:00, 2814.97it/s]\n",
      "100%|██████████| 4/4 [00:00<00:00, 2843.11it/s]\n",
      "100%|██████████| 4/4 [00:00<00:00, 2743.62it/s]\n",
      "100%|██████████| 4/4 [00:00<00:00, 2799.47it/s]\n",
      "100%|██████████| 4/4 [00:00<00:00, 2756.69it/s]\n",
      "100%|██████████| 4/4 [00:00<00:00, 2410.87it/s]\n",
      "100%|██████████| 4/4 [00:00<00:00, 2348.43it/s]\n",
      "100%|██████████| 4/4 [00:00<00:00, 2785.52it/s]\n",
      "100%|██████████| 4/4 [00:00<00:00, 2863.01it/s]\n",
      "100%|██████████| 4/4 [00:00<00:00, 2181.13it/s]\n",
      "100%|██████████| 4/4 [00:00<00:00, 2791.55it/s]\n",
      "100%|██████████| 4/4 [00:00<00:00, 2605.97it/s]\n",
      "100%|██████████| 4/4 [00:00<00:00, 2411.21it/s]\n",
      "100%|██████████| 4/4 [00:00<00:00, 2820.17it/s]\n",
      "100%|██████████| 4/4 [00:00<00:00, 2730.67it/s]\n",
      "100%|██████████| 4/4 [00:00<00:00, 2973.63it/s]\n",
      "100%|██████████| 7/7 [00:00<00:00, 3429.52it/s]\n",
      "100%|██████████| 5/5 [00:00<00:00, 3287.07it/s]\n",
      "100%|██████████| 4/4 [00:00<00:00, 2909.18it/s]\n",
      "100%|██████████| 4/4 [00:00<00:00, 2686.93it/s]\n",
      "100%|██████████| 6/6 [00:00<00:00, 2906.99it/s]\n",
      "100%|██████████| 5/5 [00:00<00:00, 3146.51it/s]\n",
      "100%|██████████| 4/4 [00:00<00:00, 2881.69it/s]\n",
      "100%|██████████| 4/4 [00:00<00:00, 2900.63it/s]\n",
      "100%|██████████| 3/3 [00:00<00:00, 2636.27it/s]\n",
      "100%|██████████| 4/4 [00:00<00:00, 3002.90it/s]\n",
      "100%|██████████| 4/4 [00:00<00:00, 2700.78it/s]\n",
      "100%|██████████| 4/4 [00:00<00:00, 2950.10it/s]\n",
      "100%|██████████| 4/4 [00:00<00:00, 2699.04it/s]\n",
      "100%|██████████| 4/4 [00:00<00:00, 3062.65it/s]\n",
      "100%|██████████| 4/4 [00:00<00:00, 2997.00it/s]\n",
      "100%|██████████| 4/4 [00:00<00:00, 2596.29it/s]\n",
      "100%|██████████| 4/4 [00:00<00:00, 2823.02it/s]\n",
      "100%|██████████| 4/4 [00:00<00:00, 2890.13it/s]\n",
      "100%|██████████| 4/4 [00:00<00:00, 2227.46it/s]\n",
      "100%|██████████| 6/6 [00:00<00:00, 3274.67it/s]\n",
      "100%|██████████| 4/4 [00:00<00:00, 2640.42it/s]\n",
      "100%|██████████| 4/4 [00:00<00:00, 2762.14it/s]\n",
      "100%|██████████| 7/7 [00:00<00:00, 3528.44it/s]\n",
      "100%|██████████| 5/5 [00:00<00:00, 321.79it/s]\n"
     ]
    }
   ],
   "source": [
    "final_df = smart_repair(final_df, min_rook_length = 30)"
   ]
  },
  {
   "cell_type": "code",
   "execution_count": 38,
   "metadata": {},
   "outputs": [
    {
     "name": "stderr",
     "output_type": "stream",
     "text": [
      "100%|██████████| 7093/7093 [00:05<00:00, 1405.46it/s]\n"
     ]
    },
    {
     "name": "stdout",
     "output_type": "stream",
     "text": [
      "There are 1 holes.\n"
     ]
    },
    {
     "data": {
      "text/plain": [
       "False"
      ]
     },
     "execution_count": 38,
     "metadata": {},
     "output_type": "execute_result"
    }
   ],
   "source": [
    "maup.doctor(final_df)"
   ]
  },
  {
   "cell_type": "code",
   "execution_count": 39,
   "metadata": {},
   "outputs": [],
   "source": [
    "temp_df = final_df"
   ]
  },
  {
   "cell_type": "code",
   "execution_count": 40,
   "metadata": {},
   "outputs": [],
   "source": [
    "temp2_df = final_df"
   ]
  },
  {
   "cell_type": "code",
   "execution_count": 41,
   "metadata": {},
   "outputs": [
    {
     "data": {
      "text/html": [
       "<div>\n",
       "<style scoped>\n",
       "    .dataframe tbody tr th:only-of-type {\n",
       "        vertical-align: middle;\n",
       "    }\n",
       "\n",
       "    .dataframe tbody tr th {\n",
       "        vertical-align: top;\n",
       "    }\n",
       "\n",
       "    .dataframe thead th {\n",
       "        text-align: right;\n",
       "    }\n",
       "</style>\n",
       "<table border=\"1\" class=\"dataframe\">\n",
       "  <thead>\n",
       "    <tr style=\"text-align: right;\">\n",
       "      <th></th>\n",
       "      <th>CNTY_FIPS</th>\n",
       "      <th>CNTY_NAME</th>\n",
       "      <th>MCD_FIPS</th>\n",
       "      <th>MCD_NAME</th>\n",
       "      <th>CTV</th>\n",
       "      <th>WARDID</th>\n",
       "      <th>LABEL</th>\n",
       "      <th>PERSONS</th>\n",
       "      <th>RV</th>\n",
       "      <th>G20PREDBID</th>\n",
       "      <th>G20PRERTRU</th>\n",
       "      <th>geometry</th>\n",
       "    </tr>\n",
       "  </thead>\n",
       "  <tbody>\n",
       "    <tr>\n",
       "      <th>0</th>\n",
       "      <td>55035</td>\n",
       "      <td>EAU CLAIRE</td>\n",
       "      <td>5503522300</td>\n",
       "      <td>EAU CLAIRE</td>\n",
       "      <td>C</td>\n",
       "      <td>0060</td>\n",
       "      <td>EAU CLAIRE - C 0060</td>\n",
       "      <td>12</td>\n",
       "      <td>0</td>\n",
       "      <td>0</td>\n",
       "      <td>0</td>\n",
       "      <td>POLYGON ((139292.953 4974890.501, 139269.277 4...</td>\n",
       "    </tr>\n",
       "    <tr>\n",
       "      <th>1</th>\n",
       "      <td>55035</td>\n",
       "      <td>EAU CLAIRE</td>\n",
       "      <td>5503522300</td>\n",
       "      <td>EAU CLAIRE</td>\n",
       "      <td>C</td>\n",
       "      <td>0059</td>\n",
       "      <td>EAU CLAIRE - C 0059</td>\n",
       "      <td>0</td>\n",
       "      <td>0</td>\n",
       "      <td>0</td>\n",
       "      <td>0</td>\n",
       "      <td>POLYGON ((144293.370 4968889.799, 144299.314 4...</td>\n",
       "    </tr>\n",
       "    <tr>\n",
       "      <th>2</th>\n",
       "      <td>55043</td>\n",
       "      <td>GRANT</td>\n",
       "      <td>5504363250</td>\n",
       "      <td>PLATTEVILLE</td>\n",
       "      <td>C</td>\n",
       "      <td>0002</td>\n",
       "      <td>PLATTEVILLE - C 0002</td>\n",
       "      <td>1371</td>\n",
       "      <td>942</td>\n",
       "      <td>489</td>\n",
       "      <td>310</td>\n",
       "      <td>POLYGON ((215528.402 4738670.405, 215527.606 4...</td>\n",
       "    </tr>\n",
       "    <tr>\n",
       "      <th>3</th>\n",
       "      <td>55043</td>\n",
       "      <td>GRANT</td>\n",
       "      <td>5504363250</td>\n",
       "      <td>PLATTEVILLE</td>\n",
       "      <td>C</td>\n",
       "      <td>0001</td>\n",
       "      <td>PLATTEVILLE - C 0001</td>\n",
       "      <td>1197</td>\n",
       "      <td>832</td>\n",
       "      <td>432</td>\n",
       "      <td>274</td>\n",
       "      <td>POLYGON ((215527.606 4738649.504, 215528.402 4...</td>\n",
       "    </tr>\n",
       "    <tr>\n",
       "      <th>4</th>\n",
       "      <td>55045</td>\n",
       "      <td>GREEN</td>\n",
       "      <td>5504500775</td>\n",
       "      <td>ALBANY</td>\n",
       "      <td>T</td>\n",
       "      <td>0001</td>\n",
       "      <td>ALBANY - T 0001</td>\n",
       "      <td>464</td>\n",
       "      <td>371</td>\n",
       "      <td>157</td>\n",
       "      <td>171</td>\n",
       "      <td>POLYGON ((298125.860 4737453.950, 298140.360 4...</td>\n",
       "    </tr>\n",
       "    <tr>\n",
       "      <th>...</th>\n",
       "      <td>...</td>\n",
       "      <td>...</td>\n",
       "      <td>...</td>\n",
       "      <td>...</td>\n",
       "      <td>...</td>\n",
       "      <td>...</td>\n",
       "      <td>...</td>\n",
       "      <td>...</td>\n",
       "      <td>...</td>\n",
       "      <td>...</td>\n",
       "      <td>...</td>\n",
       "      <td>...</td>\n",
       "    </tr>\n",
       "    <tr>\n",
       "      <th>7088</th>\n",
       "      <td>55133</td>\n",
       "      <td>WAUKESHA</td>\n",
       "      <td>5513383175</td>\n",
       "      <td>WALES</td>\n",
       "      <td>V</td>\n",
       "      <td>0004</td>\n",
       "      <td>WALES - V 0004</td>\n",
       "      <td>343</td>\n",
       "      <td>330</td>\n",
       "      <td>108</td>\n",
       "      <td>183</td>\n",
       "      <td>POLYGON ((388801.829 4762486.418, 388801.800 4...</td>\n",
       "    </tr>\n",
       "    <tr>\n",
       "      <th>7089</th>\n",
       "      <td>55133</td>\n",
       "      <td>WAUKESHA</td>\n",
       "      <td>5513328487</td>\n",
       "      <td>GENESEE</td>\n",
       "      <td>T</td>\n",
       "      <td>0011</td>\n",
       "      <td>GENESEE - T 0011</td>\n",
       "      <td>0</td>\n",
       "      <td>0</td>\n",
       "      <td>0</td>\n",
       "      <td>0</td>\n",
       "      <td>POLYGON ((389075.469 4762020.186, 389082.335 4...</td>\n",
       "    </tr>\n",
       "    <tr>\n",
       "      <th>7090</th>\n",
       "      <td>55039</td>\n",
       "      <td>FOND DU LAC</td>\n",
       "      <td>5503984425</td>\n",
       "      <td>WAUPUN</td>\n",
       "      <td>C</td>\n",
       "      <td>0009</td>\n",
       "      <td>WAUPUN - C 0009</td>\n",
       "      <td>1345</td>\n",
       "      <td>952</td>\n",
       "      <td>248</td>\n",
       "      <td>573</td>\n",
       "      <td>POLYGON ((357702.322 4832634.164, 357702.248 4...</td>\n",
       "    </tr>\n",
       "    <tr>\n",
       "      <th>7091</th>\n",
       "      <td>55039</td>\n",
       "      <td>FOND DU LAC</td>\n",
       "      <td>5503984425</td>\n",
       "      <td>WAUPUN</td>\n",
       "      <td>C</td>\n",
       "      <td>009B</td>\n",
       "      <td>WAUPUN - C 009B</td>\n",
       "      <td>0</td>\n",
       "      <td>0</td>\n",
       "      <td>0</td>\n",
       "      <td>0</td>\n",
       "      <td>POLYGON ((357588.185 4834250.138, 357635.899 4...</td>\n",
       "    </tr>\n",
       "    <tr>\n",
       "      <th>7092</th>\n",
       "      <td>55039</td>\n",
       "      <td>FOND DU LAC</td>\n",
       "      <td>5503984425</td>\n",
       "      <td>WAUPUN</td>\n",
       "      <td>C</td>\n",
       "      <td>009A</td>\n",
       "      <td>WAUPUN - C 009A</td>\n",
       "      <td>4</td>\n",
       "      <td>0</td>\n",
       "      <td>0</td>\n",
       "      <td>0</td>\n",
       "      <td>POLYGON ((357635.899 4834249.333, 357646.060 4...</td>\n",
       "    </tr>\n",
       "  </tbody>\n",
       "</table>\n",
       "<p>7093 rows × 12 columns</p>\n",
       "</div>"
      ],
      "text/plain": [
       "     CNTY_FIPS    CNTY_NAME    MCD_FIPS     MCD_NAME CTV WARDID  \\\n",
       "0        55035   EAU CLAIRE  5503522300   EAU CLAIRE   C   0060   \n",
       "1        55035   EAU CLAIRE  5503522300   EAU CLAIRE   C   0059   \n",
       "2        55043        GRANT  5504363250  PLATTEVILLE   C   0002   \n",
       "3        55043        GRANT  5504363250  PLATTEVILLE   C   0001   \n",
       "4        55045        GREEN  5504500775       ALBANY   T   0001   \n",
       "...        ...          ...         ...          ...  ..    ...   \n",
       "7088     55133     WAUKESHA  5513383175        WALES   V   0004   \n",
       "7089     55133     WAUKESHA  5513328487      GENESEE   T   0011   \n",
       "7090     55039  FOND DU LAC  5503984425       WAUPUN   C   0009   \n",
       "7091     55039  FOND DU LAC  5503984425       WAUPUN   C   009B   \n",
       "7092     55039  FOND DU LAC  5503984425       WAUPUN   C   009A   \n",
       "\n",
       "                     LABEL  PERSONS   RV  G20PREDBID  G20PRERTRU  \\\n",
       "0      EAU CLAIRE - C 0060       12    0           0           0   \n",
       "1      EAU CLAIRE - C 0059        0    0           0           0   \n",
       "2     PLATTEVILLE - C 0002     1371  942         489         310   \n",
       "3     PLATTEVILLE - C 0001     1197  832         432         274   \n",
       "4          ALBANY - T 0001      464  371         157         171   \n",
       "...                    ...      ...  ...         ...         ...   \n",
       "7088        WALES - V 0004      343  330         108         183   \n",
       "7089      GENESEE - T 0011        0    0           0           0   \n",
       "7090       WAUPUN - C 0009     1345  952         248         573   \n",
       "7091       WAUPUN - C 009B        0    0           0           0   \n",
       "7092       WAUPUN - C 009A        4    0           0           0   \n",
       "\n",
       "                                               geometry  \n",
       "0     POLYGON ((139292.953 4974890.501, 139269.277 4...  \n",
       "1     POLYGON ((144293.370 4968889.799, 144299.314 4...  \n",
       "2     POLYGON ((215528.402 4738670.405, 215527.606 4...  \n",
       "3     POLYGON ((215527.606 4738649.504, 215528.402 4...  \n",
       "4     POLYGON ((298125.860 4737453.950, 298140.360 4...  \n",
       "...                                                 ...  \n",
       "7088  POLYGON ((388801.829 4762486.418, 388801.800 4...  \n",
       "7089  POLYGON ((389075.469 4762020.186, 389082.335 4...  \n",
       "7090  POLYGON ((357702.322 4832634.164, 357702.248 4...  \n",
       "7091  POLYGON ((357588.185 4834250.138, 357635.899 4...  \n",
       "7092  POLYGON ((357635.899 4834249.333, 357646.060 4...  \n",
       "\n",
       "[7093 rows x 12 columns]"
      ]
     },
     "execution_count": 41,
     "metadata": {},
     "output_type": "execute_result"
    }
   ],
   "source": [
    "temp2_df"
   ]
  },
  {
   "cell_type": "code",
   "execution_count": 42,
   "metadata": {},
   "outputs": [
    {
     "data": {
      "text/plain": [
       "<Axes: >"
      ]
     },
     "execution_count": 42,
     "metadata": {},
     "output_type": "execute_result"
    },
    {
     "data": {
      "image/png": "[encoded data removed]",
      "text/plain": [
       "<Figure size 640x480 with 1 Axes>"
      ]
     },
     "metadata": {},
     "output_type": "display_data"
    }
   ],
   "source": [
    "final_df.plot() ## Looks good, the hole in the data is the lake"
   ]
  },
  {
   "cell_type": "code",
   "execution_count": 43,
   "metadata": {},
   "outputs": [
    {
     "data": {
      "text/plain": [
       "Index(['CNTY_FIPS', 'CNTY_NAME', 'MCD_FIPS', 'MCD_NAME', 'CTV', 'WARDID',\n",
       "       'LABEL', 'PERSONS', 'RV', 'G20PREDBID', 'G20PRERTRU', 'geometry'],\n",
       "      dtype='object')"
      ]
     },
     "execution_count": 43,
     "metadata": {},
     "output_type": "execute_result"
    }
   ],
   "source": [
    "final_df.columns"
   ]
  },
  {
   "cell_type": "code",
   "execution_count": 44,
   "metadata": {},
   "outputs": [
    {
     "name": "stderr",
     "output_type": "stream",
     "text": [
      "100%|██████████| 7093/7093 [00:04<00:00, 1567.30it/s]\n",
      "100%|██████████| 7093/7093 [00:18<00:00, 387.88it/s]\n",
      "100%|██████████| 8/8 [00:00<00:00, 74.00it/s]\n",
      "100%|██████████| 8/8 [00:00<00:00, 22.93it/s]\n"
     ]
    }
   ],
   "source": [
    "pop_assignment = maup.assign(population_df.geometry, final_df.geometry)\n",
    "cong_assignment = maup.assign(final_df.geometry, cong_df.geometry)"
   ]
  },
  {
   "cell_type": "code",
   "execution_count": 45,
   "metadata": {},
   "outputs": [
    {
     "data": {
      "text/plain": [
       "Index(['CNTY_FIPS', 'CNTY_NAME', 'MCD_FIPS', 'MCD_NAME', 'CTV', 'WARDID',\n",
       "       'LABEL', 'PERSONS', 'RV', 'G20PREDBID', 'G20PRERTRU', 'geometry'],\n",
       "      dtype='object')"
      ]
     },
     "execution_count": 45,
     "metadata": {},
     "output_type": "execute_result"
    }
   ],
   "source": [
    "final_df.columns"
   ]
  },
  {
   "cell_type": "code",
   "execution_count": 46,
   "metadata": {},
   "outputs": [],
   "source": [
    "final_df_1 = final_df.copy()"
   ]
  },
  {
   "cell_type": "code",
   "execution_count": 47,
   "metadata": {},
   "outputs": [
    {
     "data": {
      "text/html": [
       "<div>\n",
       "<style scoped>\n",
       "    .dataframe tbody tr th:only-of-type {\n",
       "        vertical-align: middle;\n",
       "    }\n",
       "\n",
       "    .dataframe tbody tr th {\n",
       "        vertical-align: top;\n",
       "    }\n",
       "\n",
       "    .dataframe thead th {\n",
       "        text-align: right;\n",
       "    }\n",
       "</style>\n",
       "<table border=\"1\" class=\"dataframe\">\n",
       "  <thead>\n",
       "    <tr style=\"text-align: right;\">\n",
       "      <th></th>\n",
       "      <th>CNTY_FIPS</th>\n",
       "      <th>CNTY_NAME</th>\n",
       "      <th>MCD_FIPS</th>\n",
       "      <th>MCD_NAME</th>\n",
       "      <th>CTV</th>\n",
       "      <th>WARDID</th>\n",
       "      <th>LABEL</th>\n",
       "      <th>PERSONS</th>\n",
       "      <th>RV</th>\n",
       "      <th>G20PREDBID</th>\n",
       "      <th>G20PRERTRU</th>\n",
       "      <th>geometry</th>\n",
       "    </tr>\n",
       "  </thead>\n",
       "  <tbody>\n",
       "    <tr>\n",
       "      <th>0</th>\n",
       "      <td>55035</td>\n",
       "      <td>EAU CLAIRE</td>\n",
       "      <td>5503522300</td>\n",
       "      <td>EAU CLAIRE</td>\n",
       "      <td>C</td>\n",
       "      <td>0060</td>\n",
       "      <td>EAU CLAIRE - C 0060</td>\n",
       "      <td>12</td>\n",
       "      <td>0</td>\n",
       "      <td>0</td>\n",
       "      <td>0</td>\n",
       "      <td>POLYGON ((139292.953 4974890.501, 139269.277 4...</td>\n",
       "    </tr>\n",
       "    <tr>\n",
       "      <th>1</th>\n",
       "      <td>55035</td>\n",
       "      <td>EAU CLAIRE</td>\n",
       "      <td>5503522300</td>\n",
       "      <td>EAU CLAIRE</td>\n",
       "      <td>C</td>\n",
       "      <td>0059</td>\n",
       "      <td>EAU CLAIRE - C 0059</td>\n",
       "      <td>0</td>\n",
       "      <td>0</td>\n",
       "      <td>0</td>\n",
       "      <td>0</td>\n",
       "      <td>POLYGON ((144293.370 4968889.799, 144299.314 4...</td>\n",
       "    </tr>\n",
       "    <tr>\n",
       "      <th>2</th>\n",
       "      <td>55043</td>\n",
       "      <td>GRANT</td>\n",
       "      <td>5504363250</td>\n",
       "      <td>PLATTEVILLE</td>\n",
       "      <td>C</td>\n",
       "      <td>0002</td>\n",
       "      <td>PLATTEVILLE - C 0002</td>\n",
       "      <td>1371</td>\n",
       "      <td>942</td>\n",
       "      <td>489</td>\n",
       "      <td>310</td>\n",
       "      <td>POLYGON ((215528.402 4738670.405, 215527.606 4...</td>\n",
       "    </tr>\n",
       "    <tr>\n",
       "      <th>3</th>\n",
       "      <td>55043</td>\n",
       "      <td>GRANT</td>\n",
       "      <td>5504363250</td>\n",
       "      <td>PLATTEVILLE</td>\n",
       "      <td>C</td>\n",
       "      <td>0001</td>\n",
       "      <td>PLATTEVILLE - C 0001</td>\n",
       "      <td>1197</td>\n",
       "      <td>832</td>\n",
       "      <td>432</td>\n",
       "      <td>274</td>\n",
       "      <td>POLYGON ((215527.606 4738649.504, 215528.402 4...</td>\n",
       "    </tr>\n",
       "    <tr>\n",
       "      <th>4</th>\n",
       "      <td>55045</td>\n",
       "      <td>GREEN</td>\n",
       "      <td>5504500775</td>\n",
       "      <td>ALBANY</td>\n",
       "      <td>T</td>\n",
       "      <td>0001</td>\n",
       "      <td>ALBANY - T 0001</td>\n",
       "      <td>464</td>\n",
       "      <td>371</td>\n",
       "      <td>157</td>\n",
       "      <td>171</td>\n",
       "      <td>POLYGON ((298125.860 4737453.950, 298140.360 4...</td>\n",
       "    </tr>\n",
       "    <tr>\n",
       "      <th>...</th>\n",
       "      <td>...</td>\n",
       "      <td>...</td>\n",
       "      <td>...</td>\n",
       "      <td>...</td>\n",
       "      <td>...</td>\n",
       "      <td>...</td>\n",
       "      <td>...</td>\n",
       "      <td>...</td>\n",
       "      <td>...</td>\n",
       "      <td>...</td>\n",
       "      <td>...</td>\n",
       "      <td>...</td>\n",
       "    </tr>\n",
       "    <tr>\n",
       "      <th>7088</th>\n",
       "      <td>55133</td>\n",
       "      <td>WAUKESHA</td>\n",
       "      <td>5513383175</td>\n",
       "      <td>WALES</td>\n",
       "      <td>V</td>\n",
       "      <td>0004</td>\n",
       "      <td>WALES - V 0004</td>\n",
       "      <td>343</td>\n",
       "      <td>330</td>\n",
       "      <td>108</td>\n",
       "      <td>183</td>\n",
       "      <td>POLYGON ((388801.829 4762486.418, 388801.800 4...</td>\n",
       "    </tr>\n",
       "    <tr>\n",
       "      <th>7089</th>\n",
       "      <td>55133</td>\n",
       "      <td>WAUKESHA</td>\n",
       "      <td>5513328487</td>\n",
       "      <td>GENESEE</td>\n",
       "      <td>T</td>\n",
       "      <td>0011</td>\n",
       "      <td>GENESEE - T 0011</td>\n",
       "      <td>0</td>\n",
       "      <td>0</td>\n",
       "      <td>0</td>\n",
       "      <td>0</td>\n",
       "      <td>POLYGON ((389075.469 4762020.186, 389082.335 4...</td>\n",
       "    </tr>\n",
       "    <tr>\n",
       "      <th>7090</th>\n",
       "      <td>55039</td>\n",
       "      <td>FOND DU LAC</td>\n",
       "      <td>5503984425</td>\n",
       "      <td>WAUPUN</td>\n",
       "      <td>C</td>\n",
       "      <td>0009</td>\n",
       "      <td>WAUPUN - C 0009</td>\n",
       "      <td>1345</td>\n",
       "      <td>952</td>\n",
       "      <td>248</td>\n",
       "      <td>573</td>\n",
       "      <td>POLYGON ((357702.322 4832634.164, 357702.248 4...</td>\n",
       "    </tr>\n",
       "    <tr>\n",
       "      <th>7091</th>\n",
       "      <td>55039</td>\n",
       "      <td>FOND DU LAC</td>\n",
       "      <td>5503984425</td>\n",
       "      <td>WAUPUN</td>\n",
       "      <td>C</td>\n",
       "      <td>009B</td>\n",
       "      <td>WAUPUN - C 009B</td>\n",
       "      <td>0</td>\n",
       "      <td>0</td>\n",
       "      <td>0</td>\n",
       "      <td>0</td>\n",
       "      <td>POLYGON ((357588.185 4834250.138, 357635.899 4...</td>\n",
       "    </tr>\n",
       "    <tr>\n",
       "      <th>7092</th>\n",
       "      <td>55039</td>\n",
       "      <td>FOND DU LAC</td>\n",
       "      <td>5503984425</td>\n",
       "      <td>WAUPUN</td>\n",
       "      <td>C</td>\n",
       "      <td>009A</td>\n",
       "      <td>WAUPUN - C 009A</td>\n",
       "      <td>4</td>\n",
       "      <td>0</td>\n",
       "      <td>0</td>\n",
       "      <td>0</td>\n",
       "      <td>POLYGON ((357635.899 4834249.333, 357646.060 4...</td>\n",
       "    </tr>\n",
       "  </tbody>\n",
       "</table>\n",
       "<p>7093 rows × 12 columns</p>\n",
       "</div>"
      ],
      "text/plain": [
       "     CNTY_FIPS    CNTY_NAME    MCD_FIPS     MCD_NAME CTV WARDID  \\\n",
       "0        55035   EAU CLAIRE  5503522300   EAU CLAIRE   C   0060   \n",
       "1        55035   EAU CLAIRE  5503522300   EAU CLAIRE   C   0059   \n",
       "2        55043        GRANT  5504363250  PLATTEVILLE   C   0002   \n",
       "3        55043        GRANT  5504363250  PLATTEVILLE   C   0001   \n",
       "4        55045        GREEN  5504500775       ALBANY   T   0001   \n",
       "...        ...          ...         ...          ...  ..    ...   \n",
       "7088     55133     WAUKESHA  5513383175        WALES   V   0004   \n",
       "7089     55133     WAUKESHA  5513328487      GENESEE   T   0011   \n",
       "7090     55039  FOND DU LAC  5503984425       WAUPUN   C   0009   \n",
       "7091     55039  FOND DU LAC  5503984425       WAUPUN   C   009B   \n",
       "7092     55039  FOND DU LAC  5503984425       WAUPUN   C   009A   \n",
       "\n",
       "                     LABEL  PERSONS   RV  G20PREDBID  G20PRERTRU  \\\n",
       "0      EAU CLAIRE - C 0060       12    0           0           0   \n",
       "1      EAU CLAIRE - C 0059        0    0           0           0   \n",
       "2     PLATTEVILLE - C 0002     1371  942         489         310   \n",
       "3     PLATTEVILLE - C 0001     1197  832         432         274   \n",
       "4          ALBANY - T 0001      464  371         157         171   \n",
       "...                    ...      ...  ...         ...         ...   \n",
       "7088        WALES - V 0004      343  330         108         183   \n",
       "7089      GENESEE - T 0011        0    0           0           0   \n",
       "7090       WAUPUN - C 0009     1345  952         248         573   \n",
       "7091       WAUPUN - C 009B        0    0           0           0   \n",
       "7092       WAUPUN - C 009A        4    0           0           0   \n",
       "\n",
       "                                               geometry  \n",
       "0     POLYGON ((139292.953 4974890.501, 139269.277 4...  \n",
       "1     POLYGON ((144293.370 4968889.799, 144299.314 4...  \n",
       "2     POLYGON ((215528.402 4738670.405, 215527.606 4...  \n",
       "3     POLYGON ((215527.606 4738649.504, 215528.402 4...  \n",
       "4     POLYGON ((298125.860 4737453.950, 298140.360 4...  \n",
       "...                                                 ...  \n",
       "7088  POLYGON ((388801.829 4762486.418, 388801.800 4...  \n",
       "7089  POLYGON ((389075.469 4762020.186, 389082.335 4...  \n",
       "7090  POLYGON ((357702.322 4832634.164, 357702.248 4...  \n",
       "7091  POLYGON ((357588.185 4834250.138, 357635.899 4...  \n",
       "7092  POLYGON ((357635.899 4834249.333, 357646.060 4...  \n",
       "\n",
       "[7093 rows x 12 columns]"
      ]
     },
     "execution_count": 47,
     "metadata": {},
     "output_type": "execute_result"
    }
   ],
   "source": [
    "final_df_1"
   ]
  },
  {
   "cell_type": "code",
   "execution_count": 48,
   "metadata": {},
   "outputs": [
    {
     "data": {
      "text/plain": [
       "CNTY_FIPS     0\n",
       "CNTY_NAME     0\n",
       "MCD_FIPS      0\n",
       "MCD_NAME      0\n",
       "CTV           0\n",
       "WARDID        0\n",
       "LABEL         0\n",
       "PERSONS       0\n",
       "RV            0\n",
       "G20PREDBID    0\n",
       "G20PRERTRU    0\n",
       "geometry      0\n",
       "dtype: int64"
      ]
     },
     "execution_count": 48,
     "metadata": {},
     "output_type": "execute_result"
    }
   ],
   "source": [
    "final_df_1.isna().sum()"
   ]
  },
  {
   "cell_type": "code",
   "execution_count": 49,
   "metadata": {},
   "outputs": [
    {
     "data": {
      "text/plain": [
       "0         5214.0\n",
       "1         5864.0\n",
       "2         5833.0\n",
       "3         5856.0\n",
       "4         5853.0\n",
       "           ...  \n",
       "203054    3115.0\n",
       "203055    2947.0\n",
       "203056    3000.0\n",
       "203057    2929.0\n",
       "203058    2963.0\n",
       "Length: 203059, dtype: float64"
      ]
     },
     "execution_count": 49,
     "metadata": {},
     "output_type": "execute_result"
    }
   ],
   "source": [
    "pop_assignment"
   ]
  },
  {
   "cell_type": "code",
   "execution_count": 50,
   "metadata": {},
   "outputs": [
    {
     "data": {
      "text/plain": [
       "218"
      ]
     },
     "execution_count": 50,
     "metadata": {},
     "output_type": "execute_result"
    }
   ],
   "source": [
    "pop_assignment.isna().sum()"
   ]
  },
  {
   "cell_type": "code",
   "execution_count": 51,
   "metadata": {},
   "outputs": [
    {
     "data": {
      "text/plain": [
       "0       2.0\n",
       "1       2.0\n",
       "2       2.0\n",
       "3       2.0\n",
       "4       1.0\n",
       "       ... \n",
       "7088    4.0\n",
       "7089    4.0\n",
       "7090    5.0\n",
       "7091    5.0\n",
       "7092    5.0\n",
       "Length: 7093, dtype: float64"
      ]
     },
     "execution_count": 51,
     "metadata": {},
     "output_type": "execute_result"
    }
   ],
   "source": [
    "cong_assignment"
   ]
  },
  {
   "cell_type": "code",
   "execution_count": 52,
   "metadata": {},
   "outputs": [
    {
     "data": {
      "text/plain": [
       "1"
      ]
     },
     "execution_count": 52,
     "metadata": {},
     "output_type": "execute_result"
    }
   ],
   "source": [
    "cong_assignment.isna().sum()"
   ]
  },
  {
   "cell_type": "code",
   "execution_count": 53,
   "metadata": {},
   "outputs": [],
   "source": [
    "final_df_1 = final_df_1.dropna()"
   ]
  },
  {
   "cell_type": "code",
   "execution_count": 54,
   "metadata": {},
   "outputs": [],
   "source": [
    "cong_assignment = cong_assignment.dropna()"
   ]
  },
  {
   "cell_type": "code",
   "execution_count": 55,
   "metadata": {},
   "outputs": [],
   "source": [
    "pop_assignment = pop_assignment.dropna()"
   ]
  },
  {
   "cell_type": "code",
   "execution_count": 56,
   "metadata": {},
   "outputs": [
    {
     "data": {
      "text/plain": [
       "0"
      ]
     },
     "execution_count": 56,
     "metadata": {},
     "output_type": "execute_result"
    }
   ],
   "source": [
    "pop_assignment.isna().sum()"
   ]
  },
  {
   "cell_type": "code",
   "execution_count": 57,
   "metadata": {},
   "outputs": [
    {
     "data": {
      "text/plain": [
       "0"
      ]
     },
     "execution_count": 57,
     "metadata": {},
     "output_type": "execute_result"
    }
   ],
   "source": [
    "cong_assignment.isna().sum()"
   ]
  },
  {
   "cell_type": "code",
   "execution_count": 58,
   "metadata": {},
   "outputs": [
    {
     "data": {
      "text/plain": [
       "CNTY_FIPS     0\n",
       "CNTY_NAME     0\n",
       "MCD_FIPS      0\n",
       "MCD_NAME      0\n",
       "CTV           0\n",
       "WARDID        0\n",
       "LABEL         0\n",
       "PERSONS       0\n",
       "RV            0\n",
       "G20PREDBID    0\n",
       "G20PRERTRU    0\n",
       "geometry      0\n",
       "dtype: int64"
      ]
     },
     "execution_count": 58,
     "metadata": {},
     "output_type": "execute_result"
    }
   ],
   "source": [
    "final_df_1.isna().sum()"
   ]
  },
  {
   "cell_type": "code",
   "execution_count": 59,
   "metadata": {},
   "outputs": [],
   "source": [
    "pop_column_names = ['P0020001', 'P0020002', 'P0020005', 'P0020006', 'P0020007',\n",
    "                    'P0020008', 'P0020009', 'P0020010', 'P0020011']\n",
    "for name in pop_column_names:\n",
    "    final_df_1[name] = population_df[name].groupby(pop_assignment).sum()"
   ]
  },
  {
   "cell_type": "code",
   "execution_count": 60,
   "metadata": {},
   "outputs": [
    {
     "name": "stdout",
     "output_type": "stream",
     "text": [
      "5893718\n",
      "5893718.0\n"
     ]
    }
   ],
   "source": [
    "print(county_df['P0020001'].sum()) # Makes sure we didn't lose any pop blocks\n",
    "print(final_df_1['P0020001'].sum())"
   ]
  },
  {
   "cell_type": "code",
   "execution_count": 61,
   "metadata": {},
   "outputs": [
    {
     "data": {
      "text/plain": [
       "Index(['CNTY_FIPS', 'CNTY_NAME', 'MCD_FIPS', 'MCD_NAME', 'CTV', 'WARDID',\n",
       "       'LABEL', 'PERSONS', 'RV', 'G20PREDBID', 'G20PRERTRU', 'geometry',\n",
       "       'P0020001', 'P0020002', 'P0020005', 'P0020006', 'P0020007', 'P0020008',\n",
       "       'P0020009', 'P0020010', 'P0020011'],\n",
       "      dtype='object')"
      ]
     },
     "execution_count": 61,
     "metadata": {},
     "output_type": "execute_result"
    }
   ],
   "source": [
    "final_df_1.columns"
   ]
  },
  {
   "cell_type": "code",
   "execution_count": 62,
   "metadata": {},
   "outputs": [],
   "source": [
    "rename_dict = {'P0020001': 'TOTPOP', 'P0020002': 'HISP', 'P0020005': 'NH_WHITE', 'P0020006': 'NH_BLACK', 'P0020007': 'NH_AMIN',\n",
    "                    'P0020008': 'NH_ASIAN', 'P0020009': 'NH_NHPI', 'P0020010': 'NH_OTHER', 'P0020011': 'NH_2MORE',\n",
    "                    'P0040001': 'VAP', 'P0040002': 'HVAP', 'P0040005': 'WVAP', 'P0040006': 'BVAP', 'P0040007': 'AMINVAP',\n",
    "                                        'P0040008': 'ASIANVAP', 'P0040009': 'NHPIVAP', 'P0040010': 'OTHERVAP', 'P0040011': '2MOREVAP',\n",
    "                                        'G20PREDBID': 'G20PRED', 'G20PRERTRU': 'G20PRER', 'G20USSDHAR': 'G20USSD', \n",
    "                                        'G20USSRGRA': 'G20USSR'}"
   ]
  },
  {
   "cell_type": "code",
   "execution_count": 63,
   "metadata": {},
   "outputs": [],
   "source": [
    "final_df_2 = final_df_1.copy()"
   ]
  },
  {
   "cell_type": "code",
   "execution_count": 64,
   "metadata": {},
   "outputs": [],
   "source": [
    "final_df_2.rename(columns=rename_dict, inplace = True) "
   ]
  },
  {
   "cell_type": "code",
   "execution_count": 65,
   "metadata": {},
   "outputs": [
    {
     "data": {
      "text/plain": [
       "Index(['CNTY_FIPS', 'CNTY_NAME', 'MCD_FIPS', 'MCD_NAME', 'CTV', 'WARDID',\n",
       "       'LABEL', 'PERSONS', 'RV', 'G20PRED', 'G20PRER', 'geometry', 'TOTPOP',\n",
       "       'HISP', 'NH_WHITE', 'NH_BLACK', 'NH_AMIN', 'NH_ASIAN', 'NH_NHPI',\n",
       "       'NH_OTHER', 'NH_2MORE'],\n",
       "      dtype='object')"
      ]
     },
     "execution_count": 65,
     "metadata": {},
     "output_type": "execute_result"
    }
   ],
   "source": [
    "final_df_2.columns"
   ]
  },
  {
   "cell_type": "code",
   "execution_count": 66,
   "metadata": {},
   "outputs": [],
   "source": [
    "final_df_2[\"CD\"] = cong_assignment"
   ]
  },
  {
   "cell_type": "code",
   "execution_count": 67,
   "metadata": {},
   "outputs": [
    {
     "name": "stdout",
     "output_type": "stream",
     "text": [
      "{0.0, 1.0, 2.0, 3.0, 4.0, 5.0, 6.0, 7.0, nan}\n"
     ]
    }
   ],
   "source": [
    "print(set(final_df_2[\"CD\"]))"
   ]
  },
  {
   "cell_type": "code",
   "execution_count": 69,
   "metadata": {},
   "outputs": [
    {
     "data": {
      "text/plain": [
       "1"
      ]
     },
     "execution_count": 69,
     "metadata": {},
     "output_type": "execute_result"
    }
   ],
   "source": [
    "final_df_2[\"CD\"].isna().sum()"
   ]
  },
  {
   "cell_type": "code",
   "execution_count": 70,
   "metadata": {},
   "outputs": [],
   "source": [
    "final_df_2 = final_df_2.dropna()"
   ]
  },
  {
   "cell_type": "code",
   "execution_count": 71,
   "metadata": {},
   "outputs": [
    {
     "data": {
      "text/plain": [
       "0"
      ]
     },
     "execution_count": 71,
     "metadata": {},
     "output_type": "execute_result"
    }
   ],
   "source": [
    "final_df_2[\"CD\"].isna().sum()"
   ]
  },
  {
   "cell_type": "code",
   "execution_count": 72,
   "metadata": {},
   "outputs": [
    {
     "data": {
      "text/html": [
       "<div>\n",
       "<style scoped>\n",
       "    .dataframe tbody tr th:only-of-type {\n",
       "        vertical-align: middle;\n",
       "    }\n",
       "\n",
       "    .dataframe tbody tr th {\n",
       "        vertical-align: top;\n",
       "    }\n",
       "\n",
       "    .dataframe thead th {\n",
       "        text-align: right;\n",
       "    }\n",
       "</style>\n",
       "<table border=\"1\" class=\"dataframe\">\n",
       "  <thead>\n",
       "    <tr style=\"text-align: right;\">\n",
       "      <th></th>\n",
       "      <th>CNTY_FIPS</th>\n",
       "      <th>CNTY_NAME</th>\n",
       "      <th>MCD_FIPS</th>\n",
       "      <th>MCD_NAME</th>\n",
       "      <th>CTV</th>\n",
       "      <th>WARDID</th>\n",
       "      <th>LABEL</th>\n",
       "      <th>PERSONS</th>\n",
       "      <th>RV</th>\n",
       "      <th>G20PRED</th>\n",
       "      <th>...</th>\n",
       "      <th>TOTPOP</th>\n",
       "      <th>HISP</th>\n",
       "      <th>NH_WHITE</th>\n",
       "      <th>NH_BLACK</th>\n",
       "      <th>NH_AMIN</th>\n",
       "      <th>NH_ASIAN</th>\n",
       "      <th>NH_NHPI</th>\n",
       "      <th>NH_OTHER</th>\n",
       "      <th>NH_2MORE</th>\n",
       "      <th>CD</th>\n",
       "    </tr>\n",
       "  </thead>\n",
       "  <tbody>\n",
       "    <tr>\n",
       "      <th>0</th>\n",
       "      <td>55035</td>\n",
       "      <td>EAU CLAIRE</td>\n",
       "      <td>5503522300</td>\n",
       "      <td>EAU CLAIRE</td>\n",
       "      <td>C</td>\n",
       "      <td>0060</td>\n",
       "      <td>EAU CLAIRE - C 0060</td>\n",
       "      <td>12</td>\n",
       "      <td>0</td>\n",
       "      <td>0</td>\n",
       "      <td>...</td>\n",
       "      <td>4.0</td>\n",
       "      <td>0.0</td>\n",
       "      <td>0.0</td>\n",
       "      <td>1.0</td>\n",
       "      <td>0.0</td>\n",
       "      <td>0.0</td>\n",
       "      <td>0.0</td>\n",
       "      <td>0.0</td>\n",
       "      <td>3.0</td>\n",
       "      <td>2.0</td>\n",
       "    </tr>\n",
       "    <tr>\n",
       "      <th>1</th>\n",
       "      <td>55035</td>\n",
       "      <td>EAU CLAIRE</td>\n",
       "      <td>5503522300</td>\n",
       "      <td>EAU CLAIRE</td>\n",
       "      <td>C</td>\n",
       "      <td>0059</td>\n",
       "      <td>EAU CLAIRE - C 0059</td>\n",
       "      <td>0</td>\n",
       "      <td>0</td>\n",
       "      <td>0</td>\n",
       "      <td>...</td>\n",
       "      <td>0.0</td>\n",
       "      <td>0.0</td>\n",
       "      <td>0.0</td>\n",
       "      <td>0.0</td>\n",
       "      <td>0.0</td>\n",
       "      <td>0.0</td>\n",
       "      <td>0.0</td>\n",
       "      <td>0.0</td>\n",
       "      <td>0.0</td>\n",
       "      <td>2.0</td>\n",
       "    </tr>\n",
       "    <tr>\n",
       "      <th>2</th>\n",
       "      <td>55043</td>\n",
       "      <td>GRANT</td>\n",
       "      <td>5504363250</td>\n",
       "      <td>PLATTEVILLE</td>\n",
       "      <td>C</td>\n",
       "      <td>0002</td>\n",
       "      <td>PLATTEVILLE - C 0002</td>\n",
       "      <td>1371</td>\n",
       "      <td>942</td>\n",
       "      <td>489</td>\n",
       "      <td>...</td>\n",
       "      <td>1412.0</td>\n",
       "      <td>28.0</td>\n",
       "      <td>1268.0</td>\n",
       "      <td>33.0</td>\n",
       "      <td>3.0</td>\n",
       "      <td>26.0</td>\n",
       "      <td>0.0</td>\n",
       "      <td>1.0</td>\n",
       "      <td>53.0</td>\n",
       "      <td>2.0</td>\n",
       "    </tr>\n",
       "    <tr>\n",
       "      <th>3</th>\n",
       "      <td>55043</td>\n",
       "      <td>GRANT</td>\n",
       "      <td>5504363250</td>\n",
       "      <td>PLATTEVILLE</td>\n",
       "      <td>C</td>\n",
       "      <td>0001</td>\n",
       "      <td>PLATTEVILLE - C 0001</td>\n",
       "      <td>1197</td>\n",
       "      <td>832</td>\n",
       "      <td>432</td>\n",
       "      <td>...</td>\n",
       "      <td>1321.0</td>\n",
       "      <td>38.0</td>\n",
       "      <td>1168.0</td>\n",
       "      <td>36.0</td>\n",
       "      <td>2.0</td>\n",
       "      <td>26.0</td>\n",
       "      <td>0.0</td>\n",
       "      <td>2.0</td>\n",
       "      <td>49.0</td>\n",
       "      <td>2.0</td>\n",
       "    </tr>\n",
       "    <tr>\n",
       "      <th>4</th>\n",
       "      <td>55045</td>\n",
       "      <td>GREEN</td>\n",
       "      <td>5504500775</td>\n",
       "      <td>ALBANY</td>\n",
       "      <td>T</td>\n",
       "      <td>0001</td>\n",
       "      <td>ALBANY - T 0001</td>\n",
       "      <td>464</td>\n",
       "      <td>371</td>\n",
       "      <td>157</td>\n",
       "      <td>...</td>\n",
       "      <td>499.0</td>\n",
       "      <td>11.0</td>\n",
       "      <td>466.0</td>\n",
       "      <td>2.0</td>\n",
       "      <td>4.0</td>\n",
       "      <td>0.0</td>\n",
       "      <td>0.0</td>\n",
       "      <td>1.0</td>\n",
       "      <td>15.0</td>\n",
       "      <td>1.0</td>\n",
       "    </tr>\n",
       "    <tr>\n",
       "      <th>...</th>\n",
       "      <td>...</td>\n",
       "      <td>...</td>\n",
       "      <td>...</td>\n",
       "      <td>...</td>\n",
       "      <td>...</td>\n",
       "      <td>...</td>\n",
       "      <td>...</td>\n",
       "      <td>...</td>\n",
       "      <td>...</td>\n",
       "      <td>...</td>\n",
       "      <td>...</td>\n",
       "      <td>...</td>\n",
       "      <td>...</td>\n",
       "      <td>...</td>\n",
       "      <td>...</td>\n",
       "      <td>...</td>\n",
       "      <td>...</td>\n",
       "      <td>...</td>\n",
       "      <td>...</td>\n",
       "      <td>...</td>\n",
       "      <td>...</td>\n",
       "    </tr>\n",
       "    <tr>\n",
       "      <th>7087</th>\n",
       "      <td>55063</td>\n",
       "      <td>LA CROSSE</td>\n",
       "      <td>5506335450</td>\n",
       "      <td>HOLMEN</td>\n",
       "      <td>V</td>\n",
       "      <td>0011</td>\n",
       "      <td>HOLMEN - V 0011</td>\n",
       "      <td>982</td>\n",
       "      <td>756</td>\n",
       "      <td>346</td>\n",
       "      <td>...</td>\n",
       "      <td>1188.0</td>\n",
       "      <td>16.0</td>\n",
       "      <td>998.0</td>\n",
       "      <td>13.0</td>\n",
       "      <td>0.0</td>\n",
       "      <td>113.0</td>\n",
       "      <td>0.0</td>\n",
       "      <td>0.0</td>\n",
       "      <td>48.0</td>\n",
       "      <td>2.0</td>\n",
       "    </tr>\n",
       "    <tr>\n",
       "      <th>7088</th>\n",
       "      <td>55133</td>\n",
       "      <td>WAUKESHA</td>\n",
       "      <td>5513383175</td>\n",
       "      <td>WALES</td>\n",
       "      <td>V</td>\n",
       "      <td>0004</td>\n",
       "      <td>WALES - V 0004</td>\n",
       "      <td>343</td>\n",
       "      <td>330</td>\n",
       "      <td>108</td>\n",
       "      <td>...</td>\n",
       "      <td>394.0</td>\n",
       "      <td>10.0</td>\n",
       "      <td>353.0</td>\n",
       "      <td>3.0</td>\n",
       "      <td>2.0</td>\n",
       "      <td>10.0</td>\n",
       "      <td>0.0</td>\n",
       "      <td>0.0</td>\n",
       "      <td>16.0</td>\n",
       "      <td>4.0</td>\n",
       "    </tr>\n",
       "    <tr>\n",
       "      <th>7090</th>\n",
       "      <td>55039</td>\n",
       "      <td>FOND DU LAC</td>\n",
       "      <td>5503984425</td>\n",
       "      <td>WAUPUN</td>\n",
       "      <td>C</td>\n",
       "      <td>0009</td>\n",
       "      <td>WAUPUN - C 0009</td>\n",
       "      <td>1345</td>\n",
       "      <td>952</td>\n",
       "      <td>248</td>\n",
       "      <td>...</td>\n",
       "      <td>1455.0</td>\n",
       "      <td>59.0</td>\n",
       "      <td>1325.0</td>\n",
       "      <td>11.0</td>\n",
       "      <td>5.0</td>\n",
       "      <td>12.0</td>\n",
       "      <td>1.0</td>\n",
       "      <td>3.0</td>\n",
       "      <td>39.0</td>\n",
       "      <td>5.0</td>\n",
       "    </tr>\n",
       "    <tr>\n",
       "      <th>7091</th>\n",
       "      <td>55039</td>\n",
       "      <td>FOND DU LAC</td>\n",
       "      <td>5503984425</td>\n",
       "      <td>WAUPUN</td>\n",
       "      <td>C</td>\n",
       "      <td>009B</td>\n",
       "      <td>WAUPUN - C 009B</td>\n",
       "      <td>0</td>\n",
       "      <td>0</td>\n",
       "      <td>0</td>\n",
       "      <td>...</td>\n",
       "      <td>0.0</td>\n",
       "      <td>0.0</td>\n",
       "      <td>0.0</td>\n",
       "      <td>0.0</td>\n",
       "      <td>0.0</td>\n",
       "      <td>0.0</td>\n",
       "      <td>0.0</td>\n",
       "      <td>0.0</td>\n",
       "      <td>0.0</td>\n",
       "      <td>5.0</td>\n",
       "    </tr>\n",
       "    <tr>\n",
       "      <th>7092</th>\n",
       "      <td>55039</td>\n",
       "      <td>FOND DU LAC</td>\n",
       "      <td>5503984425</td>\n",
       "      <td>WAUPUN</td>\n",
       "      <td>C</td>\n",
       "      <td>009A</td>\n",
       "      <td>WAUPUN - C 009A</td>\n",
       "      <td>4</td>\n",
       "      <td>0</td>\n",
       "      <td>0</td>\n",
       "      <td>...</td>\n",
       "      <td>0.0</td>\n",
       "      <td>0.0</td>\n",
       "      <td>0.0</td>\n",
       "      <td>0.0</td>\n",
       "      <td>0.0</td>\n",
       "      <td>0.0</td>\n",
       "      <td>0.0</td>\n",
       "      <td>0.0</td>\n",
       "      <td>0.0</td>\n",
       "      <td>5.0</td>\n",
       "    </tr>\n",
       "  </tbody>\n",
       "</table>\n",
       "<p>7062 rows × 22 columns</p>\n",
       "</div>"
      ],
      "text/plain": [
       "     CNTY_FIPS    CNTY_NAME    MCD_FIPS     MCD_NAME CTV WARDID  \\\n",
       "0        55035   EAU CLAIRE  5503522300   EAU CLAIRE   C   0060   \n",
       "1        55035   EAU CLAIRE  5503522300   EAU CLAIRE   C   0059   \n",
       "2        55043        GRANT  5504363250  PLATTEVILLE   C   0002   \n",
       "3        55043        GRANT  5504363250  PLATTEVILLE   C   0001   \n",
       "4        55045        GREEN  5504500775       ALBANY   T   0001   \n",
       "...        ...          ...         ...          ...  ..    ...   \n",
       "7087     55063    LA CROSSE  5506335450       HOLMEN   V   0011   \n",
       "7088     55133     WAUKESHA  5513383175        WALES   V   0004   \n",
       "7090     55039  FOND DU LAC  5503984425       WAUPUN   C   0009   \n",
       "7091     55039  FOND DU LAC  5503984425       WAUPUN   C   009B   \n",
       "7092     55039  FOND DU LAC  5503984425       WAUPUN   C   009A   \n",
       "\n",
       "                     LABEL  PERSONS   RV  G20PRED  ...  TOTPOP  HISP  \\\n",
       "0      EAU CLAIRE - C 0060       12    0        0  ...     4.0   0.0   \n",
       "1      EAU CLAIRE - C 0059        0    0        0  ...     0.0   0.0   \n",
       "2     PLATTEVILLE - C 0002     1371  942      489  ...  1412.0  28.0   \n",
       "3     PLATTEVILLE - C 0001     1197  832      432  ...  1321.0  38.0   \n",
       "4          ALBANY - T 0001      464  371      157  ...   499.0  11.0   \n",
       "...                    ...      ...  ...      ...  ...     ...   ...   \n",
       "7087       HOLMEN - V 0011      982  756      346  ...  1188.0  16.0   \n",
       "7088        WALES - V 0004      343  330      108  ...   394.0  10.0   \n",
       "7090       WAUPUN - C 0009     1345  952      248  ...  1455.0  59.0   \n",
       "7091       WAUPUN - C 009B        0    0        0  ...     0.0   0.0   \n",
       "7092       WAUPUN - C 009A        4    0        0  ...     0.0   0.0   \n",
       "\n",
       "      NH_WHITE  NH_BLACK  NH_AMIN  NH_ASIAN  NH_NHPI  NH_OTHER  NH_2MORE   CD  \n",
       "0          0.0       1.0      0.0       0.0      0.0       0.0       3.0  2.0  \n",
       "1          0.0       0.0      0.0       0.0      0.0       0.0       0.0  2.0  \n",
       "2       1268.0      33.0      3.0      26.0      0.0       1.0      53.0  2.0  \n",
       "3       1168.0      36.0      2.0      26.0      0.0       2.0      49.0  2.0  \n",
       "4        466.0       2.0      4.0       0.0      0.0       1.0      15.0  1.0  \n",
       "...        ...       ...      ...       ...      ...       ...       ...  ...  \n",
       "7087     998.0      13.0      0.0     113.0      0.0       0.0      48.0  2.0  \n",
       "7088     353.0       3.0      2.0      10.0      0.0       0.0      16.0  4.0  \n",
       "7090    1325.0      11.0      5.0      12.0      1.0       3.0      39.0  5.0  \n",
       "7091       0.0       0.0      0.0       0.0      0.0       0.0       0.0  5.0  \n",
       "7092       0.0       0.0      0.0       0.0      0.0       0.0       0.0  5.0  \n",
       "\n",
       "[7062 rows x 22 columns]"
      ]
     },
     "execution_count": 72,
     "metadata": {},
     "output_type": "execute_result"
    }
   ],
   "source": [
    "final_df_2"
   ]
  },
  {
   "cell_type": "code",
   "execution_count": 73,
   "metadata": {},
   "outputs": [
    {
     "data": {
      "text/html": [
       "<div>\n",
       "<style scoped>\n",
       "    .dataframe tbody tr th:only-of-type {\n",
       "        vertical-align: middle;\n",
       "    }\n",
       "\n",
       "    .dataframe tbody tr th {\n",
       "        vertical-align: top;\n",
       "    }\n",
       "\n",
       "    .dataframe thead th {\n",
       "        text-align: right;\n",
       "    }\n",
       "</style>\n",
       "<table border=\"1\" class=\"dataframe\">\n",
       "  <thead>\n",
       "    <tr style=\"text-align: right;\">\n",
       "      <th></th>\n",
       "      <th>id</th>\n",
       "      <th>NAME</th>\n",
       "      <th>TotalPop</th>\n",
       "      <th>PopDevPc</th>\n",
       "      <th>DemPct</th>\n",
       "      <th>RepPct</th>\n",
       "      <th>WhitePct</th>\n",
       "      <th>Minority</th>\n",
       "      <th>BlackPct</th>\n",
       "      <th>Hispanic</th>\n",
       "      <th>PacificP</th>\n",
       "      <th>AsianPct</th>\n",
       "      <th>NativePc</th>\n",
       "      <th>TotalVAP</th>\n",
       "      <th>Margin</th>\n",
       "      <th>color</th>\n",
       "      <th>opacity</th>\n",
       "      <th>geometry</th>\n",
       "    </tr>\n",
       "  </thead>\n",
       "  <tbody>\n",
       "    <tr>\n",
       "      <th>0</th>\n",
       "      <td>1.0</td>\n",
       "      <td>1</td>\n",
       "      <td>736715.0</td>\n",
       "      <td>0.000000</td>\n",
       "      <td>0.481142</td>\n",
       "      <td>0.491911</td>\n",
       "      <td>0.782418</td>\n",
       "      <td>0.217582</td>\n",
       "      <td>0.070932</td>\n",
       "      <td>0.102396</td>\n",
       "      <td>0.001110</td>\n",
       "      <td>0.024325</td>\n",
       "      <td>0.019329</td>\n",
       "      <td>575451.0</td>\n",
       "      <td>-0.018858</td>\n",
       "      <td>#0000FF</td>\n",
       "      <td>0.5</td>\n",
       "      <td>POLYGON ((348358.235 4745226.043, 347592.443 4...</td>\n",
       "    </tr>\n",
       "    <tr>\n",
       "      <th>1</th>\n",
       "      <td>2.0</td>\n",
       "      <td>2</td>\n",
       "      <td>736715.0</td>\n",
       "      <td>0.000000</td>\n",
       "      <td>0.694890</td>\n",
       "      <td>0.281285</td>\n",
       "      <td>0.820014</td>\n",
       "      <td>0.179986</td>\n",
       "      <td>0.046568</td>\n",
       "      <td>0.056653</td>\n",
       "      <td>0.001187</td>\n",
       "      <td>0.057611</td>\n",
       "      <td>0.015589</td>\n",
       "      <td>584519.0</td>\n",
       "      <td>0.194890</td>\n",
       "      <td>#008000</td>\n",
       "      <td>0.5</td>\n",
       "      <td>POLYGON ((286255.899 4708986.006, 286384.418 4...</td>\n",
       "    </tr>\n",
       "    <tr>\n",
       "      <th>2</th>\n",
       "      <td>3.0</td>\n",
       "      <td>3</td>\n",
       "      <td>736716.0</td>\n",
       "      <td>0.000001</td>\n",
       "      <td>0.486566</td>\n",
       "      <td>0.483154</td>\n",
       "      <td>0.909480</td>\n",
       "      <td>0.090520</td>\n",
       "      <td>0.016465</td>\n",
       "      <td>0.026567</td>\n",
       "      <td>0.001084</td>\n",
       "      <td>0.024026</td>\n",
       "      <td>0.017500</td>\n",
       "      <td>580338.0</td>\n",
       "      <td>-0.013434</td>\n",
       "      <td>#8B008B</td>\n",
       "      <td>0.5</td>\n",
       "      <td>POLYGON ((166031.420 4975754.206, 166071.488 4...</td>\n",
       "    </tr>\n",
       "    <tr>\n",
       "      <th>3</th>\n",
       "      <td>4.0</td>\n",
       "      <td>4</td>\n",
       "      <td>736714.0</td>\n",
       "      <td>-0.000001</td>\n",
       "      <td>0.734541</td>\n",
       "      <td>0.241345</td>\n",
       "      <td>0.470504</td>\n",
       "      <td>0.529496</td>\n",
       "      <td>0.314626</td>\n",
       "      <td>0.153485</td>\n",
       "      <td>0.001446</td>\n",
       "      <td>0.051948</td>\n",
       "      <td>0.021316</td>\n",
       "      <td>558133.0</td>\n",
       "      <td>0.234541</td>\n",
       "      <td>#FF0000</td>\n",
       "      <td>0.5</td>\n",
       "      <td>POLYGON ((427547.312 4764043.628, 427625.398 4...</td>\n",
       "    </tr>\n",
       "    <tr>\n",
       "      <th>4</th>\n",
       "      <td>5.0</td>\n",
       "      <td>5</td>\n",
       "      <td>736715.0</td>\n",
       "      <td>0.000000</td>\n",
       "      <td>0.346921</td>\n",
       "      <td>0.630317</td>\n",
       "      <td>0.883632</td>\n",
       "      <td>0.116368</td>\n",
       "      <td>0.019442</td>\n",
       "      <td>0.047246</td>\n",
       "      <td>0.000904</td>\n",
       "      <td>0.030984</td>\n",
       "      <td>0.013157</td>\n",
       "      <td>578845.0</td>\n",
       "      <td>-0.153079</td>\n",
       "      <td>#FFD700</td>\n",
       "      <td>0.5</td>\n",
       "      <td>POLYGON ((383425.419 4738101.544, 383420.384 4...</td>\n",
       "    </tr>\n",
       "    <tr>\n",
       "      <th>5</th>\n",
       "      <td>6.0</td>\n",
       "      <td>6</td>\n",
       "      <td>736714.0</td>\n",
       "      <td>-0.000001</td>\n",
       "      <td>0.408809</td>\n",
       "      <td>0.563021</td>\n",
       "      <td>0.885271</td>\n",
       "      <td>0.114729</td>\n",
       "      <td>0.025438</td>\n",
       "      <td>0.042427</td>\n",
       "      <td>0.000945</td>\n",
       "      <td>0.025826</td>\n",
       "      <td>0.016183</td>\n",
       "      <td>582819.0</td>\n",
       "      <td>-0.091191</td>\n",
       "      <td>#008080</td>\n",
       "      <td>0.5</td>\n",
       "      <td>POLYGON ((385972.149 4822148.553, 386004.056 4...</td>\n",
       "    </tr>\n",
       "    <tr>\n",
       "      <th>6</th>\n",
       "      <td>7.0</td>\n",
       "      <td>7</td>\n",
       "      <td>736715.0</td>\n",
       "      <td>0.000000</td>\n",
       "      <td>0.406008</td>\n",
       "      <td>0.566827</td>\n",
       "      <td>0.914368</td>\n",
       "      <td>0.085632</td>\n",
       "      <td>0.009971</td>\n",
       "      <td>0.019420</td>\n",
       "      <td>0.001041</td>\n",
       "      <td>0.016634</td>\n",
       "      <td>0.032366</td>\n",
       "      <td>580264.0</td>\n",
       "      <td>-0.093992</td>\n",
       "      <td>#D2691E</td>\n",
       "      <td>0.5</td>\n",
       "      <td>POLYGON ((283876.869 5128554.316, 283833.607 5...</td>\n",
       "    </tr>\n",
       "    <tr>\n",
       "      <th>7</th>\n",
       "      <td>8.0</td>\n",
       "      <td>8</td>\n",
       "      <td>736714.0</td>\n",
       "      <td>-0.000001</td>\n",
       "      <td>0.413727</td>\n",
       "      <td>0.558930</td>\n",
       "      <td>0.867666</td>\n",
       "      <td>0.132334</td>\n",
       "      <td>0.019672</td>\n",
       "      <td>0.048263</td>\n",
       "      <td>0.000960</td>\n",
       "      <td>0.023414</td>\n",
       "      <td>0.037826</td>\n",
       "      <td>571931.0</td>\n",
       "      <td>-0.086273</td>\n",
       "      <td>#6A5ACD</td>\n",
       "      <td>0.5</td>\n",
       "      <td>POLYGON ((338539.509 4900835.427, 339622.358 4...</td>\n",
       "    </tr>\n",
       "  </tbody>\n",
       "</table>\n",
       "</div>"
      ],
      "text/plain": [
       "    id NAME  TotalPop  PopDevPc    DemPct    RepPct  WhitePct  Minority  \\\n",
       "0  1.0    1  736715.0  0.000000  0.481142  0.491911  0.782418  0.217582   \n",
       "1  2.0    2  736715.0  0.000000  0.694890  0.281285  0.820014  0.179986   \n",
       "2  3.0    3  736716.0  0.000001  0.486566  0.483154  0.909480  0.090520   \n",
       "3  4.0    4  736714.0 -0.000001  0.734541  0.241345  0.470504  0.529496   \n",
       "4  5.0    5  736715.0  0.000000  0.346921  0.630317  0.883632  0.116368   \n",
       "5  6.0    6  736714.0 -0.000001  0.408809  0.563021  0.885271  0.114729   \n",
       "6  7.0    7  736715.0  0.000000  0.406008  0.566827  0.914368  0.085632   \n",
       "7  8.0    8  736714.0 -0.000001  0.413727  0.558930  0.867666  0.132334   \n",
       "\n",
       "   BlackPct  Hispanic  PacificP  AsianPct  NativePc  TotalVAP    Margin  \\\n",
       "0  0.070932  0.102396  0.001110  0.024325  0.019329  575451.0 -0.018858   \n",
       "1  0.046568  0.056653  0.001187  0.057611  0.015589  584519.0  0.194890   \n",
       "2  0.016465  0.026567  0.001084  0.024026  0.017500  580338.0 -0.013434   \n",
       "3  0.314626  0.153485  0.001446  0.051948  0.021316  558133.0  0.234541   \n",
       "4  0.019442  0.047246  0.000904  0.030984  0.013157  578845.0 -0.153079   \n",
       "5  0.025438  0.042427  0.000945  0.025826  0.016183  582819.0 -0.091191   \n",
       "6  0.009971  0.019420  0.001041  0.016634  0.032366  580264.0 -0.093992   \n",
       "7  0.019672  0.048263  0.000960  0.023414  0.037826  571931.0 -0.086273   \n",
       "\n",
       "     color opacity                                           geometry  \n",
       "0  #0000FF     0.5  POLYGON ((348358.235 4745226.043, 347592.443 4...  \n",
       "1  #008000     0.5  POLYGON ((286255.899 4708986.006, 286384.418 4...  \n",
       "2  #8B008B     0.5  POLYGON ((166031.420 4975754.206, 166071.488 4...  \n",
       "3  #FF0000     0.5  POLYGON ((427547.312 4764043.628, 427625.398 4...  \n",
       "4  #FFD700     0.5  POLYGON ((383425.419 4738101.544, 383420.384 4...  \n",
       "5  #008080     0.5  POLYGON ((385972.149 4822148.553, 386004.056 4...  \n",
       "6  #D2691E     0.5  POLYGON ((283876.869 5128554.316, 283833.607 5...  \n",
       "7  #6A5ACD     0.5  POLYGON ((338539.509 4900835.427, 339622.358 4...  "
      ]
     },
     "execution_count": 73,
     "metadata": {},
     "output_type": "execute_result"
    }
   ],
   "source": [
    "cong_df"
   ]
  },
  {
   "cell_type": "code",
   "execution_count": 74,
   "metadata": {},
   "outputs": [
    {
     "data": {
      "text/plain": [
       "0"
      ]
     },
     "execution_count": 74,
     "metadata": {},
     "output_type": "execute_result"
    }
   ],
   "source": [
    "final_df_2[\"CD\"].isna().sum()"
   ]
  },
  {
   "cell_type": "code",
   "execution_count": 75,
   "metadata": {},
   "outputs": [
    {
     "data": {
      "text/plain": [
       "CNTY_FIPS    0\n",
       "CNTY_NAME    0\n",
       "MCD_FIPS     0\n",
       "MCD_NAME     0\n",
       "CTV          0\n",
       "WARDID       0\n",
       "LABEL        0\n",
       "PERSONS      0\n",
       "RV           0\n",
       "G20PRED      0\n",
       "G20PRER      0\n",
       "geometry     0\n",
       "TOTPOP       0\n",
       "HISP         0\n",
       "NH_WHITE     0\n",
       "NH_BLACK     0\n",
       "NH_AMIN      0\n",
       "NH_ASIAN     0\n",
       "NH_NHPI      0\n",
       "NH_OTHER     0\n",
       "NH_2MORE     0\n",
       "CD           0\n",
       "dtype: int64"
      ]
     },
     "execution_count": 75,
     "metadata": {},
     "output_type": "execute_result"
    }
   ],
   "source": [
    "final_df_2.isna().sum()"
   ]
  },
  {
   "cell_type": "code",
   "execution_count": 76,
   "metadata": {},
   "outputs": [
    {
     "data": {
      "text/plain": [
       "0       2.0\n",
       "1       2.0\n",
       "2       2.0\n",
       "3       2.0\n",
       "4       1.0\n",
       "       ... \n",
       "7087    2.0\n",
       "7088    4.0\n",
       "7090    5.0\n",
       "7091    5.0\n",
       "7092    5.0\n",
       "Name: CD, Length: 7062, dtype: float64"
      ]
     },
     "execution_count": 76,
     "metadata": {},
     "output_type": "execute_result"
    }
   ],
   "source": [
    "final_df_2[\"CD\"]"
   ]
  },
  {
   "cell_type": "code",
   "execution_count": 77,
   "metadata": {},
   "outputs": [
    {
     "ename": "KeyError",
     "evalue": "298",
     "output_type": "error",
     "traceback": [
      "\u001b[0;31m---------------------------------------------------------------------------\u001b[0m",
      "\u001b[0;31mKeyError\u001b[0m                                  Traceback (most recent call last)",
      "File \u001b[0;32m~/miniconda3/envs/gerry/lib/python3.11/site-packages/pandas/core/indexes/base.py:3805\u001b[0m, in \u001b[0;36mIndex.get_loc\u001b[0;34m(self, key)\u001b[0m\n\u001b[1;32m   3804\u001b[0m \u001b[38;5;28;01mtry\u001b[39;00m:\n\u001b[0;32m-> 3805\u001b[0m     \u001b[38;5;28;01mreturn\u001b[39;00m \u001b[38;5;28;43mself\u001b[39;49m\u001b[38;5;241;43m.\u001b[39;49m\u001b[43m_engine\u001b[49m\u001b[38;5;241;43m.\u001b[39;49m\u001b[43mget_loc\u001b[49m\u001b[43m(\u001b[49m\u001b[43mcasted_key\u001b[49m\u001b[43m)\u001b[49m\n\u001b[1;32m   3806\u001b[0m \u001b[38;5;28;01mexcept\u001b[39;00m \u001b[38;5;167;01mKeyError\u001b[39;00m \u001b[38;5;28;01mas\u001b[39;00m err:\n",
      "File \u001b[0;32mindex.pyx:167\u001b[0m, in \u001b[0;36mpandas._libs.index.IndexEngine.get_loc\u001b[0;34m()\u001b[0m\n",
      "File \u001b[0;32mindex.pyx:196\u001b[0m, in \u001b[0;36mpandas._libs.index.IndexEngine.get_loc\u001b[0;34m()\u001b[0m\n",
      "File \u001b[0;32mpandas/_libs/hashtable_class_helper.pxi:2606\u001b[0m, in \u001b[0;36mpandas._libs.hashtable.Int64HashTable.get_item\u001b[0;34m()\u001b[0m\n",
      "File \u001b[0;32mpandas/_libs/hashtable_class_helper.pxi:2630\u001b[0m, in \u001b[0;36mpandas._libs.hashtable.Int64HashTable.get_item\u001b[0;34m()\u001b[0m\n",
      "\u001b[0;31mKeyError\u001b[0m: 298",
      "\nThe above exception was the direct cause of the following exception:\n",
      "\u001b[0;31mKeyError\u001b[0m                                  Traceback (most recent call last)",
      "Cell \u001b[0;32mIn[77], line 3\u001b[0m\n\u001b[1;32m      1\u001b[0m \u001b[38;5;66;03m## Uses real district names\u001b[39;00m\n\u001b[1;32m      2\u001b[0m \u001b[38;5;28;01mfor\u001b[39;00m precinct_index \u001b[38;5;129;01min\u001b[39;00m \u001b[38;5;28mrange\u001b[39m(\u001b[38;5;28mlen\u001b[39m(final_df_2)):\n\u001b[0;32m----> 3\u001b[0m     final_df_2\u001b[38;5;241m.\u001b[39mat[precinct_index, \u001b[38;5;124m\"\u001b[39m\u001b[38;5;124mCD\u001b[39m\u001b[38;5;124m\"\u001b[39m] \u001b[38;5;241m=\u001b[39m cong_df\u001b[38;5;241m.\u001b[39mat[\u001b[38;5;28mint\u001b[39m(\u001b[43mfinal_df_2\u001b[49m\u001b[38;5;241;43m.\u001b[39;49m\u001b[43mat\u001b[49m\u001b[43m[\u001b[49m\u001b[43mprecinct_index\u001b[49m\u001b[43m,\u001b[49m\u001b[43m \u001b[49m\u001b[38;5;124;43m\"\u001b[39;49m\u001b[38;5;124;43mCD\u001b[39;49m\u001b[38;5;124;43m\"\u001b[39;49m\u001b[43m]\u001b[49m), \u001b[38;5;124m\"\u001b[39m\u001b[38;5;124mNAME\u001b[39m\u001b[38;5;124m\"\u001b[39m]\n\u001b[1;32m      4\u001b[0m \u001b[38;5;28mprint\u001b[39m(\u001b[38;5;28mset\u001b[39m(cong_df[\u001b[38;5;124m\"\u001b[39m\u001b[38;5;124mNAME\u001b[39m\u001b[38;5;124m\"\u001b[39m]))\n\u001b[1;32m      5\u001b[0m \u001b[38;5;28mprint\u001b[39m(\u001b[38;5;28mset\u001b[39m(final_df_2[\u001b[38;5;124m\"\u001b[39m\u001b[38;5;124mCD\u001b[39m\u001b[38;5;124m\"\u001b[39m]))\n",
      "File \u001b[0;32m~/miniconda3/envs/gerry/lib/python3.11/site-packages/pandas/core/indexing.py:2575\u001b[0m, in \u001b[0;36m_AtIndexer.__getitem__\u001b[0;34m(self, key)\u001b[0m\n\u001b[1;32m   2572\u001b[0m         \u001b[38;5;28;01mraise\u001b[39;00m \u001b[38;5;167;01mValueError\u001b[39;00m(\u001b[38;5;124m\"\u001b[39m\u001b[38;5;124mInvalid call for scalar access (getting)!\u001b[39m\u001b[38;5;124m\"\u001b[39m)\n\u001b[1;32m   2573\u001b[0m     \u001b[38;5;28;01mreturn\u001b[39;00m \u001b[38;5;28mself\u001b[39m\u001b[38;5;241m.\u001b[39mobj\u001b[38;5;241m.\u001b[39mloc[key]\n\u001b[0;32m-> 2575\u001b[0m \u001b[38;5;28;01mreturn\u001b[39;00m \u001b[38;5;28;43msuper\u001b[39;49m\u001b[43m(\u001b[49m\u001b[43m)\u001b[49m\u001b[38;5;241;43m.\u001b[39;49m\u001b[38;5;21;43m__getitem__\u001b[39;49m\u001b[43m(\u001b[49m\u001b[43mkey\u001b[49m\u001b[43m)\u001b[49m\n",
      "File \u001b[0;32m~/miniconda3/envs/gerry/lib/python3.11/site-packages/pandas/core/indexing.py:2527\u001b[0m, in \u001b[0;36m_ScalarAccessIndexer.__getitem__\u001b[0;34m(self, key)\u001b[0m\n\u001b[1;32m   2524\u001b[0m         \u001b[38;5;28;01mraise\u001b[39;00m \u001b[38;5;167;01mValueError\u001b[39;00m(\u001b[38;5;124m\"\u001b[39m\u001b[38;5;124mInvalid call for scalar access (getting)!\u001b[39m\u001b[38;5;124m\"\u001b[39m)\n\u001b[1;32m   2526\u001b[0m key \u001b[38;5;241m=\u001b[39m \u001b[38;5;28mself\u001b[39m\u001b[38;5;241m.\u001b[39m_convert_key(key)\n\u001b[0;32m-> 2527\u001b[0m \u001b[38;5;28;01mreturn\u001b[39;00m \u001b[38;5;28;43mself\u001b[39;49m\u001b[38;5;241;43m.\u001b[39;49m\u001b[43mobj\u001b[49m\u001b[38;5;241;43m.\u001b[39;49m\u001b[43m_get_value\u001b[49m\u001b[43m(\u001b[49m\u001b[38;5;241;43m*\u001b[39;49m\u001b[43mkey\u001b[49m\u001b[43m,\u001b[49m\u001b[43m \u001b[49m\u001b[43mtakeable\u001b[49m\u001b[38;5;241;43m=\u001b[39;49m\u001b[38;5;28;43mself\u001b[39;49m\u001b[38;5;241;43m.\u001b[39;49m\u001b[43m_takeable\u001b[49m\u001b[43m)\u001b[49m\n",
      "File \u001b[0;32m~/miniconda3/envs/gerry/lib/python3.11/site-packages/pandas/core/frame.py:4221\u001b[0m, in \u001b[0;36mDataFrame._get_value\u001b[0;34m(self, index, col, takeable)\u001b[0m\n\u001b[1;32m   4215\u001b[0m engine \u001b[38;5;241m=\u001b[39m \u001b[38;5;28mself\u001b[39m\u001b[38;5;241m.\u001b[39mindex\u001b[38;5;241m.\u001b[39m_engine\n\u001b[1;32m   4217\u001b[0m \u001b[38;5;28;01mif\u001b[39;00m \u001b[38;5;129;01mnot\u001b[39;00m \u001b[38;5;28misinstance\u001b[39m(\u001b[38;5;28mself\u001b[39m\u001b[38;5;241m.\u001b[39mindex, MultiIndex):\n\u001b[1;32m   4218\u001b[0m     \u001b[38;5;66;03m# CategoricalIndex: Trying to use the engine fastpath may give incorrect\u001b[39;00m\n\u001b[1;32m   4219\u001b[0m     \u001b[38;5;66;03m#  results if our categories are integers that dont match our codes\u001b[39;00m\n\u001b[1;32m   4220\u001b[0m     \u001b[38;5;66;03m# IntervalIndex: IntervalTree has no get_loc\u001b[39;00m\n\u001b[0;32m-> 4221\u001b[0m     row \u001b[38;5;241m=\u001b[39m \u001b[38;5;28;43mself\u001b[39;49m\u001b[38;5;241;43m.\u001b[39;49m\u001b[43mindex\u001b[49m\u001b[38;5;241;43m.\u001b[39;49m\u001b[43mget_loc\u001b[49m\u001b[43m(\u001b[49m\u001b[43mindex\u001b[49m\u001b[43m)\u001b[49m\n\u001b[1;32m   4222\u001b[0m     \u001b[38;5;28;01mreturn\u001b[39;00m series\u001b[38;5;241m.\u001b[39m_values[row]\n\u001b[1;32m   4224\u001b[0m \u001b[38;5;66;03m# For MultiIndex going through engine effectively restricts us to\u001b[39;00m\n\u001b[1;32m   4225\u001b[0m \u001b[38;5;66;03m#  same-length tuples; see test_get_set_value_no_partial_indexing\u001b[39;00m\n",
      "File \u001b[0;32m~/miniconda3/envs/gerry/lib/python3.11/site-packages/pandas/core/indexes/base.py:3812\u001b[0m, in \u001b[0;36mIndex.get_loc\u001b[0;34m(self, key)\u001b[0m\n\u001b[1;32m   3807\u001b[0m     \u001b[38;5;28;01mif\u001b[39;00m \u001b[38;5;28misinstance\u001b[39m(casted_key, \u001b[38;5;28mslice\u001b[39m) \u001b[38;5;129;01mor\u001b[39;00m (\n\u001b[1;32m   3808\u001b[0m         \u001b[38;5;28misinstance\u001b[39m(casted_key, abc\u001b[38;5;241m.\u001b[39mIterable)\n\u001b[1;32m   3809\u001b[0m         \u001b[38;5;129;01mand\u001b[39;00m \u001b[38;5;28many\u001b[39m(\u001b[38;5;28misinstance\u001b[39m(x, \u001b[38;5;28mslice\u001b[39m) \u001b[38;5;28;01mfor\u001b[39;00m x \u001b[38;5;129;01min\u001b[39;00m casted_key)\n\u001b[1;32m   3810\u001b[0m     ):\n\u001b[1;32m   3811\u001b[0m         \u001b[38;5;28;01mraise\u001b[39;00m InvalidIndexError(key)\n\u001b[0;32m-> 3812\u001b[0m     \u001b[38;5;28;01mraise\u001b[39;00m \u001b[38;5;167;01mKeyError\u001b[39;00m(key) \u001b[38;5;28;01mfrom\u001b[39;00m\u001b[38;5;250m \u001b[39m\u001b[38;5;21;01merr\u001b[39;00m\n\u001b[1;32m   3813\u001b[0m \u001b[38;5;28;01mexcept\u001b[39;00m \u001b[38;5;167;01mTypeError\u001b[39;00m:\n\u001b[1;32m   3814\u001b[0m     \u001b[38;5;66;03m# If we have a listlike key, _check_indexing_error will raise\u001b[39;00m\n\u001b[1;32m   3815\u001b[0m     \u001b[38;5;66;03m#  InvalidIndexError. Otherwise we fall through and re-raise\u001b[39;00m\n\u001b[1;32m   3816\u001b[0m     \u001b[38;5;66;03m#  the TypeError.\u001b[39;00m\n\u001b[1;32m   3817\u001b[0m     \u001b[38;5;28mself\u001b[39m\u001b[38;5;241m.\u001b[39m_check_indexing_error(key)\n",
      "\u001b[0;31mKeyError\u001b[0m: 298"
     ]
    }
   ],
   "source": [
    "## Uses real district names\n",
    "for precinct_index in range(len(final_df_2)):\n",
    "    final_df_2.at[precinct_index, \"CD\"] = cong_df.at[int(final_df_2.at[precinct_index, \"CD\"]), \"NAME\"]\n",
    "print(set(cong_df[\"NAME\"]))\n",
    "print(set(final_df_2[\"CD\"]))"
   ]
  },
  {
   "cell_type": "code",
   "execution_count": 119,
   "metadata": {},
   "outputs": [
    {
     "data": {
      "text/plain": [
       "<Axes: >"
      ]
     },
     "execution_count": 119,
     "metadata": {},
     "output_type": "execute_result"
    },
    {
     "data": {
      "image/png": "[encoded data removed]",
      "text/plain": [
       "<Figure size 640x480 with 1 Axes>"
      ]
     },
     "metadata": {},
     "output_type": "display_data"
    }
   ],
   "source": [
    "final_df_2.plot() ## See an image of the geodataframe"
   ]
  },
  {
   "cell_type": "code",
   "execution_count": 120,
   "metadata": {},
   "outputs": [
    {
     "name": "stdout",
     "output_type": "stream",
     "text": [
      "[736286.0, 736822.0, 736959.0, 736395.0, 737306.0, 736545.0, 736572.0, 736833.0]\n"
     ]
    }
   ],
   "source": [
    "pop_vals = [final_df_2.loc[final_df_2[\"CD\"] == str(n), \"TOTPOP\"].sum() for n in range(1, 9)]\n",
    "print(pop_vals) ## Population nearly the same in each district"
   ]
  },
  {
   "cell_type": "code",
   "execution_count": 121,
   "metadata": {},
   "outputs": [],
   "source": [
    "directory = \"./WI_DATA\"\n",
    "if not os.path.exists(directory):\n",
    "    os.makedirs(directory)\n",
    "final_df_2.to_file(\"./WI_DATA/WI.shp\")"
   ]
  },
  {
   "cell_type": "markdown",
   "metadata": {},
   "source": [
    "# CITATION: CODE FOUND IN LAB 3"
   ]
  },
  {
   "cell_type": "code",
   "execution_count": 122,
   "metadata": {},
   "outputs": [
    {
     "ename": "GeometryError",
     "evalue": "Invalid geometries at rows [6678] before reprojection. Consider repairing the affected geometries with `.buffer(0)`, or pass `ignore_errors=True` to attempt to create the graph anyways.",
     "output_type": "error",
     "traceback": [
      "\u001b[0;31m---------------------------------------------------------------------------\u001b[0m",
      "\u001b[0;31mGeometryError\u001b[0m                             Traceback (most recent call last)",
      "Cell \u001b[0;32mIn[122], line 13\u001b[0m\n\u001b[1;32m      9\u001b[0m \u001b[38;5;28;01mfrom\u001b[39;00m\u001b[38;5;250m \u001b[39m\u001b[38;5;21;01mgerrychain\u001b[39;00m\u001b[38;5;21;01m.\u001b[39;00m\u001b[38;5;21;01mtree\u001b[39;00m\u001b[38;5;250m \u001b[39m\u001b[38;5;28;01mimport\u001b[39;00m bipartition_tree\n\u001b[1;32m     12\u001b[0m ct_file \u001b[38;5;241m=\u001b[39m gpd\u001b[38;5;241m.\u001b[39mread_file(\u001b[38;5;124m\"\u001b[39m\u001b[38;5;124m./WI_DATA/WI.shp\u001b[39m\u001b[38;5;124m\"\u001b[39m) \u001b[38;5;66;03m# reads a file from ct directory\u001b[39;00m\n\u001b[0;32m---> 13\u001b[0m ct_graph \u001b[38;5;241m=\u001b[39m \u001b[43mGraph\u001b[49m\u001b[38;5;241;43m.\u001b[39;49m\u001b[43mfrom_geodataframe\u001b[49m\u001b[43m(\u001b[49m\u001b[43mct_file\u001b[49m\u001b[43m)\u001b[49m \u001b[38;5;66;03m# creates a graph from a geodataframe\u001b[39;00m\n\u001b[1;32m     14\u001b[0m \u001b[38;5;28mprint\u001b[39m(ct_graph\u001b[38;5;241m.\u001b[39mnodes()[\u001b[38;5;241m0\u001b[39m]) \u001b[38;5;66;03m# Prints out the attributes of each node in the graph\u001b[39;00m\n\u001b[1;32m     15\u001b[0m tot_pop \u001b[38;5;241m=\u001b[39m \u001b[38;5;28msum\u001b[39m([ct_graph\u001b[38;5;241m.\u001b[39mnodes()[v][\u001b[38;5;124m'\u001b[39m\u001b[38;5;124mTOTPOP\u001b[39m\u001b[38;5;124m'\u001b[39m] \u001b[38;5;28;01mfor\u001b[39;00m v \u001b[38;5;129;01min\u001b[39;00m ct_graph\u001b[38;5;241m.\u001b[39mnodes() \u001b[38;5;28;01mif\u001b[39;00m \u001b[38;5;129;01mnot\u001b[39;00m pd\u001b[38;5;241m.\u001b[39misna(ct_graph\u001b[38;5;241m.\u001b[39mnodes()[v][\u001b[38;5;124m'\u001b[39m\u001b[38;5;124mTOTPOP\u001b[39m\u001b[38;5;124m'\u001b[39m])]) \u001b[38;5;66;03m# gets the total population for ideal population calculation if the values are numbers\u001b[39;00m\n",
      "File \u001b[0;32m~/miniconda3/envs/gerry/lib/python3.11/site-packages/gerrychain/graph/graph.py:229\u001b[0m, in \u001b[0;36mGraph.from_geodataframe\u001b[0;34m(cls, dataframe, adjacency, cols_to_add, reproject, ignore_errors, crs_override)\u001b[0m\n\u001b[1;32m    227\u001b[0m     invalid \u001b[38;5;241m=\u001b[39m invalid_geometries(dataframe)\n\u001b[1;32m    228\u001b[0m     \u001b[38;5;28;01mif\u001b[39;00m \u001b[38;5;28mlen\u001b[39m(invalid) \u001b[38;5;241m>\u001b[39m \u001b[38;5;241m0\u001b[39m:\n\u001b[0;32m--> 229\u001b[0m         \u001b[38;5;28;01mraise\u001b[39;00m GeometryError(\n\u001b[1;32m    230\u001b[0m             \u001b[38;5;124m\"\u001b[39m\u001b[38;5;124mInvalid geometries at rows \u001b[39m\u001b[38;5;132;01m{}\u001b[39;00m\u001b[38;5;124m before \u001b[39m\u001b[38;5;124m\"\u001b[39m\n\u001b[1;32m    231\u001b[0m             \u001b[38;5;124m\"\u001b[39m\u001b[38;5;124mreprojection. Consider repairing the affected geometries with \u001b[39m\u001b[38;5;124m\"\u001b[39m\n\u001b[1;32m    232\u001b[0m             \u001b[38;5;124m\"\u001b[39m\u001b[38;5;124m`.buffer(0)`, or pass `ignore_errors=True` to attempt to create \u001b[39m\u001b[38;5;124m\"\u001b[39m\n\u001b[1;32m    233\u001b[0m             \u001b[38;5;124m\"\u001b[39m\u001b[38;5;124mthe graph anyways.\u001b[39m\u001b[38;5;124m\"\u001b[39m\u001b[38;5;241m.\u001b[39mformat(invalid)\n\u001b[1;32m    234\u001b[0m         )\n\u001b[1;32m    236\u001b[0m \u001b[38;5;66;03m# Project the dataframe to an appropriate UTM projection unless\u001b[39;00m\n\u001b[1;32m    237\u001b[0m \u001b[38;5;66;03m# explicitly told not to.\u001b[39;00m\n\u001b[1;32m    238\u001b[0m \u001b[38;5;28;01mif\u001b[39;00m reproject:\n",
      "\u001b[0;31mGeometryError\u001b[0m: Invalid geometries at rows [6678] before reprojection. Consider repairing the affected geometries with `.buffer(0)`, or pass `ignore_errors=True` to attempt to create the graph anyways."
     ]
    }
   ],
   "source": [
    "import matplotlib.pyplot as plt\n",
    "import networkx as nx\n",
    "from gerrychain import Graph, Partition, proposals, updaters, constraints, accept, MarkovChain, Election\n",
    "from gerrychain.updaters import cut_edges, Tally\n",
    "from gerrychain.proposals import recom\n",
    "from gerrychain.accept import always_accept\n",
    "from functools import partial\n",
    "import time\n",
    "from gerrychain.tree import bipartition_tree\n",
    "\n",
    "\n",
    "ct_file = gpd.read_file(\"./WI_DATA/WI.shp\") # reads a file from ct directory\n",
    "ct_graph = Graph.from_geodataframe(ct_file) # creates a graph from a geodataframe\n",
    "print(ct_graph.nodes()[0]) # Prints out the attributes of each node in the graph\n",
    "tot_pop = sum([ct_graph.nodes()[v]['TOTPOP'] for v in ct_graph.nodes() if not pd.isna(ct_graph.nodes()[v]['TOTPOP'])]) # gets the total population for ideal population calculation if the values are numbers\n",
    "print(tot_pop)\n",
    "\n",
    "\n",
    "ct_partition = Partition( # creates a partition for the IL graph\n",
    "    ct_graph, # dual graph\n",
    "    assignment = \"CD\", # initial districting plan\n",
    "    updaters={\n",
    "    \"our cut edges\": cut_edges, # number of cut edges in a graph\n",
    "    \"district population\": Tally(\"TOTPOP\", alias = \"district population\"), # across districts, total population \n",
    "    \"hispanic population\": Tally(\"HISP\", alias = \"hispanic population\"), # across districts, hispanic population \n",
    "    \"democratic votes\": Tally(\"G20PRED\", alias = \"democratic votes\"), # across districts, number of democratic votes\n",
    "    \"republican votes\": Tally(\"G20PRER\", alias = \"republican votes\"), # across districts, number of republican votes\n",
    "})\n",
    "print(ct_partition[\"district population\"]) # Prints the population for each district\n",
    "print(ct_partition[\"democratic votes\"]) # prints the number of democratic votes for each district\n",
    "print(ct_partition[\"republican votes\"]) # prints the number of republican votes for each district\n",
    "ideal_pop = tot_pop/5 # calculates the ideal population \n",
    "pop_tolerance = 0.05 # population tolerance for the proposal\n",
    "print(ideal_pop)\n",
    "\n",
    "# found this code in gerrychain_intro_complete-2.ipynb\n",
    "start_time = time.time()\n",
    "rw_proposal = partial(recom, ## how you choose a next districting plan\n",
    "                      pop_col = \"TOTPOP\", ## What data describes population? \n",
    "                      pop_target = ideal_pop, ## What the target/ideal population is for each district \n",
    "                                              ## (we calculated ideal pop above)\n",
    "                      epsilon = pop_tolerance,  ## how far from ideal population you can deviate\n",
    "                                              ## (we set pop_tolerance above)\n",
    "                      node_repeats = 100, ## number of times to repeat bipartition.  Can increase if you get a BipartitionWarning\n",
    "                    #   allow_pair_reselection=True,\n",
    "                        method = partial(\n",
    "                        bipartition_tree,\n",
    "                        max_attempts=100,\n",
    "                        allow_pair_reselection=True  # <-- This is the only change\n",
    "    )\n",
    "                      )\n",
    "population_constraint = constraints.within_percent_of_ideal_population(\n",
    "    ct_partition, \n",
    "    pop_tolerance, \n",
    "    pop_key=\"district population\")\n",
    "\n",
    "random_walk_10 = MarkovChain( # random walk for 10000 steps\n",
    "    proposal = rw_proposal, \n",
    "    constraints = [population_constraint], # Could add additional constraints here\n",
    "    accept = always_accept, # Accept every proposed plan that meets the population constraints\n",
    "    initial_state = ct_partition, \n",
    "    total_steps = 10)\n",
    "\n",
    "cutedge_ensemble_10 = [] ## Cut edge ensemble for Markov Chain with 10000 steps\n",
    "hisp_maj_ensemble_10 = [] ## Hisp majority ensemble for Markov Chain with 10000 steps\n",
    "dem_maj_ensemble_10 = [] ## Dem majority ensemble for Markov Chain with 10000 steps\n",
    "\n",
    "for j, part in enumerate(random_walk_10):\n",
    "    print(j)\n",
    "    # Add cutedges to cutedges ensemble\n",
    "    cutedge_ensemble_10.append(len(part[\"our cut edges\"]))\n",
    "    # Calculate number of hisp-majority and dem-majority districts \n",
    "    # Add to ensemble\n",
    "    num_maj_hisp = 0\n",
    "    num_maj_dem = 0\n",
    "    \n",
    "    for i in range(0,8):\n",
    "        district = str(i)\n",
    "        b_perc = part[\"hispanic population\"][district] / part[\"district population\"][district] # calculation for hispanic population \n",
    "        dem_perc = part[\"democratic votes\"][district] / (part[\"democratic votes\"][district] + part[\"republican votes\"][district]) # calculation for democratic vote share\n",
    "        if dem_perc >= 0.5: # if majority democratic\n",
    "            num_maj_dem = num_maj_dem + 1\n",
    "        if b_perc >= 0.5: # if majority hispanic\n",
    "            num_maj_hisp = num_maj_hisp + 1\n",
    "    hisp_maj_ensemble_10.append(num_maj_hisp)\n",
    "    dem_maj_ensemble_10.append(num_maj_dem)\n",
    "end_time = time.time()\n",
    "\n",
    "print(\"The time of execution of above program is :\",\n",
    "      (end_time-start_time)/60, \"mins\")"
   ]
  },
  {
   "cell_type": "code",
   "execution_count": null,
   "metadata": {},
   "outputs": [],
   "source": [
    "print(cutedge_ensemble_10)\n",
    "print(dem_maj_ensemble_10)\n",
    "print(hisp_maj_ensemble_10)"
   ]
  }
 ],
 "metadata": {
  "kernelspec": {
   "display_name": "gerry",
   "language": "python",
   "name": "python3"
  },
  "language_info": {
   "codemirror_mode": {
    "name": "ipython",
    "version": 3
   },
   "file_extension": ".py",
   "mimetype": "text/x-python",
   "name": "python",
   "nbconvert_exporter": "python",
   "pygments_lexer": "ipython3",
   "version": "3.11.4"
  }
 },
 "nbformat": 4,
 "nbformat_minor": 4
}
