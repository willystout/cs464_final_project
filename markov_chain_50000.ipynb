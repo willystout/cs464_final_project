{
 "cells": [
  {
   "cell_type": "code",
   "execution_count": 1,
   "id": "e286365a",
   "metadata": {},
   "outputs": [],
   "source": [
    "import pandas as pd\n",
    "import geopandas as gpd\n",
    "import maup\n",
    "from maup import smart_repair\n",
    "import time\n",
    "import os\n",
    "import matplotlib.pyplot as plt\n",
    "import networkx as nx\n",
    "from gerrychain import Graph, Partition, proposals, updaters, constraints, accept, MarkovChain, Election\n",
    "from gerrychain.updaters import cut_edges, Tally\n",
    "from gerrychain.proposals import recom\n",
    "from gerrychain.accept import always_accept\n",
    "from functools import partial\n",
    "import time\n",
    "from gerrychain.tree import bipartition_tree"
   ]
  },
  {
   "cell_type": "code",
   "execution_count": 2,
   "id": "774219ee",
   "metadata": {},
   "outputs": [
    {
     "name": "stderr",
     "output_type": "stream",
     "text": [
      "/Users/williamstout/miniconda3/envs/gerry/lib/python3.11/site-packages/gerrychain/graph/graph.py:406: UserWarning: Found islands (degree-0 nodes). Indices of islands: {1220, 5148}\n",
      "  warnings.warn(\n"
     ]
    },
    {
     "name": "stdout",
     "output_type": "stream",
     "text": [
      "{'boundary_node': False, 'area': 664968.208542657, 'CNTY_FIPS': '55035', 'CNTY_NAME': 'EAU CLAIRE', 'MCD_FIPS': '5503522300', 'MCD_NAME': 'EAU CLAIRE', 'CTV': 'C', 'WARDID': '0060', 'LABEL': 'EAU CLAIRE - C 0060', 'PERSONS': 12, 'RV': 0, 'G20PRED': 0, 'G20PRER': 0, 'TOTPOP': 4.0, 'HISP': 0.0, 'NH_WHITE': 0.0, 'NH_BLACK': 1.0, 'NH_AMIN': 0.0, 'NH_ASIAN': 0.0, 'NH_NHPI': 0.0, 'NH_OTHER': 0.0, 'NH_2MORE': 3.0, 'CD': '3', 'G18USSR': 0.0, 'G18USSD': 0.0, 'G18GOVR': 0.0, 'G18GOVD': 0.0, 'G18ATGR': 0.0, 'G18ATGD': 0.0, 'G18SOSR': 0.0, 'G18SOSD': 0.0, 'G18TRER': 0.0, 'G18TRED': 0.0, 'geometry': <POLYGON ((139292.952 4974890.501, 139269.277 4974487.775, 139622.622 497446...>}\n",
      "5893718.0\n"
     ]
    }
   ],
   "source": [
    "wi_file = gpd.read_file(\"./WI_DATA/WI.shp\") # reads a file from WI_DATA directory\n",
    "wi_graph = Graph.from_geodataframe(wi_file) # creates a graph from a geodataframe\n",
    "print(wi_graph.nodes()[0]) # Prints out the attributes of each node in the graph\n",
    "tot_pop = sum([wi_graph.nodes()[v]['TOTPOP'] for v in wi_graph.nodes()]) # gets the total population for ideal population calculation if the values are numbers\n",
    "print(tot_pop)"
   ]
  },
  {
   "cell_type": "code",
   "execution_count": 3,
   "id": "eecba7ff",
   "metadata": {},
   "outputs": [],
   "source": [
    "elections = [Election(\"G20PRE\", {\"Presidential Democratic\": \"G20PRED\", \"Presidential Republican\": \"G20PRER\"}),\n",
    "             Election(\"GOV18\", {\"Governor Democratic\": \"G18GOVD\", \"Governor Republican\": \"G18GOVR\"}),\n",
    "             ]"
   ]
  },
  {
   "cell_type": "code",
   "execution_count": 4,
   "id": "6bf487a8",
   "metadata": {},
   "outputs": [
    {
     "name": "stdout",
     "output_type": "stream",
     "text": [
      "{'3': 736959.0, '2': 736822.0, '6': 736545.0, '4': 736395.0, '1': 736286.0, '8': 736833.0, '7': 736572.0, '5': 737306.0}\n",
      "736714.75\n"
     ]
    }
   ],
   "source": [
    "my_updaters = {\n",
    "    \"our cut edges\": cut_edges, # number of cut edges in a graph\n",
    "    \"district population\": Tally(\"TOTPOP\", alias = \"district population\"), # across districts, total population\n",
    "}\n",
    "election_updaters = {election.name: election for election in elections}\n",
    "my_updaters.update(election_updaters)\n",
    "ct_partition = Partition( # creates a partition for the IL graph\n",
    "    wi_graph, # dual graph\n",
    "    assignment = \"CD\", # initial districting plan\n",
    "    updaters=my_updaters)\n",
    "print(ct_partition[\"district population\"]) # Prints the population for each district\n",
    "ideal_pop = tot_pop/8 # calculates the ideal population \n",
    "pop_tolerance = 0.05 # population tolerance for the proposal\n",
    "print(ideal_pop)"
   ]
  },
  {
   "cell_type": "code",
   "execution_count": 5,
   "id": "6d739180",
   "metadata": {},
   "outputs": [],
   "source": [
    "rw_proposal = partial(recom, ## how you choose a next districting plan\n",
    "                      pop_col = \"TOTPOP\", ## What data describes population? \n",
    "                      pop_target = ideal_pop, ## What the target/ideal population is for each district \n",
    "                                              ## (we calculated ideal pop above)\n",
    "                      epsilon = pop_tolerance,  ## how far from ideal population you can deviate\n",
    "                                              ## (we set pop_tolerance above)\n",
    "                      node_repeats = 100, ## number of times to repeat bipartition.  Can increase if you get a BipartitionWarning\n",
    "                    #   allow_pair_reselection=True,\n",
    "                        method = partial(\n",
    "                        bipartition_tree,\n",
    "                        max_attempts=100,\n",
    "                        allow_pair_reselection=True  # <-- This is the only change\n",
    "    )\n",
    "                      )\n",
    "population_constraint = constraints.within_percent_of_ideal_population(\n",
    "    ct_partition, \n",
    "    pop_tolerance, \n",
    "    pop_key=\"district population\")"
   ]
  },
  {
   "cell_type": "code",
   "execution_count": null,
   "id": "6a2fcfe9",
   "metadata": {},
   "outputs": [
    {
     "name": "stdout",
     "output_type": "stream",
     "text": [
      "The time of execution of above program is : 0.035139016310373944 mins\n"
     ]
    }
   ],
   "source": [
    "# found this code in gerrychain_intro_complete-2.ipynb\n",
    "start_time = time.time()\n",
    "random_walk = MarkovChain( # random walk for 50000 steps\n",
    "    proposal = rw_proposal, \n",
    "    constraints = [population_constraint], # Could add additional constraints here\n",
    "    accept = always_accept, # Accept every proposed plan that meets the population constraints\n",
    "    initial_state = ct_partition, \n",
    "    total_steps = 50000)\n",
    "\n",
    "final_df = pd.DataFrame([])\n",
    "\n",
    "for step, part in enumerate(random_walk):\n",
    "    if(step != 0 and step % 10000 == 0):\n",
    "        print(\"At Step: \", step, \"Time: \", (time.time() - start_time)/60)\n",
    "    final_df.at[step, \"Cut Edges\"] = len(part[\"our cut edges\"]) ## Cut edge ensemble\n",
    "    final_df.at[step, \"Presidential Democratic Districts\"] = part[\"G20PRE\"].seats(\"Presidential Democratic\") ## Democratic Districts ensemble\n",
    "    final_df.at[step, \"Presidential Republican Districts\"] = part[\"G20PRE\"].seats(\"Presidential Republican\") ## Republican Districts ensemble\n",
    "    final_df.at[step, \"Presidential Efficiency Gap\"] = part[\"G20PRE\"].efficiency_gap() ## Efficiency Gap ensemble\n",
    "    final_df.at[step, \"Governor Democratic Districts\"] = part[\"GOV18\"].seats(\"Governor Democratic\") ## Democratic Districts ensemble\n",
    "    final_df.at[step, \"Governor Republican Districts\"] = part[\"GOV18\"].seats(\"Governor Republican\") ## Republican Districts ensemble\n",
    "    final_df.at[step, \"Governor Efficiency Gap\"] = part[\"GOV18\"].efficiency_gap() ## Efficiency Gap ensemble\n",
    "\n",
    "end_time = time.time()\n",
    "\n",
    "print(\"The time of execution of above program is :\",\n",
    "      (end_time-start_time)/60, \"mins\")\n",
    "\n",
    "final_df.to_csv('markov_chain_ensemble_results50000.csv', index=False)"
   ]
  },
  {
   "cell_type": "code",
   "execution_count": null,
   "id": "d1a886ff",
   "metadata": {},
   "outputs": [
    {
     "name": "stdout",
     "output_type": "stream",
     "text": [
      "0    672.0\n",
      "1    698.0\n",
      "2    655.0\n",
      "3    653.0\n",
      "4    668.0\n",
      "5    694.0\n",
      "6    691.0\n",
      "7    695.0\n",
      "8    691.0\n",
      "9    691.0\n",
      "Name: Cut Edges, dtype: float64\n",
      "0    2.0\n",
      "1    2.0\n",
      "2    2.0\n",
      "3    2.0\n",
      "4    2.0\n",
      "5    2.0\n",
      "6    2.0\n",
      "7    2.0\n",
      "8    2.0\n",
      "9    2.0\n",
      "Name: Presidential Democratic Districts, dtype: float64\n",
      "0    6.0\n",
      "1    6.0\n",
      "2    6.0\n",
      "3    6.0\n",
      "4    6.0\n",
      "5    6.0\n",
      "6    6.0\n",
      "7    6.0\n",
      "8    6.0\n",
      "9    6.0\n",
      "Name: Presidential Republican Districts, dtype: float64\n",
      "0   -0.267221\n",
      "1   -0.267221\n",
      "2   -0.267221\n",
      "3   -0.267672\n",
      "4   -0.270328\n",
      "5   -0.270328\n",
      "6   -0.275867\n",
      "7   -0.275867\n",
      "8   -0.276147\n",
      "9   -0.276147\n",
      "Name: Presidential Efficiency Gap, dtype: float64\n",
      "0    3.0\n",
      "1    3.0\n",
      "2    2.0\n",
      "3    2.0\n",
      "4    2.0\n",
      "5    2.0\n",
      "6    2.0\n",
      "7    2.0\n",
      "8    2.0\n",
      "9    2.0\n",
      "Name: Governor Democratic Districts, dtype: float64\n",
      "0    5.0\n",
      "1    5.0\n",
      "2    6.0\n",
      "3    6.0\n",
      "4    6.0\n",
      "5    6.0\n",
      "6    6.0\n",
      "7    6.0\n",
      "8    6.0\n",
      "9    6.0\n",
      "Name: Governor Republican Districts, dtype: float64\n",
      "0   -0.140447\n",
      "1   -0.140447\n",
      "2   -0.259437\n",
      "3   -0.260343\n",
      "4   -0.262967\n",
      "5   -0.262967\n",
      "6   -0.268270\n",
      "7   -0.268270\n",
      "8   -0.268579\n",
      "9   -0.268579\n",
      "Name: Governor Efficiency Gap, dtype: float64\n"
     ]
    }
   ],
   "source": [
    "print(final_df[\"Cut Edges\"])\n",
    "print(final_df[\"Presidential Democratic Districts\"])\n",
    "print(final_df[\"Presidential Republican Districts\"])\n",
    "print(final_df[\"Presidential Efficiency Gap\"])\n",
    "print(final_df[\"Governor Democratic Districts\"])\n",
    "print(final_df[\"Governor Republican Districts\"])\n",
    "print(final_df[\"Governor Efficiency Gap\"])"
   ]
  },
  {
   "cell_type": "code",
   "execution_count": 8,
   "id": "1fdd3eea",
   "metadata": {},
   "outputs": [
    {
     "data": {
      "image/png": "[encoded data removed]",
      "text/plain": [
       "<Figure size 640x480 with 1 Axes>"
      ]
     },
     "metadata": {},
     "output_type": "display_data"
    }
   ],
   "source": [
    "plt.figure()\n",
    "plt.hist(final_df[\"Cut Edges\"], align = 'left')\n",
    "plt.show()"
   ]
  },
  {
   "cell_type": "code",
   "execution_count": null,
   "id": "d48dfb14",
   "metadata": {},
   "outputs": [],
   "source": []
  }
 ],
 "metadata": {
  "kernelspec": {
   "display_name": "gerry",
   "language": "python",
   "name": "python3"
  },
  "language_info": {
   "codemirror_mode": {
    "name": "ipython",
    "version": 3
   },
   "file_extension": ".py",
   "mimetype": "text/x-python",
   "name": "python",
   "nbconvert_exporter": "python",
   "pygments_lexer": "ipython3",
   "version": "3.11.4"
  }
 },
 "nbformat": 4,
 "nbformat_minor": 5
}
