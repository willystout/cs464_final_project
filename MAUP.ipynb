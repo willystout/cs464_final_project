{
 "cells": [
  {
   "cell_type": "markdown",
   "metadata": {},
   "source": [
    "@author: willystout"
   ]
  },
  {
   "cell_type": "markdown",
   "metadata": {},
   "source": [
    "VEST 2020 Wisconsin precinct and election results: https://redistrictingdatahub.org/dataset/vest-2020-wisconsin-precinct-and-election-results/ \n",
    "\n",
    "Wisconsin block PL 94-171 2020 (by table): https://redistrictingdatahub.org/dataset/wisconsin-block-pl-94171-2020-by-table/\n",
    "\n",
    "Wisconsin county PL 94-171 2020: https://redistrictingdatahub.org/dataset/wisconsin-county-pl-94171-2020/\n",
    "\n",
    "2022 Wisconsin Congressional Districts Approved Plan: https://redistrictingdatahub.org/dataset/2022-wisconsin-congressional-districts-approved-plan/\n",
    "\n",
    "VEST 2018 Wisconsin precinct and election results: https://redistrictingdatahub.org/dataset/vest-2018-wisconsin-precinct-and-election-results/ "
   ]
  },
  {
   "cell_type": "code",
   "execution_count": 30,
   "metadata": {},
   "outputs": [],
   "source": [
    "import pandas as pd\n",
    "import geopandas as gpd\n",
    "import maup\n",
    "from maup import smart_repair\n",
    "import time\n",
    "import os\n",
    "\n",
    "maup.progress.enabled = True"
   ]
  },
  {
   "cell_type": "code",
   "execution_count": 31,
   "metadata": {},
   "outputs": [],
   "source": [
    "import warnings\n",
    "warnings.filterwarnings('ignore')"
   ]
  },
  {
   "cell_type": "code",
   "execution_count": 32,
   "metadata": {},
   "outputs": [],
   "source": [
    "maup.progress.enabled = True"
   ]
  },
  {
   "cell_type": "code",
   "execution_count": 33,
   "metadata": {},
   "outputs": [
    {
     "name": "stdout",
     "output_type": "stream",
     "text": [
      "The time to import wi_pl2020_p1_b.shp is: 0.4873720645904541 mins\n"
     ]
    }
   ],
   "source": [
    "start_time = time.time()\n",
    "population_df = gpd.read_file(\"./WI/wi_pl2020_b/wi_pl2020_p2_b.shp\")\n",
    "end_time = time.time()\n",
    "print(\"The time to import wi_pl2020_p1_b.shp is:\",\n",
    "      (end_time-start_time)/60, \"mins\")"
   ]
  },
  {
   "cell_type": "code",
   "execution_count": 34,
   "metadata": {},
   "outputs": [
    {
     "name": "stdout",
     "output_type": "stream",
     "text": [
      "The time to import wi_pl2020_cnty.shp is: 0.0013516505559285482 mins\n"
     ]
    }
   ],
   "source": [
    "start_time = time.time()\n",
    "county_df = gpd.read_file(\"./WI/wi_pl2020_cnty/wi_pl2020_cnty.shp\")\n",
    "end_time = time.time()\n",
    "print(\"The time to import wi_pl2020_cnty.shp is:\",\n",
    "      (end_time-start_time)/60, \"mins\")"
   ]
  },
  {
   "cell_type": "code",
   "execution_count": 35,
   "metadata": {},
   "outputs": [
    {
     "name": "stdout",
     "output_type": "stream",
     "text": [
      "The time to import wi_vest_20.shp is: 0.024060916900634766 mins\n"
     ]
    }
   ],
   "source": [
    "start_time = time.time()\n",
    "vest20_df = gpd.read_file(\"./WI/wi_vest_20/wi_vest_20.shp\")\n",
    "end_time = time.time()\n",
    "print(\"The time to import wi_vest_20.shp is:\",\n",
    "      (end_time-start_time)/60, \"mins\")"
   ]
  },
  {
   "cell_type": "code",
   "execution_count": 36,
   "metadata": {},
   "outputs": [
    {
     "name": "stdout",
     "output_type": "stream",
     "text": [
      "The time to import wi_cong_adopted_2022/POLYGON.shp is: 0.00022010008494059244 mins\n"
     ]
    }
   ],
   "source": [
    "start_time = time.time()\n",
    "cong_df = gpd.read_file(\"./WI/wi_cong_adopted_2022/POLYGON.shp\")\n",
    "end_time = time.time()\n",
    "print(\"The time to import wi_cong_adopted_2022/POLYGON.shp is:\",\n",
    "      (end_time-start_time)/60, \"mins\")"
   ]
  },
  {
   "cell_type": "code",
   "execution_count": 37,
   "metadata": {},
   "outputs": [
    {
     "name": "stdout",
     "output_type": "stream",
     "text": [
      "The time to import wi_vest_18.shp is: 0.02608060042063395 mins\n"
     ]
    }
   ],
   "source": [
    "start_time = time.time()\n",
    "vest18_df = gpd.read_file(\"./WI/wi_vest_18/wi_vest_18.shp\")\n",
    "end_time = time.time()\n",
    "print(\"The time to import wi_vest_18.shp is:\",\n",
    "      (end_time-start_time)/60, \"mins\")"
   ]
  },
  {
   "cell_type": "code",
   "execution_count": 38,
   "metadata": {},
   "outputs": [],
   "source": [
    "population_df = population_df.to_crs(population_df.estimate_utm_crs())\n",
    "county_df = county_df.to_crs(county_df.estimate_utm_crs())\n",
    "vest20_df = vest20_df.to_crs(vest20_df.estimate_utm_crs())\n",
    "cong_df = cong_df.to_crs(cong_df.estimate_utm_crs())\n",
    "vest18_df = vest18_df.to_crs(vest18_df.estimate_utm_crs())"
   ]
  },
  {
   "cell_type": "code",
   "execution_count": 39,
   "metadata": {},
   "outputs": [
    {
     "data": {
      "text/html": [
       "<div>\n",
       "<style scoped>\n",
       "    .dataframe tbody tr th:only-of-type {\n",
       "        vertical-align: middle;\n",
       "    }\n",
       "\n",
       "    .dataframe tbody tr th {\n",
       "        vertical-align: top;\n",
       "    }\n",
       "\n",
       "    .dataframe thead th {\n",
       "        text-align: right;\n",
       "    }\n",
       "</style>\n",
       "<table border=\"1\" class=\"dataframe\">\n",
       "  <thead>\n",
       "    <tr style=\"text-align: right;\">\n",
       "      <th></th>\n",
       "      <th>GEOID20</th>\n",
       "      <th>SUMLEV</th>\n",
       "      <th>LOGRECNO</th>\n",
       "      <th>GEOID</th>\n",
       "      <th>COUNTY</th>\n",
       "      <th>P0020001</th>\n",
       "      <th>P0020002</th>\n",
       "      <th>P0020003</th>\n",
       "      <th>P0020004</th>\n",
       "      <th>P0020005</th>\n",
       "      <th>...</th>\n",
       "      <th>P0020065</th>\n",
       "      <th>P0020066</th>\n",
       "      <th>P0020067</th>\n",
       "      <th>P0020068</th>\n",
       "      <th>P0020069</th>\n",
       "      <th>P0020070</th>\n",
       "      <th>P0020071</th>\n",
       "      <th>P0020072</th>\n",
       "      <th>P0020073</th>\n",
       "      <th>geometry</th>\n",
       "    </tr>\n",
       "  </thead>\n",
       "  <tbody>\n",
       "    <tr>\n",
       "      <th>0</th>\n",
       "      <td>550999704001040</td>\n",
       "      <td>750</td>\n",
       "      <td>0282395</td>\n",
       "      <td>7500000US550999704001040</td>\n",
       "      <td>099</td>\n",
       "      <td>0</td>\n",
       "      <td>0</td>\n",
       "      <td>0</td>\n",
       "      <td>0</td>\n",
       "      <td>0</td>\n",
       "      <td>...</td>\n",
       "      <td>0</td>\n",
       "      <td>0</td>\n",
       "      <td>0</td>\n",
       "      <td>0</td>\n",
       "      <td>0</td>\n",
       "      <td>0</td>\n",
       "      <td>0</td>\n",
       "      <td>0</td>\n",
       "      <td>0</td>\n",
       "      <td>POLYGON ((218468.619 5067521.851, 218473.825 5...</td>\n",
       "    </tr>\n",
       "    <tr>\n",
       "      <th>1</th>\n",
       "      <td>550999706002032</td>\n",
       "      <td>750</td>\n",
       "      <td>0282833</td>\n",
       "      <td>7500000US550999706002032</td>\n",
       "      <td>099</td>\n",
       "      <td>24</td>\n",
       "      <td>0</td>\n",
       "      <td>24</td>\n",
       "      <td>22</td>\n",
       "      <td>21</td>\n",
       "      <td>...</td>\n",
       "      <td>0</td>\n",
       "      <td>0</td>\n",
       "      <td>0</td>\n",
       "      <td>0</td>\n",
       "      <td>0</td>\n",
       "      <td>0</td>\n",
       "      <td>0</td>\n",
       "      <td>0</td>\n",
       "      <td>0</td>\n",
       "      <td>POLYGON ((225297.184 5059406.511, 225302.985 5...</td>\n",
       "    </tr>\n",
       "    <tr>\n",
       "      <th>2</th>\n",
       "      <td>550999701003089</td>\n",
       "      <td>750</td>\n",
       "      <td>0282192</td>\n",
       "      <td>7500000US550999701003089</td>\n",
       "      <td>099</td>\n",
       "      <td>0</td>\n",
       "      <td>0</td>\n",
       "      <td>0</td>\n",
       "      <td>0</td>\n",
       "      <td>0</td>\n",
       "      <td>...</td>\n",
       "      <td>0</td>\n",
       "      <td>0</td>\n",
       "      <td>0</td>\n",
       "      <td>0</td>\n",
       "      <td>0</td>\n",
       "      <td>0</td>\n",
       "      <td>0</td>\n",
       "      <td>0</td>\n",
       "      <td>0</td>\n",
       "      <td>POLYGON ((253782.771 5075146.308, 253812.749 5...</td>\n",
       "    </tr>\n",
       "    <tr>\n",
       "      <th>3</th>\n",
       "      <td>550999701003105</td>\n",
       "      <td>750</td>\n",
       "      <td>0282208</td>\n",
       "      <td>7500000US550999701003105</td>\n",
       "      <td>099</td>\n",
       "      <td>0</td>\n",
       "      <td>0</td>\n",
       "      <td>0</td>\n",
       "      <td>0</td>\n",
       "      <td>0</td>\n",
       "      <td>...</td>\n",
       "      <td>0</td>\n",
       "      <td>0</td>\n",
       "      <td>0</td>\n",
       "      <td>0</td>\n",
       "      <td>0</td>\n",
       "      <td>0</td>\n",
       "      <td>0</td>\n",
       "      <td>0</td>\n",
       "      <td>0</td>\n",
       "      <td>POLYGON ((250355.075 5072172.015, 250374.005 5...</td>\n",
       "    </tr>\n",
       "    <tr>\n",
       "      <th>4</th>\n",
       "      <td>550999707001024</td>\n",
       "      <td>750</td>\n",
       "      <td>0283023</td>\n",
       "      <td>7500000US550999707001024</td>\n",
       "      <td>099</td>\n",
       "      <td>8</td>\n",
       "      <td>0</td>\n",
       "      <td>8</td>\n",
       "      <td>5</td>\n",
       "      <td>5</td>\n",
       "      <td>...</td>\n",
       "      <td>0</td>\n",
       "      <td>0</td>\n",
       "      <td>0</td>\n",
       "      <td>0</td>\n",
       "      <td>0</td>\n",
       "      <td>0</td>\n",
       "      <td>0</td>\n",
       "      <td>0</td>\n",
       "      <td>0</td>\n",
       "      <td>POLYGON ((243111.821 5048902.330, 243113.107 5...</td>\n",
       "    </tr>\n",
       "  </tbody>\n",
       "</table>\n",
       "<p>5 rows × 79 columns</p>\n",
       "</div>"
      ],
      "text/plain": [
       "           GEOID20 SUMLEV LOGRECNO                     GEOID COUNTY  P0020001  \\\n",
       "0  550999704001040    750  0282395  7500000US550999704001040    099         0   \n",
       "1  550999706002032    750  0282833  7500000US550999706002032    099        24   \n",
       "2  550999701003089    750  0282192  7500000US550999701003089    099         0   \n",
       "3  550999701003105    750  0282208  7500000US550999701003105    099         0   \n",
       "4  550999707001024    750  0283023  7500000US550999707001024    099         8   \n",
       "\n",
       "   P0020002  P0020003  P0020004  P0020005  ...  P0020065  P0020066  P0020067  \\\n",
       "0         0         0         0         0  ...         0         0         0   \n",
       "1         0        24        22        21  ...         0         0         0   \n",
       "2         0         0         0         0  ...         0         0         0   \n",
       "3         0         0         0         0  ...         0         0         0   \n",
       "4         0         8         5         5  ...         0         0         0   \n",
       "\n",
       "   P0020068  P0020069  P0020070  P0020071  P0020072  P0020073  \\\n",
       "0         0         0         0         0         0         0   \n",
       "1         0         0         0         0         0         0   \n",
       "2         0         0         0         0         0         0   \n",
       "3         0         0         0         0         0         0   \n",
       "4         0         0         0         0         0         0   \n",
       "\n",
       "                                            geometry  \n",
       "0  POLYGON ((218468.619 5067521.851, 218473.825 5...  \n",
       "1  POLYGON ((225297.184 5059406.511, 225302.985 5...  \n",
       "2  POLYGON ((253782.771 5075146.308, 253812.749 5...  \n",
       "3  POLYGON ((250355.075 5072172.015, 250374.005 5...  \n",
       "4  POLYGON ((243111.821 5048902.330, 243113.107 5...  \n",
       "\n",
       "[5 rows x 79 columns]"
      ]
     },
     "execution_count": 39,
     "metadata": {},
     "output_type": "execute_result"
    }
   ],
   "source": [
    "population_df.head()"
   ]
  },
  {
   "cell_type": "code",
   "execution_count": 40,
   "metadata": {},
   "outputs": [
    {
     "data": {
      "text/html": [
       "<div>\n",
       "<style scoped>\n",
       "    .dataframe tbody tr th:only-of-type {\n",
       "        vertical-align: middle;\n",
       "    }\n",
       "\n",
       "    .dataframe tbody tr th {\n",
       "        vertical-align: top;\n",
       "    }\n",
       "\n",
       "    .dataframe thead th {\n",
       "        text-align: right;\n",
       "    }\n",
       "</style>\n",
       "<table border=\"1\" class=\"dataframe\">\n",
       "  <thead>\n",
       "    <tr style=\"text-align: right;\">\n",
       "      <th></th>\n",
       "      <th>STATEFP20</th>\n",
       "      <th>COUNTYFP20</th>\n",
       "      <th>COUNTYNS20</th>\n",
       "      <th>GEOID20</th>\n",
       "      <th>NAME20</th>\n",
       "      <th>NAMELSAD20</th>\n",
       "      <th>LSAD20</th>\n",
       "      <th>CLASSFP20</th>\n",
       "      <th>MTFCC20</th>\n",
       "      <th>CSAFP20</th>\n",
       "      <th>...</th>\n",
       "      <th>P0050002</th>\n",
       "      <th>P0050003</th>\n",
       "      <th>P0050004</th>\n",
       "      <th>P0050005</th>\n",
       "      <th>P0050006</th>\n",
       "      <th>P0050007</th>\n",
       "      <th>P0050008</th>\n",
       "      <th>P0050009</th>\n",
       "      <th>P0050010</th>\n",
       "      <th>geometry</th>\n",
       "    </tr>\n",
       "  </thead>\n",
       "  <tbody>\n",
       "    <tr>\n",
       "      <th>0</th>\n",
       "      <td>55</td>\n",
       "      <td>095</td>\n",
       "      <td>01581108</td>\n",
       "      <td>55095</td>\n",
       "      <td>Polk</td>\n",
       "      <td>Polk County</td>\n",
       "      <td>06</td>\n",
       "      <td>H1</td>\n",
       "      <td>G4020</td>\n",
       "      <td>None</td>\n",
       "      <td>...</td>\n",
       "      <td>388</td>\n",
       "      <td>58</td>\n",
       "      <td>33</td>\n",
       "      <td>297</td>\n",
       "      <td>0</td>\n",
       "      <td>176</td>\n",
       "      <td>0</td>\n",
       "      <td>0</td>\n",
       "      <td>176</td>\n",
       "      <td>POLYGON ((55820.311 5050858.609, 55818.423 505...</td>\n",
       "    </tr>\n",
       "    <tr>\n",
       "      <th>1</th>\n",
       "      <td>55</td>\n",
       "      <td>045</td>\n",
       "      <td>01581082</td>\n",
       "      <td>55045</td>\n",
       "      <td>Green</td>\n",
       "      <td>Green County</td>\n",
       "      <td>06</td>\n",
       "      <td>H1</td>\n",
       "      <td>G4020</td>\n",
       "      <td>357</td>\n",
       "      <td>...</td>\n",
       "      <td>300</td>\n",
       "      <td>17</td>\n",
       "      <td>0</td>\n",
       "      <td>283</td>\n",
       "      <td>0</td>\n",
       "      <td>111</td>\n",
       "      <td>0</td>\n",
       "      <td>0</td>\n",
       "      <td>111</td>\n",
       "      <td>POLYGON ((267549.933 4729536.475, 267565.970 4...</td>\n",
       "    </tr>\n",
       "    <tr>\n",
       "      <th>2</th>\n",
       "      <td>55</td>\n",
       "      <td>087</td>\n",
       "      <td>01581104</td>\n",
       "      <td>55087</td>\n",
       "      <td>Outagamie</td>\n",
       "      <td>Outagamie County</td>\n",
       "      <td>06</td>\n",
       "      <td>H1</td>\n",
       "      <td>G4020</td>\n",
       "      <td>118</td>\n",
       "      <td>...</td>\n",
       "      <td>1654</td>\n",
       "      <td>434</td>\n",
       "      <td>10</td>\n",
       "      <td>1200</td>\n",
       "      <td>10</td>\n",
       "      <td>2139</td>\n",
       "      <td>1279</td>\n",
       "      <td>0</td>\n",
       "      <td>860</td>\n",
       "      <td>POLYGON ((404913.041 4908423.745, 404912.989 4...</td>\n",
       "    </tr>\n",
       "    <tr>\n",
       "      <th>3</th>\n",
       "      <td>55</td>\n",
       "      <td>001</td>\n",
       "      <td>01581060</td>\n",
       "      <td>55001</td>\n",
       "      <td>Adams</td>\n",
       "      <td>Adams County</td>\n",
       "      <td>06</td>\n",
       "      <td>H1</td>\n",
       "      <td>G4020</td>\n",
       "      <td>None</td>\n",
       "      <td>...</td>\n",
       "      <td>1110</td>\n",
       "      <td>1062</td>\n",
       "      <td>0</td>\n",
       "      <td>48</td>\n",
       "      <td>0</td>\n",
       "      <td>97</td>\n",
       "      <td>0</td>\n",
       "      <td>0</td>\n",
       "      <td>97</td>\n",
       "      <td>POLYGON ((257977.858 4883897.075, 257720.919 4...</td>\n",
       "    </tr>\n",
       "    <tr>\n",
       "      <th>4</th>\n",
       "      <td>55</td>\n",
       "      <td>119</td>\n",
       "      <td>01581119</td>\n",
       "      <td>55119</td>\n",
       "      <td>Taylor</td>\n",
       "      <td>Taylor County</td>\n",
       "      <td>06</td>\n",
       "      <td>H1</td>\n",
       "      <td>G4020</td>\n",
       "      <td>None</td>\n",
       "      <td>...</td>\n",
       "      <td>148</td>\n",
       "      <td>38</td>\n",
       "      <td>0</td>\n",
       "      <td>110</td>\n",
       "      <td>0</td>\n",
       "      <td>27</td>\n",
       "      <td>0</td>\n",
       "      <td>0</td>\n",
       "      <td>27</td>\n",
       "      <td>POLYGON ((192210.416 5022894.332, 192210.692 5...</td>\n",
       "    </tr>\n",
       "  </tbody>\n",
       "</table>\n",
       "<p>5 rows × 349 columns</p>\n",
       "</div>"
      ],
      "text/plain": [
       "  STATEFP20 COUNTYFP20 COUNTYNS20 GEOID20     NAME20        NAMELSAD20 LSAD20  \\\n",
       "0        55        095   01581108   55095       Polk       Polk County     06   \n",
       "1        55        045   01581082   55045      Green      Green County     06   \n",
       "2        55        087   01581104   55087  Outagamie  Outagamie County     06   \n",
       "3        55        001   01581060   55001      Adams      Adams County     06   \n",
       "4        55        119   01581119   55119     Taylor     Taylor County     06   \n",
       "\n",
       "  CLASSFP20 MTFCC20 CSAFP20  ... P0050002 P0050003 P0050004  P0050005  \\\n",
       "0        H1   G4020    None  ...      388       58       33       297   \n",
       "1        H1   G4020     357  ...      300       17        0       283   \n",
       "2        H1   G4020     118  ...     1654      434       10      1200   \n",
       "3        H1   G4020    None  ...     1110     1062        0        48   \n",
       "4        H1   G4020    None  ...      148       38        0       110   \n",
       "\n",
       "   P0050006 P0050007 P0050008 P0050009 P0050010  \\\n",
       "0         0      176        0        0      176   \n",
       "1         0      111        0        0      111   \n",
       "2        10     2139     1279        0      860   \n",
       "3         0       97        0        0       97   \n",
       "4         0       27        0        0       27   \n",
       "\n",
       "                                            geometry  \n",
       "0  POLYGON ((55820.311 5050858.609, 55818.423 505...  \n",
       "1  POLYGON ((267549.933 4729536.475, 267565.970 4...  \n",
       "2  POLYGON ((404913.041 4908423.745, 404912.989 4...  \n",
       "3  POLYGON ((257977.858 4883897.075, 257720.919 4...  \n",
       "4  POLYGON ((192210.416 5022894.332, 192210.692 5...  \n",
       "\n",
       "[5 rows x 349 columns]"
      ]
     },
     "execution_count": 40,
     "metadata": {},
     "output_type": "execute_result"
    }
   ],
   "source": [
    "county_df.head()"
   ]
  },
  {
   "cell_type": "code",
   "execution_count": 41,
   "metadata": {},
   "outputs": [
    {
     "data": {
      "text/html": [
       "<div>\n",
       "<style scoped>\n",
       "    .dataframe tbody tr th:only-of-type {\n",
       "        vertical-align: middle;\n",
       "    }\n",
       "\n",
       "    .dataframe tbody tr th {\n",
       "        vertical-align: top;\n",
       "    }\n",
       "\n",
       "    .dataframe thead th {\n",
       "        text-align: right;\n",
       "    }\n",
       "</style>\n",
       "<table border=\"1\" class=\"dataframe\">\n",
       "  <thead>\n",
       "    <tr style=\"text-align: right;\">\n",
       "      <th></th>\n",
       "      <th>CNTY_FIPS</th>\n",
       "      <th>CNTY_NAME</th>\n",
       "      <th>MCD_FIPS</th>\n",
       "      <th>MCD_NAME</th>\n",
       "      <th>CTV</th>\n",
       "      <th>WARDID</th>\n",
       "      <th>LABEL</th>\n",
       "      <th>PERSONS</th>\n",
       "      <th>RV</th>\n",
       "      <th>G20PREDBID</th>\n",
       "      <th>...</th>\n",
       "      <th>G20PREICAR</th>\n",
       "      <th>G20PREOWEL</th>\n",
       "      <th>G20PREOSIM</th>\n",
       "      <th>G20PREOBOD</th>\n",
       "      <th>G20PREOHAW</th>\n",
       "      <th>G20PREOLAR</th>\n",
       "      <th>G20PREOWES</th>\n",
       "      <th>G20PREOCHA</th>\n",
       "      <th>G20PREOWRI</th>\n",
       "      <th>geometry</th>\n",
       "    </tr>\n",
       "  </thead>\n",
       "  <tbody>\n",
       "    <tr>\n",
       "      <th>0</th>\n",
       "      <td>55035</td>\n",
       "      <td>EAU CLAIRE</td>\n",
       "      <td>5503522300</td>\n",
       "      <td>EAU CLAIRE</td>\n",
       "      <td>C</td>\n",
       "      <td>0060</td>\n",
       "      <td>EAU CLAIRE - C 0060</td>\n",
       "      <td>12</td>\n",
       "      <td>0</td>\n",
       "      <td>0</td>\n",
       "      <td>...</td>\n",
       "      <td>0</td>\n",
       "      <td>0</td>\n",
       "      <td>0</td>\n",
       "      <td>0</td>\n",
       "      <td>0</td>\n",
       "      <td>0</td>\n",
       "      <td>0</td>\n",
       "      <td>0</td>\n",
       "      <td>0</td>\n",
       "      <td>POLYGON ((139292.953 4974890.501, 139269.277 4...</td>\n",
       "    </tr>\n",
       "    <tr>\n",
       "      <th>1</th>\n",
       "      <td>55035</td>\n",
       "      <td>EAU CLAIRE</td>\n",
       "      <td>5503522300</td>\n",
       "      <td>EAU CLAIRE</td>\n",
       "      <td>C</td>\n",
       "      <td>0059</td>\n",
       "      <td>EAU CLAIRE - C 0059</td>\n",
       "      <td>0</td>\n",
       "      <td>0</td>\n",
       "      <td>0</td>\n",
       "      <td>...</td>\n",
       "      <td>0</td>\n",
       "      <td>0</td>\n",
       "      <td>0</td>\n",
       "      <td>0</td>\n",
       "      <td>0</td>\n",
       "      <td>0</td>\n",
       "      <td>0</td>\n",
       "      <td>0</td>\n",
       "      <td>0</td>\n",
       "      <td>POLYGON ((144305.023 4968892.880, 144316.453 4...</td>\n",
       "    </tr>\n",
       "    <tr>\n",
       "      <th>2</th>\n",
       "      <td>55043</td>\n",
       "      <td>GRANT</td>\n",
       "      <td>5504363250</td>\n",
       "      <td>PLATTEVILLE</td>\n",
       "      <td>C</td>\n",
       "      <td>0002</td>\n",
       "      <td>PLATTEVILLE - C 0002</td>\n",
       "      <td>1371</td>\n",
       "      <td>942</td>\n",
       "      <td>489</td>\n",
       "      <td>...</td>\n",
       "      <td>1</td>\n",
       "      <td>0</td>\n",
       "      <td>0</td>\n",
       "      <td>0</td>\n",
       "      <td>0</td>\n",
       "      <td>0</td>\n",
       "      <td>0</td>\n",
       "      <td>0</td>\n",
       "      <td>3</td>\n",
       "      <td>POLYGON ((215528.402 4738670.405, 215527.606 4...</td>\n",
       "    </tr>\n",
       "    <tr>\n",
       "      <th>3</th>\n",
       "      <td>55043</td>\n",
       "      <td>GRANT</td>\n",
       "      <td>5504363250</td>\n",
       "      <td>PLATTEVILLE</td>\n",
       "      <td>C</td>\n",
       "      <td>0001</td>\n",
       "      <td>PLATTEVILLE - C 0001</td>\n",
       "      <td>1197</td>\n",
       "      <td>832</td>\n",
       "      <td>432</td>\n",
       "      <td>...</td>\n",
       "      <td>1</td>\n",
       "      <td>0</td>\n",
       "      <td>0</td>\n",
       "      <td>0</td>\n",
       "      <td>0</td>\n",
       "      <td>0</td>\n",
       "      <td>0</td>\n",
       "      <td>0</td>\n",
       "      <td>2</td>\n",
       "      <td>POLYGON ((216386.194 4739423.917, 216459.462 4...</td>\n",
       "    </tr>\n",
       "    <tr>\n",
       "      <th>4</th>\n",
       "      <td>55045</td>\n",
       "      <td>GREEN</td>\n",
       "      <td>5504500775</td>\n",
       "      <td>ALBANY</td>\n",
       "      <td>T</td>\n",
       "      <td>0001</td>\n",
       "      <td>ALBANY - T 0001</td>\n",
       "      <td>464</td>\n",
       "      <td>371</td>\n",
       "      <td>157</td>\n",
       "      <td>...</td>\n",
       "      <td>0</td>\n",
       "      <td>0</td>\n",
       "      <td>0</td>\n",
       "      <td>0</td>\n",
       "      <td>0</td>\n",
       "      <td>0</td>\n",
       "      <td>0</td>\n",
       "      <td>0</td>\n",
       "      <td>3</td>\n",
       "      <td>POLYGON ((300826.104 4732164.174, 300821.170 4...</td>\n",
       "    </tr>\n",
       "  </tbody>\n",
       "</table>\n",
       "<p>5 rows × 23 columns</p>\n",
       "</div>"
      ],
      "text/plain": [
       "  CNTY_FIPS   CNTY_NAME    MCD_FIPS     MCD_NAME CTV WARDID  \\\n",
       "0     55035  EAU CLAIRE  5503522300   EAU CLAIRE   C   0060   \n",
       "1     55035  EAU CLAIRE  5503522300   EAU CLAIRE   C   0059   \n",
       "2     55043       GRANT  5504363250  PLATTEVILLE   C   0002   \n",
       "3     55043       GRANT  5504363250  PLATTEVILLE   C   0001   \n",
       "4     55045       GREEN  5504500775       ALBANY   T   0001   \n",
       "\n",
       "                  LABEL  PERSONS   RV  G20PREDBID  ...  G20PREICAR  \\\n",
       "0   EAU CLAIRE - C 0060       12    0           0  ...           0   \n",
       "1   EAU CLAIRE - C 0059        0    0           0  ...           0   \n",
       "2  PLATTEVILLE - C 0002     1371  942         489  ...           1   \n",
       "3  PLATTEVILLE - C 0001     1197  832         432  ...           1   \n",
       "4       ALBANY - T 0001      464  371         157  ...           0   \n",
       "\n",
       "   G20PREOWEL  G20PREOSIM  G20PREOBOD  G20PREOHAW  G20PREOLAR  G20PREOWES  \\\n",
       "0           0           0           0           0           0           0   \n",
       "1           0           0           0           0           0           0   \n",
       "2           0           0           0           0           0           0   \n",
       "3           0           0           0           0           0           0   \n",
       "4           0           0           0           0           0           0   \n",
       "\n",
       "   G20PREOCHA  G20PREOWRI                                           geometry  \n",
       "0           0           0  POLYGON ((139292.953 4974890.501, 139269.277 4...  \n",
       "1           0           0  POLYGON ((144305.023 4968892.880, 144316.453 4...  \n",
       "2           0           3  POLYGON ((215528.402 4738670.405, 215527.606 4...  \n",
       "3           0           2  POLYGON ((216386.194 4739423.917, 216459.462 4...  \n",
       "4           0           3  POLYGON ((300826.104 4732164.174, 300821.170 4...  \n",
       "\n",
       "[5 rows x 23 columns]"
      ]
     },
     "execution_count": 41,
     "metadata": {},
     "output_type": "execute_result"
    }
   ],
   "source": [
    "vest20_df.head()"
   ]
  },
  {
   "cell_type": "code",
   "execution_count": 42,
   "metadata": {},
   "outputs": [
    {
     "data": {
      "text/html": [
       "<div>\n",
       "<style scoped>\n",
       "    .dataframe tbody tr th:only-of-type {\n",
       "        vertical-align: middle;\n",
       "    }\n",
       "\n",
       "    .dataframe tbody tr th {\n",
       "        vertical-align: top;\n",
       "    }\n",
       "\n",
       "    .dataframe thead th {\n",
       "        text-align: right;\n",
       "    }\n",
       "</style>\n",
       "<table border=\"1\" class=\"dataframe\">\n",
       "  <thead>\n",
       "    <tr style=\"text-align: right;\">\n",
       "      <th></th>\n",
       "      <th>id</th>\n",
       "      <th>NAME</th>\n",
       "      <th>TotalPop</th>\n",
       "      <th>PopDevPc</th>\n",
       "      <th>DemPct</th>\n",
       "      <th>RepPct</th>\n",
       "      <th>WhitePct</th>\n",
       "      <th>Minority</th>\n",
       "      <th>BlackPct</th>\n",
       "      <th>Hispanic</th>\n",
       "      <th>PacificP</th>\n",
       "      <th>AsianPct</th>\n",
       "      <th>NativePc</th>\n",
       "      <th>TotalVAP</th>\n",
       "      <th>Margin</th>\n",
       "      <th>color</th>\n",
       "      <th>opacity</th>\n",
       "      <th>geometry</th>\n",
       "    </tr>\n",
       "  </thead>\n",
       "  <tbody>\n",
       "    <tr>\n",
       "      <th>0</th>\n",
       "      <td>1.0</td>\n",
       "      <td>1</td>\n",
       "      <td>736715.0</td>\n",
       "      <td>0.000000</td>\n",
       "      <td>0.481142</td>\n",
       "      <td>0.491911</td>\n",
       "      <td>0.782418</td>\n",
       "      <td>0.217582</td>\n",
       "      <td>0.070932</td>\n",
       "      <td>0.102396</td>\n",
       "      <td>0.001110</td>\n",
       "      <td>0.024325</td>\n",
       "      <td>0.019329</td>\n",
       "      <td>575451.0</td>\n",
       "      <td>-0.018858</td>\n",
       "      <td>#0000FF</td>\n",
       "      <td>0.5</td>\n",
       "      <td>POLYGON ((348358.235 4745226.043, 347592.443 4...</td>\n",
       "    </tr>\n",
       "    <tr>\n",
       "      <th>1</th>\n",
       "      <td>2.0</td>\n",
       "      <td>2</td>\n",
       "      <td>736715.0</td>\n",
       "      <td>0.000000</td>\n",
       "      <td>0.694890</td>\n",
       "      <td>0.281285</td>\n",
       "      <td>0.820014</td>\n",
       "      <td>0.179986</td>\n",
       "      <td>0.046568</td>\n",
       "      <td>0.056653</td>\n",
       "      <td>0.001187</td>\n",
       "      <td>0.057611</td>\n",
       "      <td>0.015589</td>\n",
       "      <td>584519.0</td>\n",
       "      <td>0.194890</td>\n",
       "      <td>#008000</td>\n",
       "      <td>0.5</td>\n",
       "      <td>POLYGON ((286255.899 4708986.006, 286384.418 4...</td>\n",
       "    </tr>\n",
       "    <tr>\n",
       "      <th>2</th>\n",
       "      <td>3.0</td>\n",
       "      <td>3</td>\n",
       "      <td>736716.0</td>\n",
       "      <td>0.000001</td>\n",
       "      <td>0.486566</td>\n",
       "      <td>0.483154</td>\n",
       "      <td>0.909480</td>\n",
       "      <td>0.090520</td>\n",
       "      <td>0.016465</td>\n",
       "      <td>0.026567</td>\n",
       "      <td>0.001084</td>\n",
       "      <td>0.024026</td>\n",
       "      <td>0.017500</td>\n",
       "      <td>580338.0</td>\n",
       "      <td>-0.013434</td>\n",
       "      <td>#8B008B</td>\n",
       "      <td>0.5</td>\n",
       "      <td>POLYGON ((166031.420 4975754.206, 166071.488 4...</td>\n",
       "    </tr>\n",
       "    <tr>\n",
       "      <th>3</th>\n",
       "      <td>4.0</td>\n",
       "      <td>4</td>\n",
       "      <td>736714.0</td>\n",
       "      <td>-0.000001</td>\n",
       "      <td>0.734541</td>\n",
       "      <td>0.241345</td>\n",
       "      <td>0.470504</td>\n",
       "      <td>0.529496</td>\n",
       "      <td>0.314626</td>\n",
       "      <td>0.153485</td>\n",
       "      <td>0.001446</td>\n",
       "      <td>0.051948</td>\n",
       "      <td>0.021316</td>\n",
       "      <td>558133.0</td>\n",
       "      <td>0.234541</td>\n",
       "      <td>#FF0000</td>\n",
       "      <td>0.5</td>\n",
       "      <td>POLYGON ((427547.312 4764043.628, 427625.398 4...</td>\n",
       "    </tr>\n",
       "    <tr>\n",
       "      <th>4</th>\n",
       "      <td>5.0</td>\n",
       "      <td>5</td>\n",
       "      <td>736715.0</td>\n",
       "      <td>0.000000</td>\n",
       "      <td>0.346921</td>\n",
       "      <td>0.630317</td>\n",
       "      <td>0.883632</td>\n",
       "      <td>0.116368</td>\n",
       "      <td>0.019442</td>\n",
       "      <td>0.047246</td>\n",
       "      <td>0.000904</td>\n",
       "      <td>0.030984</td>\n",
       "      <td>0.013157</td>\n",
       "      <td>578845.0</td>\n",
       "      <td>-0.153079</td>\n",
       "      <td>#FFD700</td>\n",
       "      <td>0.5</td>\n",
       "      <td>POLYGON ((383425.419 4738101.544, 383420.384 4...</td>\n",
       "    </tr>\n",
       "  </tbody>\n",
       "</table>\n",
       "</div>"
      ],
      "text/plain": [
       "    id NAME  TotalPop  PopDevPc    DemPct    RepPct  WhitePct  Minority  \\\n",
       "0  1.0    1  736715.0  0.000000  0.481142  0.491911  0.782418  0.217582   \n",
       "1  2.0    2  736715.0  0.000000  0.694890  0.281285  0.820014  0.179986   \n",
       "2  3.0    3  736716.0  0.000001  0.486566  0.483154  0.909480  0.090520   \n",
       "3  4.0    4  736714.0 -0.000001  0.734541  0.241345  0.470504  0.529496   \n",
       "4  5.0    5  736715.0  0.000000  0.346921  0.630317  0.883632  0.116368   \n",
       "\n",
       "   BlackPct  Hispanic  PacificP  AsianPct  NativePc  TotalVAP    Margin  \\\n",
       "0  0.070932  0.102396  0.001110  0.024325  0.019329  575451.0 -0.018858   \n",
       "1  0.046568  0.056653  0.001187  0.057611  0.015589  584519.0  0.194890   \n",
       "2  0.016465  0.026567  0.001084  0.024026  0.017500  580338.0 -0.013434   \n",
       "3  0.314626  0.153485  0.001446  0.051948  0.021316  558133.0  0.234541   \n",
       "4  0.019442  0.047246  0.000904  0.030984  0.013157  578845.0 -0.153079   \n",
       "\n",
       "     color opacity                                           geometry  \n",
       "0  #0000FF     0.5  POLYGON ((348358.235 4745226.043, 347592.443 4...  \n",
       "1  #008000     0.5  POLYGON ((286255.899 4708986.006, 286384.418 4...  \n",
       "2  #8B008B     0.5  POLYGON ((166031.420 4975754.206, 166071.488 4...  \n",
       "3  #FF0000     0.5  POLYGON ((427547.312 4764043.628, 427625.398 4...  \n",
       "4  #FFD700     0.5  POLYGON ((383425.419 4738101.544, 383420.384 4...  "
      ]
     },
     "execution_count": 42,
     "metadata": {},
     "output_type": "execute_result"
    }
   ],
   "source": [
    "cong_df.head()"
   ]
  },
  {
   "cell_type": "code",
   "execution_count": 43,
   "metadata": {},
   "outputs": [
    {
     "data": {
      "text/html": [
       "<div>\n",
       "<style scoped>\n",
       "    .dataframe tbody tr th:only-of-type {\n",
       "        vertical-align: middle;\n",
       "    }\n",
       "\n",
       "    .dataframe tbody tr th {\n",
       "        vertical-align: top;\n",
       "    }\n",
       "\n",
       "    .dataframe thead th {\n",
       "        text-align: right;\n",
       "    }\n",
       "</style>\n",
       "<table border=\"1\" class=\"dataframe\">\n",
       "  <thead>\n",
       "    <tr style=\"text-align: right;\">\n",
       "      <th></th>\n",
       "      <th>CNTY_FIPS</th>\n",
       "      <th>CNTY_NAME</th>\n",
       "      <th>MCD_FIPS</th>\n",
       "      <th>MCD_NAME</th>\n",
       "      <th>CTV</th>\n",
       "      <th>WARDID</th>\n",
       "      <th>LABEL</th>\n",
       "      <th>PERSONS</th>\n",
       "      <th>RV</th>\n",
       "      <th>G18USSRVUK</th>\n",
       "      <th>...</th>\n",
       "      <th>G18ATGOWRI</th>\n",
       "      <th>G18SOSRSCH</th>\n",
       "      <th>G18SOSDLAF</th>\n",
       "      <th>G18SOSOKAR</th>\n",
       "      <th>G18SOSOWRI</th>\n",
       "      <th>G18TRERHAR</th>\n",
       "      <th>G18TREDGOD</th>\n",
       "      <th>G18TRECZUE</th>\n",
       "      <th>G18TREOWRI</th>\n",
       "      <th>geometry</th>\n",
       "    </tr>\n",
       "  </thead>\n",
       "  <tbody>\n",
       "    <tr>\n",
       "      <th>0</th>\n",
       "      <td>55139</td>\n",
       "      <td>WINNEBAGO</td>\n",
       "      <td>5513908000</td>\n",
       "      <td>BLACK WOLF</td>\n",
       "      <td>T</td>\n",
       "      <td>0001</td>\n",
       "      <td>BLACK WOLF - T 0001</td>\n",
       "      <td>792</td>\n",
       "      <td>590</td>\n",
       "      <td>279</td>\n",
       "      <td>...</td>\n",
       "      <td>0</td>\n",
       "      <td>289</td>\n",
       "      <td>190</td>\n",
       "      <td>0</td>\n",
       "      <td>0</td>\n",
       "      <td>283</td>\n",
       "      <td>182</td>\n",
       "      <td>9</td>\n",
       "      <td>0</td>\n",
       "      <td>MULTIPOLYGON (((380332.966 4867079.825, 380321...</td>\n",
       "    </tr>\n",
       "    <tr>\n",
       "      <th>1</th>\n",
       "      <td>55139</td>\n",
       "      <td>WINNEBAGO</td>\n",
       "      <td>5513908000</td>\n",
       "      <td>BLACK WOLF</td>\n",
       "      <td>T</td>\n",
       "      <td>0002</td>\n",
       "      <td>BLACK WOLF - T 0002</td>\n",
       "      <td>849</td>\n",
       "      <td>650</td>\n",
       "      <td>307</td>\n",
       "      <td>...</td>\n",
       "      <td>1</td>\n",
       "      <td>318</td>\n",
       "      <td>209</td>\n",
       "      <td>0</td>\n",
       "      <td>1</td>\n",
       "      <td>312</td>\n",
       "      <td>200</td>\n",
       "      <td>9</td>\n",
       "      <td>1</td>\n",
       "      <td>MULTIPOLYGON (((376302.702 4870937.546, 376359...</td>\n",
       "    </tr>\n",
       "    <tr>\n",
       "      <th>2</th>\n",
       "      <td>55039</td>\n",
       "      <td>FOND DU LAC</td>\n",
       "      <td>5503927975</td>\n",
       "      <td>FRIENDSHIP</td>\n",
       "      <td>T</td>\n",
       "      <td>0001</td>\n",
       "      <td>FRIENDSHIP - T 0001</td>\n",
       "      <td>908</td>\n",
       "      <td>550</td>\n",
       "      <td>242</td>\n",
       "      <td>...</td>\n",
       "      <td>0</td>\n",
       "      <td>252</td>\n",
       "      <td>155</td>\n",
       "      <td>0</td>\n",
       "      <td>1</td>\n",
       "      <td>250</td>\n",
       "      <td>145</td>\n",
       "      <td>8</td>\n",
       "      <td>0</td>\n",
       "      <td>MULTIPOLYGON (((381711.110 4851479.799, 381727...</td>\n",
       "    </tr>\n",
       "    <tr>\n",
       "      <th>3</th>\n",
       "      <td>55139</td>\n",
       "      <td>WINNEBAGO</td>\n",
       "      <td>5513908000</td>\n",
       "      <td>BLACK WOLF</td>\n",
       "      <td>T</td>\n",
       "      <td>0003</td>\n",
       "      <td>BLACK WOLF - T 0003</td>\n",
       "      <td>773</td>\n",
       "      <td>555</td>\n",
       "      <td>263</td>\n",
       "      <td>...</td>\n",
       "      <td>0</td>\n",
       "      <td>271</td>\n",
       "      <td>179</td>\n",
       "      <td>0</td>\n",
       "      <td>0</td>\n",
       "      <td>266</td>\n",
       "      <td>171</td>\n",
       "      <td>8</td>\n",
       "      <td>0</td>\n",
       "      <td>MULTIPOLYGON (((383535.765 4861940.707, 383537...</td>\n",
       "    </tr>\n",
       "    <tr>\n",
       "      <th>4</th>\n",
       "      <td>55007</td>\n",
       "      <td>BAYFIELD</td>\n",
       "      <td>5500739025</td>\n",
       "      <td>KELLY</td>\n",
       "      <td>T</td>\n",
       "      <td>0001</td>\n",
       "      <td>KELLY - T 0001</td>\n",
       "      <td>463</td>\n",
       "      <td>274</td>\n",
       "      <td>103</td>\n",
       "      <td>...</td>\n",
       "      <td>0</td>\n",
       "      <td>107</td>\n",
       "      <td>103</td>\n",
       "      <td>0</td>\n",
       "      <td>0</td>\n",
       "      <td>104</td>\n",
       "      <td>97</td>\n",
       "      <td>4</td>\n",
       "      <td>0</td>\n",
       "      <td>POLYGON ((198408.669 5147671.053, 198407.229 5...</td>\n",
       "    </tr>\n",
       "  </tbody>\n",
       "</table>\n",
       "<p>5 rows × 42 columns</p>\n",
       "</div>"
      ],
      "text/plain": [
       "  CNTY_FIPS    CNTY_NAME    MCD_FIPS    MCD_NAME CTV WARDID  \\\n",
       "0     55139    WINNEBAGO  5513908000  BLACK WOLF   T   0001   \n",
       "1     55139    WINNEBAGO  5513908000  BLACK WOLF   T   0002   \n",
       "2     55039  FOND DU LAC  5503927975  FRIENDSHIP   T   0001   \n",
       "3     55139    WINNEBAGO  5513908000  BLACK WOLF   T   0003   \n",
       "4     55007     BAYFIELD  5500739025       KELLY   T   0001   \n",
       "\n",
       "                 LABEL  PERSONS   RV  G18USSRVUK  ...  G18ATGOWRI  G18SOSRSCH  \\\n",
       "0  BLACK WOLF - T 0001      792  590         279  ...           0         289   \n",
       "1  BLACK WOLF - T 0002      849  650         307  ...           1         318   \n",
       "2  FRIENDSHIP - T 0001      908  550         242  ...           0         252   \n",
       "3  BLACK WOLF - T 0003      773  555         263  ...           0         271   \n",
       "4       KELLY - T 0001      463  274         103  ...           0         107   \n",
       "\n",
       "   G18SOSDLAF  G18SOSOKAR  G18SOSOWRI  G18TRERHAR  G18TREDGOD  G18TRECZUE  \\\n",
       "0         190           0           0         283         182           9   \n",
       "1         209           0           1         312         200           9   \n",
       "2         155           0           1         250         145           8   \n",
       "3         179           0           0         266         171           8   \n",
       "4         103           0           0         104          97           4   \n",
       "\n",
       "   G18TREOWRI                                           geometry  \n",
       "0           0  MULTIPOLYGON (((380332.966 4867079.825, 380321...  \n",
       "1           1  MULTIPOLYGON (((376302.702 4870937.546, 376359...  \n",
       "2           0  MULTIPOLYGON (((381711.110 4851479.799, 381727...  \n",
       "3           0  MULTIPOLYGON (((383535.765 4861940.707, 383537...  \n",
       "4           0  POLYGON ((198408.669 5147671.053, 198407.229 5...  \n",
       "\n",
       "[5 rows x 42 columns]"
      ]
     },
     "execution_count": 43,
     "metadata": {},
     "output_type": "execute_result"
    }
   ],
   "source": [
    "vest18_df.head()"
   ]
  },
  {
   "cell_type": "code",
   "execution_count": 44,
   "metadata": {},
   "outputs": [
    {
     "name": "stdout",
     "output_type": "stream",
     "text": [
      "Index(['GEOID20', 'SUMLEV', 'LOGRECNO', 'GEOID', 'COUNTY', 'P0020001',\n",
      "       'P0020002', 'P0020003', 'P0020004', 'P0020005', 'P0020006', 'P0020007',\n",
      "       'P0020008', 'P0020009', 'P0020010', 'P0020011', 'P0020012', 'P0020013',\n",
      "       'P0020014', 'P0020015', 'P0020016', 'P0020017', 'P0020018', 'P0020019',\n",
      "       'P0020020', 'P0020021', 'P0020022', 'P0020023', 'P0020024', 'P0020025',\n",
      "       'P0020026', 'P0020027', 'P0020028', 'P0020029', 'P0020030', 'P0020031',\n",
      "       'P0020032', 'P0020033', 'P0020034', 'P0020035', 'P0020036', 'P0020037',\n",
      "       'P0020038', 'P0020039', 'P0020040', 'P0020041', 'P0020042', 'P0020043',\n",
      "       'P0020044', 'P0020045', 'P0020046', 'P0020047', 'P0020048', 'P0020049',\n",
      "       'P0020050', 'P0020051', 'P0020052', 'P0020053', 'P0020054', 'P0020055',\n",
      "       'P0020056', 'P0020057', 'P0020058', 'P0020059', 'P0020060', 'P0020061',\n",
      "       'P0020062', 'P0020063', 'P0020064', 'P0020065', 'P0020066', 'P0020067',\n",
      "       'P0020068', 'P0020069', 'P0020070', 'P0020071', 'P0020072', 'P0020073',\n",
      "       'geometry'],\n",
      "      dtype='object')\n"
     ]
    }
   ],
   "source": [
    "print(population_df.columns)"
   ]
  },
  {
   "cell_type": "code",
   "execution_count": 45,
   "metadata": {},
   "outputs": [
    {
     "name": "stdout",
     "output_type": "stream",
     "text": [
      "Index(['STATEFP20', 'COUNTYFP20', 'COUNTYNS20', 'GEOID20', 'NAME20',\n",
      "       'NAMELSAD20', 'LSAD20', 'CLASSFP20', 'MTFCC20', 'CSAFP20',\n",
      "       ...\n",
      "       'P0050002', 'P0050003', 'P0050004', 'P0050005', 'P0050006', 'P0050007',\n",
      "       'P0050008', 'P0050009', 'P0050010', 'geometry'],\n",
      "      dtype='object', length=349)\n"
     ]
    }
   ],
   "source": [
    "print(county_df.columns)"
   ]
  },
  {
   "cell_type": "code",
   "execution_count": 46,
   "metadata": {},
   "outputs": [
    {
     "name": "stdout",
     "output_type": "stream",
     "text": [
      "Index(['CNTY_FIPS', 'CNTY_NAME', 'MCD_FIPS', 'MCD_NAME', 'CTV', 'WARDID',\n",
      "       'LABEL', 'PERSONS', 'RV', 'G20PREDBID', 'G20PRERTRU', 'G20PRECBLA',\n",
      "       'G20PRELJOR', 'G20PREICAR', 'G20PREOWEL', 'G20PREOSIM', 'G20PREOBOD',\n",
      "       'G20PREOHAW', 'G20PREOLAR', 'G20PREOWES', 'G20PREOCHA', 'G20PREOWRI',\n",
      "       'geometry'],\n",
      "      dtype='object')\n"
     ]
    }
   ],
   "source": [
    "print(vest20_df.columns)"
   ]
  },
  {
   "cell_type": "code",
   "execution_count": 47,
   "metadata": {},
   "outputs": [
    {
     "name": "stdout",
     "output_type": "stream",
     "text": [
      "Index(['id', 'NAME', 'TotalPop', 'PopDevPc', 'DemPct', 'RepPct', 'WhitePct',\n",
      "       'Minority', 'BlackPct', 'Hispanic', 'PacificP', 'AsianPct', 'NativePc',\n",
      "       'TotalVAP', 'Margin', 'color', 'opacity', 'geometry'],\n",
      "      dtype='object')\n"
     ]
    }
   ],
   "source": [
    "print(cong_df.columns)"
   ]
  },
  {
   "cell_type": "code",
   "execution_count": 48,
   "metadata": {},
   "outputs": [
    {
     "name": "stdout",
     "output_type": "stream",
     "text": [
      "Index(['CNTY_FIPS', 'CNTY_NAME', 'MCD_FIPS', 'MCD_NAME', 'CTV', 'WARDID',\n",
      "       'LABEL', 'PERSONS', 'RV', 'G18USSRVUK', 'G18USSDBAL', 'G18USSOWAL',\n",
      "       'G18USSOSCH', 'G18USSOWRI', 'G18GOVRWAL', 'G18GOVDEVE', 'G18GOVLAND',\n",
      "       'G18GOVGWHI', 'G18GOVITUR', 'G18GOVIENZ', 'G18GOVOCAS', 'G18GOVOBOU',\n",
      "       'G18GOVOGRI', 'G18GOVOLAN', 'G18GOVOHOF', 'G18GOVOTUR', 'G18GOVONO1',\n",
      "       'G18GOVONO2', 'G18GOVOWRI', 'G18ATGRSCH', 'G18ATGDKAU', 'G18ATGCLAR',\n",
      "       'G18ATGOWRI', 'G18SOSRSCH', 'G18SOSDLAF', 'G18SOSOKAR', 'G18SOSOWRI',\n",
      "       'G18TRERHAR', 'G18TREDGOD', 'G18TRECZUE', 'G18TREOWRI', 'geometry'],\n",
      "      dtype='object')\n"
     ]
    }
   ],
   "source": [
    "print(vest18_df.columns)"
   ]
  },
  {
   "cell_type": "code",
   "execution_count": 49,
   "metadata": {},
   "outputs": [],
   "source": [
    "vest20_df.drop(columns=['G20PRECBLA', 'G20PRELJOR', 'G20PREICAR', 'G20PREOWEL', 'G20PREOSIM',\n",
    "              'G20PREOBOD', 'G20PREOHAW', 'G20PREOLAR', 'G20PREOWES', 'G20PREOCHA', 'G20PREOWRI',], inplace=True)"
   ]
  },
  {
   "cell_type": "code",
   "execution_count": 50,
   "metadata": {},
   "outputs": [
    {
     "data": {
      "text/plain": [
       "Index(['CNTY_FIPS', 'CNTY_NAME', 'MCD_FIPS', 'MCD_NAME', 'CTV', 'WARDID',\n",
       "       'LABEL', 'PERSONS', 'RV', 'G20PREDBID', 'G20PRERTRU', 'geometry'],\n",
       "      dtype='object')"
      ]
     },
     "execution_count": 50,
     "metadata": {},
     "output_type": "execute_result"
    }
   ],
   "source": [
    "vest20_df.columns"
   ]
  },
  {
   "cell_type": "code",
   "execution_count": 51,
   "metadata": {},
   "outputs": [],
   "source": [
    "vest18_df.drop(columns=['G18USSOWAL', 'G18USSOSCH', 'G18USSOWRI', 'G18GOVLAND', 'G18GOVGWHI', 'G18GOVITUR', 'G18GOVIENZ', 'G18GOVOCAS', 'G18GOVOBOU', 'G18GOVOGRI',\n",
    "              'G18GOVOLAN', 'G18GOVOHOF', 'G18GOVOTUR', 'G18GOVONO1', 'G18GOVONO2', 'G18GOVOWRI', 'G18ATGCLAR', 'G18ATGOWRI', 'G18SOSOKAR', 'G18SOSOWRI', 'G18TRECZUE', 'G18TREOWRI'], inplace=True)"
   ]
  },
  {
   "cell_type": "code",
   "execution_count": 52,
   "metadata": {},
   "outputs": [
    {
     "data": {
      "text/plain": [
       "Index(['CNTY_FIPS', 'CNTY_NAME', 'MCD_FIPS', 'MCD_NAME', 'CTV', 'WARDID',\n",
       "       'LABEL', 'PERSONS', 'RV', 'G18USSRVUK', 'G18USSDBAL', 'G18GOVRWAL',\n",
       "       'G18GOVDEVE', 'G18ATGRSCH', 'G18ATGDKAU', 'G18SOSRSCH', 'G18SOSDLAF',\n",
       "       'G18TRERHAR', 'G18TREDGOD', 'geometry'],\n",
       "      dtype='object')"
      ]
     },
     "execution_count": 52,
     "metadata": {},
     "output_type": "execute_result"
    }
   ],
   "source": [
    "vest18_df.columns"
   ]
  },
  {
   "cell_type": "code",
   "execution_count": 53,
   "metadata": {},
   "outputs": [
    {
     "data": {
      "text/plain": [
       "GEOID20     0\n",
       "SUMLEV      0\n",
       "LOGRECNO    0\n",
       "GEOID       0\n",
       "COUNTY      0\n",
       "           ..\n",
       "P0020070    0\n",
       "P0020071    0\n",
       "P0020072    0\n",
       "P0020073    0\n",
       "geometry    0\n",
       "Length: 79, dtype: int64"
      ]
     },
     "execution_count": 53,
     "metadata": {},
     "output_type": "execute_result"
    }
   ],
   "source": [
    "population_df.isna().sum()"
   ]
  },
  {
   "cell_type": "code",
   "execution_count": 54,
   "metadata": {},
   "outputs": [
    {
     "data": {
      "text/plain": [
       "STATEFP20     0\n",
       "COUNTYFP20    0\n",
       "COUNTYNS20    0\n",
       "GEOID20       0\n",
       "NAME20        0\n",
       "             ..\n",
       "P0050007      0\n",
       "P0050008      0\n",
       "P0050009      0\n",
       "P0050010      0\n",
       "geometry      0\n",
       "Length: 349, dtype: int64"
      ]
     },
     "execution_count": 54,
     "metadata": {},
     "output_type": "execute_result"
    }
   ],
   "source": [
    "county_df.isna().sum()"
   ]
  },
  {
   "cell_type": "code",
   "execution_count": 55,
   "metadata": {},
   "outputs": [
    {
     "data": {
      "text/plain": [
       "CNTY_FIPS     0\n",
       "CNTY_NAME     0\n",
       "MCD_FIPS      0\n",
       "MCD_NAME      0\n",
       "CTV           0\n",
       "WARDID        0\n",
       "LABEL         0\n",
       "PERSONS       0\n",
       "RV            0\n",
       "G20PREDBID    0\n",
       "G20PRERTRU    0\n",
       "geometry      0\n",
       "dtype: int64"
      ]
     },
     "execution_count": 55,
     "metadata": {},
     "output_type": "execute_result"
    }
   ],
   "source": [
    "vest20_df.isna().sum()"
   ]
  },
  {
   "cell_type": "code",
   "execution_count": 56,
   "metadata": {},
   "outputs": [
    {
     "data": {
      "text/plain": [
       "id          0\n",
       "NAME        0\n",
       "TotalPop    0\n",
       "PopDevPc    0\n",
       "DemPct      0\n",
       "RepPct      0\n",
       "WhitePct    0\n",
       "Minority    0\n",
       "BlackPct    0\n",
       "Hispanic    0\n",
       "PacificP    0\n",
       "AsianPct    0\n",
       "NativePc    0\n",
       "TotalVAP    0\n",
       "Margin      0\n",
       "color       0\n",
       "opacity     0\n",
       "geometry    0\n",
       "dtype: int64"
      ]
     },
     "execution_count": 56,
     "metadata": {},
     "output_type": "execute_result"
    }
   ],
   "source": [
    "cong_df.isna().sum()"
   ]
  },
  {
   "cell_type": "code",
   "execution_count": 57,
   "metadata": {},
   "outputs": [
    {
     "data": {
      "text/plain": [
       "CNTY_FIPS     0\n",
       "CNTY_NAME     0\n",
       "MCD_FIPS      0\n",
       "MCD_NAME      0\n",
       "CTV           0\n",
       "WARDID        0\n",
       "LABEL         0\n",
       "PERSONS       0\n",
       "RV            0\n",
       "G18USSRVUK    0\n",
       "G18USSDBAL    0\n",
       "G18GOVRWAL    0\n",
       "G18GOVDEVE    0\n",
       "G18ATGRSCH    0\n",
       "G18ATGDKAU    0\n",
       "G18SOSRSCH    0\n",
       "G18SOSDLAF    0\n",
       "G18TRERHAR    0\n",
       "G18TREDGOD    0\n",
       "geometry      0\n",
       "dtype: int64"
      ]
     },
     "execution_count": 57,
     "metadata": {},
     "output_type": "execute_result"
    }
   ],
   "source": [
    "vest18_df.isna().sum()"
   ]
  },
  {
   "cell_type": "code",
   "execution_count": 29,
   "metadata": {},
   "outputs": [
    {
     "name": "stderr",
     "output_type": "stream",
     "text": [
      "100%|██████████| 203059/203059 [01:29<00:00, 2275.51it/s]\n"
     ]
    },
    {
     "data": {
      "text/plain": [
       "True"
      ]
     },
     "execution_count": 29,
     "metadata": {},
     "output_type": "execute_result"
    }
   ],
   "source": [
    "maup.doctor(population_df)"
   ]
  },
  {
   "cell_type": "code",
   "execution_count": null,
   "metadata": {},
   "outputs": [],
   "source": [
    "maup.doctor(county_df)"
   ]
  },
  {
   "cell_type": "code",
   "execution_count": null,
   "metadata": {},
   "outputs": [],
   "source": [
    "maup.doctor(vest20_df)"
   ]
  },
  {
   "cell_type": "code",
   "execution_count": null,
   "metadata": {},
   "outputs": [],
   "source": [
    "maup.doctor(cong_df)"
   ]
  },
  {
   "cell_type": "code",
   "execution_count": null,
   "metadata": {},
   "outputs": [],
   "source": [
    "maup.doctor(vest18_df)"
   ]
  },
  {
   "cell_type": "code",
   "execution_count": null,
   "metadata": {},
   "outputs": [],
   "source": [
    "vest18_df = smart_repair(vest18_df, nest_within_regions=county_df)"
   ]
  },
  {
   "cell_type": "code",
   "execution_count": null,
   "metadata": {},
   "outputs": [],
   "source": [
    "final_df = smart_repair(vest20_df, nest_within_regions = county_df)"
   ]
  },
  {
   "cell_type": "code",
   "execution_count": null,
   "metadata": {},
   "outputs": [],
   "source": [
    "import copy\n",
    "boundaries = copy.deepcopy(final_df)\n",
    "boundaries[\"geometry\"] = boundaries.geometry.boundary  # get boundaries\n",
    "neighbors = gpd.sjoin(boundaries, final_df, predicate=\"intersects\") # find boundaries that intersect\n",
    "neighbors = neighbors[neighbors.index != neighbors.index_right] # remove boundaries of a region with itself\n",
    "\n",
    "# compute shared border length using intersection\n",
    "borders = list(neighbors.apply(\n",
    "    lambda row: row.geometry.intersection(boundaries.loc[row.index_right, \"geometry\"]).length, axis=1\n",
    "))\n",
    "\n",
    "borders.sort()\n",
    "print(borders[:1000])"
   ]
  },
  {
   "cell_type": "code",
   "execution_count": null,
   "metadata": {},
   "outputs": [],
   "source": [
    "final_df = smart_repair(final_df, min_rook_length = 30)"
   ]
  },
  {
   "cell_type": "code",
   "execution_count": null,
   "metadata": {},
   "outputs": [],
   "source": [
    "maup.doctor(final_df)"
   ]
  },
  {
   "cell_type": "code",
   "execution_count": null,
   "metadata": {},
   "outputs": [],
   "source": [
    "temp_df = final_df"
   ]
  },
  {
   "cell_type": "code",
   "execution_count": null,
   "metadata": {},
   "outputs": [],
   "source": [
    "temp2_df = final_df"
   ]
  },
  {
   "cell_type": "code",
   "execution_count": null,
   "metadata": {},
   "outputs": [],
   "source": [
    "final_df.plot() ## Looks good, the hole in the data is the lake"
   ]
  },
  {
   "cell_type": "code",
   "execution_count": null,
   "metadata": {},
   "outputs": [],
   "source": [
    "pop_assignment = maup.assign(population_df.geometry, final_df.geometry)\n",
    "cong_assignment = maup.assign(final_df.geometry, cong_df.geometry)"
   ]
  },
  {
   "cell_type": "code",
   "execution_count": null,
   "metadata": {},
   "outputs": [],
   "source": [
    "pop_assignment"
   ]
  },
  {
   "cell_type": "code",
   "execution_count": null,
   "metadata": {},
   "outputs": [],
   "source": [
    "cong_assignment"
   ]
  },
  {
   "cell_type": "code",
   "execution_count": null,
   "metadata": {},
   "outputs": [],
   "source": [
    "cong_assignment = cong_assignment.fillna(0)\n",
    "cong_assignment.isna().sum()"
   ]
  },
  {
   "cell_type": "code",
   "execution_count": null,
   "metadata": {},
   "outputs": [],
   "source": [
    "pop_column_names = ['P0020001', 'P0020002', 'P0020005', 'P0020006', 'P0020007',\n",
    "                    'P0020008', 'P0020009', 'P0020010', 'P0020011']\n",
    "for name in pop_column_names:\n",
    "    final_df[name] = population_df[name].groupby(pop_assignment).sum()"
   ]
  },
  {
   "cell_type": "code",
   "execution_count": null,
   "metadata": {},
   "outputs": [],
   "source": [
    "print(county_df['P0020001'].sum()) # Makes sure we didn't lose any pop blocks\n",
    "print(final_df['P0020001'].sum())"
   ]
  },
  {
   "cell_type": "code",
   "execution_count": null,
   "metadata": {},
   "outputs": [],
   "source": [
    "final_df.columns"
   ]
  },
  {
   "cell_type": "code",
   "execution_count": null,
   "metadata": {},
   "outputs": [],
   "source": [
    "rename_dict = {'P0020001': 'TOTPOP', 'P0020002': 'HISP', 'P0020005': 'NH_WHITE', 'P0020006': 'NH_BLACK', 'P0020007': 'NH_AMIN',\n",
    "                    'P0020008': 'NH_ASIAN', 'P0020009': 'NH_NHPI', 'P0020010': 'NH_OTHER', 'P0020011': 'NH_2MORE',\n",
    "                    'P0040001': 'VAP', 'P0040002': 'HVAP', 'P0040005': 'WVAP', 'P0040006': 'BVAP', 'P0040007': 'AMINVAP',\n",
    "                                        'P0040008': 'ASIANVAP', 'P0040009': 'NHPIVAP', 'P0040010': 'OTHERVAP', 'P0040011': '2MOREVAP',\n",
    "                                        'G20PREDBID': 'G20PRED', 'G20PRERTRU': 'G20PRER', 'G20USSDHAR': 'G20USSD', \n",
    "                                        'G20USSRGRA': 'G20USSR'}"
   ]
  },
  {
   "cell_type": "code",
   "execution_count": null,
   "metadata": {},
   "outputs": [],
   "source": [
    "final_df.rename(columns=rename_dict, inplace = True) "
   ]
  },
  {
   "cell_type": "code",
   "execution_count": null,
   "metadata": {},
   "outputs": [],
   "source": [
    "final_df.columns"
   ]
  },
  {
   "cell_type": "code",
   "execution_count": null,
   "metadata": {},
   "outputs": [],
   "source": [
    "final_df[\"CD\"] = cong_assignment"
   ]
  },
  {
   "cell_type": "code",
   "execution_count": null,
   "metadata": {},
   "outputs": [],
   "source": [
    "print(set(final_df[\"CD\"]))"
   ]
  },
  {
   "cell_type": "code",
   "execution_count": null,
   "metadata": {},
   "outputs": [],
   "source": [
    "final_df"
   ]
  },
  {
   "cell_type": "code",
   "execution_count": null,
   "metadata": {},
   "outputs": [],
   "source": [
    "cong_df"
   ]
  },
  {
   "cell_type": "code",
   "execution_count": null,
   "metadata": {},
   "outputs": [],
   "source": [
    "final_df[\"CD\"].isna().sum()"
   ]
  },
  {
   "cell_type": "code",
   "execution_count": null,
   "metadata": {},
   "outputs": [],
   "source": [
    "final_df.isna().sum()"
   ]
  },
  {
   "cell_type": "code",
   "execution_count": null,
   "metadata": {},
   "outputs": [],
   "source": [
    "## Uses real district names\n",
    "for precinct_index in range(len(final_df)):\n",
    "    final_df.at[precinct_index, \"CD\"] = cong_df.at[int(final_df.at[precinct_index, \"CD\"]), \"NAME\"]\n",
    "print(set(cong_df[\"NAME\"]))\n",
    "print(set(final_df[\"CD\"]))"
   ]
  },
  {
   "cell_type": "code",
   "execution_count": null,
   "metadata": {},
   "outputs": [],
   "source": [
    "final_df.plot() ## See an image of the geodataframe"
   ]
  },
  {
   "cell_type": "code",
   "execution_count": null,
   "metadata": {},
   "outputs": [],
   "source": [
    "pop_vals = [final_df.loc[final_df[\"CD\"] == str(n), \"TOTPOP\"].sum() for n in range(0, 8)]\n",
    "print(pop_vals) ## Population nearly the same in each district"
   ]
  },
  {
   "cell_type": "code",
   "execution_count": null,
   "metadata": {},
   "outputs": [],
   "source": [
    "directory = \"./WI_DATA\"\n",
    "if not os.path.exists(directory):\n",
    "    os.makedirs(directory)\n",
    "final_df.to_file(\"./WI_DATA/WI.shp\")"
   ]
  },
  {
   "cell_type": "markdown",
   "metadata": {},
   "source": [
    "# CITATION: CODE FOUND IN LAB 3"
   ]
  },
  {
   "cell_type": "code",
   "execution_count": null,
   "metadata": {},
   "outputs": [],
   "source": [
    "import matplotlib.pyplot as plt\n",
    "import networkx as nx\n",
    "from gerrychain import Graph, Partition, proposals, updaters, constraints, accept, MarkovChain, Election\n",
    "from gerrychain.updaters import cut_edges, Tally\n",
    "from gerrychain.proposals import recom\n",
    "from gerrychain.accept import always_accept\n",
    "from functools import partial\n",
    "import time\n",
    "from gerrychain.tree import bipartition_tree\n",
    "\n",
    "\n",
    "ct_file = gpd.read_file(\"./WI_DATA/WI.shp\") # reads a file from ct directory\n",
    "ct_graph = Graph.from_geodataframe(ct_file) # creates a graph from a geodataframe\n",
    "print(ct_graph.nodes()[0]) # Prints out the attributes of each node in the graph\n",
    "tot_pop = sum([ct_graph.nodes()[v]['TOTPOP'] for v in ct_graph.nodes() if not pd.isna(ct_graph.nodes()[v]['TOTPOP'])]) # gets the total population for ideal population calculation if the values are numbers\n",
    "print(tot_pop)\n",
    "\n",
    "\n",
    "ct_partition = Partition( # creates a partition for the IL graph\n",
    "    ct_graph, # dual graph\n",
    "    assignment = \"CD\", # initial districting plan\n",
    "    updaters={\n",
    "    \"our cut edges\": cut_edges, # number of cut edges in a graph\n",
    "    \"district population\": Tally(\"TOTPOP\", alias = \"district population\"), # across districts, total population \n",
    "    \"hispanic population\": Tally(\"HISP\", alias = \"hispanic population\"), # across districts, hispanic population \n",
    "    \"democratic votes\": Tally(\"G20PRED\", alias = \"democratic votes\"), # across districts, number of democratic votes\n",
    "    \"republican votes\": Tally(\"G20PRER\", alias = \"republican votes\"), # across districts, number of republican votes\n",
    "})\n",
    "print(ct_partition[\"district population\"]) # Prints the population for each district\n",
    "print(ct_partition[\"democratic votes\"]) # prints the number of democratic votes for each district\n",
    "print(ct_partition[\"republican votes\"]) # prints the number of republican votes for each district\n",
    "ideal_pop = tot_pop/5 # calculates the ideal population \n",
    "pop_tolerance = 0.05 # population tolerance for the proposal\n",
    "print(ideal_pop)\n",
    "\n",
    "# found this code in gerrychain_intro_complete-2.ipynb\n",
    "start_time = time.time()\n",
    "rw_proposal = partial(recom, ## how you choose a next districting plan\n",
    "                      pop_col = \"TOTPOP\", ## What data describes population? \n",
    "                      pop_target = ideal_pop, ## What the target/ideal population is for each district \n",
    "                                              ## (we calculated ideal pop above)\n",
    "                      epsilon = pop_tolerance,  ## how far from ideal population you can deviate\n",
    "                                              ## (we set pop_tolerance above)\n",
    "                      node_repeats = 100, ## number of times to repeat bipartition.  Can increase if you get a BipartitionWarning\n",
    "                    #   allow_pair_reselection=True,\n",
    "                        method = partial(\n",
    "                        bipartition_tree,\n",
    "                        max_attempts=100,\n",
    "                        allow_pair_reselection=True  # <-- This is the only change\n",
    "    )\n",
    "                      )\n",
    "population_constraint = constraints.within_percent_of_ideal_population(\n",
    "    ct_partition, \n",
    "    pop_tolerance, \n",
    "    pop_key=\"district population\")\n",
    "\n",
    "random_walk_10 = MarkovChain( # random walk for 10000 steps\n",
    "    proposal = rw_proposal, \n",
    "    constraints = [population_constraint], # Could add additional constraints here\n",
    "    accept = always_accept, # Accept every proposed plan that meets the population constraints\n",
    "    initial_state = ct_partition, \n",
    "    total_steps = 10)\n",
    "\n",
    "cutedge_ensemble_10 = [] ## Cut edge ensemble for Markov Chain with 10000 steps\n",
    "hisp_maj_ensemble_10 = [] ## Hisp majority ensemble for Markov Chain with 10000 steps\n",
    "dem_maj_ensemble_10 = [] ## Dem majority ensemble for Markov Chain with 10000 steps\n",
    "\n",
    "for j, part in enumerate(random_walk_10):\n",
    "    print(j)\n",
    "    # Add cutedges to cutedges ensemble\n",
    "    cutedge_ensemble_10.append(len(part[\"our cut edges\"]))\n",
    "    # Calculate number of hisp-majority and dem-majority districts \n",
    "    # Add to ensemble\n",
    "    num_maj_hisp = 0\n",
    "    num_maj_dem = 0\n",
    "    \n",
    "    for i in range(0,8):\n",
    "        district = str(i)\n",
    "        b_perc = part[\"hispanic population\"][district] / part[\"district population\"][district] # calculation for hispanic population \n",
    "        dem_perc = part[\"democratic votes\"][district] / (part[\"democratic votes\"][district] + part[\"republican votes\"][district]) # calculation for democratic vote share\n",
    "        if dem_perc >= 0.5: # if majority democratic\n",
    "            num_maj_dem = num_maj_dem + 1\n",
    "        if b_perc >= 0.5: # if majority hispanic\n",
    "            num_maj_hisp = num_maj_hisp + 1\n",
    "    hisp_maj_ensemble_10.append(num_maj_hisp)\n",
    "    dem_maj_ensemble_10.append(num_maj_dem)\n",
    "end_time = time.time()\n",
    "\n",
    "print(\"The time of execution of above program is :\",\n",
    "      (end_time-start_time)/60, \"mins\")"
   ]
  },
  {
   "cell_type": "code",
   "execution_count": null,
   "metadata": {},
   "outputs": [],
   "source": [
    "print(cutedge_ensemble_10)\n",
    "print(dem_maj_ensemble_10)\n",
    "print(hisp_maj_ensemble_10)"
   ]
  }
 ],
 "metadata": {
  "kernelspec": {
   "display_name": "gerry",
   "language": "python",
   "name": "python3"
  },
  "language_info": {
   "codemirror_mode": {
    "name": "ipython",
    "version": 3
   },
   "file_extension": ".py",
   "mimetype": "text/x-python",
   "name": "python",
   "nbconvert_exporter": "python",
   "pygments_lexer": "ipython3",
   "version": "3.11.4"
  }
 },
 "nbformat": 4,
 "nbformat_minor": 4
}
